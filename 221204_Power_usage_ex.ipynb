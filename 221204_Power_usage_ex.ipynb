{
  "nbformat": 4,
  "nbformat_minor": 0,
  "metadata": {
    "colab": {
      "provenance": []
    },
    "kernelspec": {
      "name": "python3",
      "display_name": "Python 3"
    },
    "language_info": {
      "name": "python"
    }
  },
  "cells": [
    {
      "cell_type": "code",
      "execution_count": null,
      "metadata": {
        "colab": {
          "base_uri": "https://localhost:8080/"
        },
        "id": "QukMAR1BB1zA",
        "outputId": "01417ab2-3f46-4bf6-a267-421bbafa8abb"
      },
      "outputs": [
        {
          "output_type": "stream",
          "name": "stdout",
          "text": [
            "'전력+사용량(용도별)_20221130162951.csv'   \u001b[0m\u001b[01;34msample_data\u001b[0m/\n",
            " pycharm-community-2022.2.4.exe\n"
          ]
        }
      ],
      "source": [
        "%ls"
      ]
    },
    {
      "cell_type": "code",
      "source": [
        "columns = '소계\t 소계\t 소계\t 소계\t 전철\t 수도\t 사업자용\t 순수서비스\t 소계\t 농립어업\t 광업\t 제조업\t 소계\t 소계\t 소계\t 소계\t 전철\t 수도\t 사업자용\t 순수서비스\t 소계\t 농립어업\t 광업\t 제조업\t 소계\t 소계\t 소계\t 소계\t 전철\t 수도\t 사업자용\t 순수서비스\t 소계\t 농립어업\t 광업\t 제조업'.split('\\t ')"
      ],
      "metadata": {
        "id": "kqWE4OxJCKco"
      },
      "execution_count": null,
      "outputs": []
    },
    {
      "cell_type": "code",
      "source": [
        "import pandas as pd\n",
        "use_elec_pd = pd.read_csv('전력+사용량(용도별)_20221130162951.csv', header = [0,1,2,3])"
      ],
      "metadata": {
        "id": "xj7GBS8LCOJd"
      },
      "execution_count": null,
      "outputs": []
    },
    {
      "cell_type": "code",
      "source": [
        "import pandas as pd\n",
        "use_elec_pd = pd.read_csv('전력+사용량(용도별)_20221130162951.csv', header = [0,1,2,3])"
      ],
      "metadata": {
        "id": "qtKBSmsqCQmV"
      },
      "execution_count": null,
      "outputs": []
    },
    {
      "cell_type": "code",
      "source": [
        "columns = set([c[0] for idx, c in enumerate(use_elec_pd.columns) if idx>=3])\n",
        "columns"
      ],
      "metadata": {
        "colab": {
          "base_uri": "https://localhost:8080/"
        },
        "id": "hQXjgsksCbbC",
        "outputId": "fe1046ec-3c9e-4154-90c9-3019ab76640e"
      },
      "execution_count": null,
      "outputs": [
        {
          "output_type": "execute_result",
          "data": {
            "text/plain": [
              "{'2021. 10', '2021. 11', '2021. 12'}"
            ]
          },
          "metadata": {},
          "execution_count": 7
        }
      ]
    },
    {
      "cell_type": "code",
      "source": [
        "total_list = [use_elec_pd[i]['합계']['소계']['소계'][0] for i in columns]"
      ],
      "metadata": {
        "id": "_yCLaudQCkHo"
      },
      "execution_count": null,
      "outputs": []
    },
    {
      "cell_type": "code",
      "source": [
        "total_list"
      ],
      "metadata": {
        "colab": {
          "base_uri": "https://localhost:8080/"
        },
        "id": "M7rrQvcVCmH2",
        "outputId": "f5d79b5b-894b-4207-90e1-6e63059431ed"
      },
      "execution_count": null,
      "outputs": [
        {
          "output_type": "execute_result",
          "data": {
            "text/plain": [
              "[3578614, 3963700, 3537141]"
            ]
          },
          "metadata": {},
          "execution_count": 9
        }
      ]
    },
    {
      "cell_type": "code",
      "source": [
        "from collections import defaultdict\n",
        "kind_elect = defaultdict(list)\n",
        "total = []\n",
        "index = []\n",
        "for date in columns:\n",
        "  index.append(date)\n",
        "  total.append(use_elec_pd[date]['합계']['소계']['소계'][0])\n",
        "  sec_columns = use_elec_pd[date]['합계'].columns\n",
        "  sec_columns = set([value[0] for idx,value in enumerate(sec_columns) if value!='소계'])\n",
        "  # print(sec_columns)\n",
        "  \n",
        "  for kind in sec_columns:\n",
        "    if kind != '소계':\n",
        "      kind_elect[kind].append(use_elec_pd[date]['합계'][kind]['소계'][0])"
      ],
      "metadata": {
        "id": "YxmfBuf0CngZ"
      },
      "execution_count": null,
      "outputs": []
    },
    {
      "cell_type": "code",
      "source": [
        "index, total, kind_elect"
      ],
      "metadata": {
        "colab": {
          "base_uri": "https://localhost:8080/"
        },
        "id": "U1NxcOreCp0g",
        "outputId": "a3d9b71e-2c67-487f-b82f-3daad7642b07"
      },
      "execution_count": null,
      "outputs": [
        {
          "output_type": "execute_result",
          "data": {
            "text/plain": [
              "(['2021. 10', '2021. 12', '2021. 11'],\n",
              " [3578614, 3963700, 3537141],\n",
              " defaultdict(list,\n",
              "             {'산업용': [110820, 128338, 115192],\n",
              "              '서비스업': [2107191, 2352648, 2050450],\n",
              "              '가정용': [1106205, 1146475, 1101163],\n",
              "              '공공용': [254397, 336239, 270336]}))"
            ]
          },
          "metadata": {},
          "execution_count": 11
        }
      ]
    },
    {
      "cell_type": "code",
      "source": [
        "import matplotlib.pyplot as plt\n",
        "plt.plot(total, label='total')\n",
        "for key, value in kind_elect.items():\n",
        "  plt.plot(value, label=key)\n",
        "plt.legend()\n",
        "plt.show()"
      ],
      "metadata": {
        "id": "SYVUcQNICsf_",
        "outputId": "7bf174fb-2906-4f8a-e352-5a28fce8ec5f",
        "colab": {
          "base_uri": "https://localhost:8080/",
          "height": 959
        }
      },
      "execution_count": null,
      "outputs": [
        {
          "output_type": "stream",
          "name": "stderr",
          "text": [
            "/usr/local/lib/python3.8/dist-packages/matplotlib/backends/backend_agg.py:214: RuntimeWarning: Glyph 49328 missing from current font.\n",
            "  font.set_text(s, 0.0, flags=flags)\n",
            "/usr/local/lib/python3.8/dist-packages/matplotlib/backends/backend_agg.py:214: RuntimeWarning: Glyph 50629 missing from current font.\n",
            "  font.set_text(s, 0.0, flags=flags)\n",
            "/usr/local/lib/python3.8/dist-packages/matplotlib/backends/backend_agg.py:214: RuntimeWarning: Glyph 50857 missing from current font.\n",
            "  font.set_text(s, 0.0, flags=flags)\n",
            "/usr/local/lib/python3.8/dist-packages/matplotlib/backends/backend_agg.py:214: RuntimeWarning: Glyph 49436 missing from current font.\n",
            "  font.set_text(s, 0.0, flags=flags)\n",
            "/usr/local/lib/python3.8/dist-packages/matplotlib/backends/backend_agg.py:214: RuntimeWarning: Glyph 48708 missing from current font.\n",
            "  font.set_text(s, 0.0, flags=flags)\n",
            "/usr/local/lib/python3.8/dist-packages/matplotlib/backends/backend_agg.py:214: RuntimeWarning: Glyph 49828 missing from current font.\n",
            "  font.set_text(s, 0.0, flags=flags)\n",
            "/usr/local/lib/python3.8/dist-packages/matplotlib/backends/backend_agg.py:214: RuntimeWarning: Glyph 44032 missing from current font.\n",
            "  font.set_text(s, 0.0, flags=flags)\n",
            "/usr/local/lib/python3.8/dist-packages/matplotlib/backends/backend_agg.py:214: RuntimeWarning: Glyph 51221 missing from current font.\n",
            "  font.set_text(s, 0.0, flags=flags)\n",
            "/usr/local/lib/python3.8/dist-packages/matplotlib/backends/backend_agg.py:214: RuntimeWarning: Glyph 44277 missing from current font.\n",
            "  font.set_text(s, 0.0, flags=flags)\n",
            "/usr/local/lib/python3.8/dist-packages/matplotlib/backends/backend_agg.py:183: RuntimeWarning: Glyph 49328 missing from current font.\n",
            "  font.set_text(s, 0, flags=flags)\n",
            "/usr/local/lib/python3.8/dist-packages/matplotlib/backends/backend_agg.py:183: RuntimeWarning: Glyph 50629 missing from current font.\n",
            "  font.set_text(s, 0, flags=flags)\n",
            "/usr/local/lib/python3.8/dist-packages/matplotlib/backends/backend_agg.py:183: RuntimeWarning: Glyph 50857 missing from current font.\n",
            "  font.set_text(s, 0, flags=flags)\n",
            "/usr/local/lib/python3.8/dist-packages/matplotlib/backends/backend_agg.py:183: RuntimeWarning: Glyph 49436 missing from current font.\n",
            "  font.set_text(s, 0, flags=flags)\n",
            "/usr/local/lib/python3.8/dist-packages/matplotlib/backends/backend_agg.py:183: RuntimeWarning: Glyph 48708 missing from current font.\n",
            "  font.set_text(s, 0, flags=flags)\n",
            "/usr/local/lib/python3.8/dist-packages/matplotlib/backends/backend_agg.py:183: RuntimeWarning: Glyph 49828 missing from current font.\n",
            "  font.set_text(s, 0, flags=flags)\n",
            "/usr/local/lib/python3.8/dist-packages/matplotlib/backends/backend_agg.py:183: RuntimeWarning: Glyph 44032 missing from current font.\n",
            "  font.set_text(s, 0, flags=flags)\n",
            "/usr/local/lib/python3.8/dist-packages/matplotlib/backends/backend_agg.py:183: RuntimeWarning: Glyph 51221 missing from current font.\n",
            "  font.set_text(s, 0, flags=flags)\n",
            "/usr/local/lib/python3.8/dist-packages/matplotlib/backends/backend_agg.py:183: RuntimeWarning: Glyph 44277 missing from current font.\n",
            "  font.set_text(s, 0, flags=flags)\n"
          ]
        },
        {
          "output_type": "display_data",
          "data": {
            "text/plain": [
              "<Figure size 432x288 with 1 Axes>"
            ],
            "image/png": "[encoded data removed]"
          },
          "metadata": {
            "needs_background": "light"
          }
        }
      ]
    },
    {
      "cell_type": "code",
      "source": [],
      "metadata": {
        "id": "cC9MpZVKCvEW"
      },
      "execution_count": null,
      "outputs": []
    }
  ]
}