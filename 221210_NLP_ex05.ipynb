{
  "nbformat": 4,
  "nbformat_minor": 0,
  "metadata": {
    "colab": {
      "provenance": []
    },
    "kernelspec": {
      "name": "python3",
      "display_name": "Python 3"
    },
    "language_info": {
      "name": "python"
    }
  },
  "cells": [
    {
      "cell_type": "code",
      "execution_count": null,
      "metadata": {
        "id": "IHB25fA57Uug"
      },
      "outputs": [],
      "source": [
        "# 단어 중요도에 가중치 부여하기\n",
        "import numpy as np\n",
        "from sklearn.feature_extraction.text import TfidfVectorizer"
      ]
    },
    {
      "cell_type": "code",
      "source": [
        "text_data = np.array(\n",
        "    ['I love Brazil. Brail!', 'Sweden is best', 'Germany beats both']\n",
        ")\n",
        "\n",
        "# tf-idf 특성 행렬을 만듭니다.\n",
        "tfidf = TfidfVectorizer()\n",
        "feature_matrix = tfidf.fit_transform(text_data)\n",
        "feature_matrix.toarray() #tf-idf 특성 행렬을 밀집 배열로 확인\n",
        "# print(feature_matrix)\n",
        "# 특성 이름을 확인\n",
        "tf = tfidf.vocabulary_\n",
        "print(\"...\", tf)"
      ],
      "metadata": {
        "colab": {
          "base_uri": "https://localhost:8080/"
        },
        "id": "_mS1_lUA7fWE",
        "outputId": "18d7637b-18fa-4e08-9b95-772b1669a833"
      },
      "execution_count": null,
      "outputs": [
        {
          "output_type": "stream",
          "name": "stdout",
          "text": [
            "... {'love': 7, 'brazil': 4, 'brail': 3, 'sweden': 8, 'is': 6, 'best': 1, 'germany': 5, 'beats': 0, 'both': 2}\n"
          ]
        }
      ]
    },
    {
      "cell_type": "code",
      "source": [],
      "metadata": {
        "id": "EHVT9wKE8bkM"
      },
      "execution_count": null,
      "outputs": []
    }
  ]
}