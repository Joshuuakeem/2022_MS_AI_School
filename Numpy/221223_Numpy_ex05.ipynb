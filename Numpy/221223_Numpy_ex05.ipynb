{
  "nbformat": 4,
  "nbformat_minor": 0,
  "metadata": {
    "colab": {
      "provenance": []
    },
    "kernelspec": {
      "name": "python3",
      "display_name": "Python 3"
    },
    "language_info": {
      "name": "python"
    }
  },
  "cells": [
    {
      "cell_type": "code",
      "execution_count": null,
      "metadata": {
        "colab": {
          "base_uri": "https://localhost:8080/"
        },
        "id": "oqqyDMEmBiG8",
        "outputId": "cce05896-3bd4-45c9-b5ac-5b8d0511825e"
      },
      "outputs": [
        {
          "output_type": "stream",
          "name": "stdout",
          "text": [
            "[ 0.   2.5  5.   7.5 10. ]\n"
          ]
        }
      ],
      "source": [
        "import numpy as np\n",
        "# linspace[시작, 끝, 시작과 끝사이에 몇개의 데이터]\n",
        "array = np.linspace(0, 10, 5)\n",
        "print(array)\n",
        "\n",
        "#Dummy data 생성할 때 주로 쓰임"
      ]
    },
    {
      "cell_type": "code",
      "source": [],
      "metadata": {
        "id": "l3XKkpalBwaE"
      },
      "execution_count": null,
      "outputs": []
    }
  ]
}