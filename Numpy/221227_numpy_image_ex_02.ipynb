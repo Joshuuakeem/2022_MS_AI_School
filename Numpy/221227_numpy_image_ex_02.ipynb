{
  "nbformat": 4,
  "nbformat_minor": 0,
  "metadata": {
    "colab": {
      "provenance": []
    },
    "kernelspec": {
      "name": "python3",
      "display_name": "Python 3"
    },
    "language_info": {
      "name": "python"
    }
  },
  "cells": [
    {
      "cell_type": "code",
      "execution_count": null,
      "metadata": {
        "id": "NImshA9zYrMm"
      },
      "outputs": [],
      "source": [
        "import matplotlib.pyplot as plt\n",
        "\n",
        "image_path = \"./IU.jpg\"\n",
        "\n",
        "# 이미지 읽기\n",
        "image = cv2.imread(image_path)\n",
        "\n",
        "# RGB 타입 변환\n",
        "image_rgb = cv2.cvtColor(image, cv2.COLOR_BGR2RGB)\n",
        "\n",
        "# 사이즈 변환\n",
        "image_50x50 = cv2.resize(image, (50, 50))\n",
        "\n",
        "cv2.imwrite(\"./IU_image_50x50.png\", image_50x50)\n",
        "flg, ax = plt.subplots(1, 2, figsize=(10, 5))\n",
        "ax[0].imshow(image_rgb)\n",
        "ax[0].set_title(\"Original Image\")\n",
        "ax[1].imshow(image_50x50)\n",
        "ax[1].set_title(\"Resize Image\")\n",
        "plt.show()"
      ]
    }
  ]
}