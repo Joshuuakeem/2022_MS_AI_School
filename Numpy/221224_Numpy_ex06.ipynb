{
  "nbformat": 4,
  "nbformat_minor": 0,
  "metadata": {
    "colab": {
      "provenance": []
    },
    "kernelspec": {
      "name": "python3",
      "display_name": "Python 3"
    },
    "language_info": {
      "name": "python"
    }
  },
  "cells": [
    {
      "cell_type": "code",
      "execution_count": null,
      "metadata": {
        "colab": {
          "base_uri": "https://localhost:8080/"
        },
        "id": "HJp5_jZkG3bN",
        "outputId": "fecec171-88b5-42ad-bcff-164b0c47c95e"
      },
      "outputs": [
        {
          "output_type": "stream",
          "name": "stdout",
          "text": [
            "[[6 0 9]\n",
            " [8 3 8]]\n"
          ]
        }
      ],
      "source": [
        "import numpy as np\n",
        "\n",
        "# 실행마다 결과 동일\n",
        "# 랜덤한 값이 실행할 때마다 변경되지 않도록 Seed 만듭니다.\n",
        "np.random.seed(7777)\n",
        "print(np.random.randint(0, 10, (2,3)))"
      ]
    },
    {
      "cell_type": "code",
      "source": [],
      "metadata": {
        "id": "pQ_WmQ_GHDwF"
      },
      "execution_count": null,
      "outputs": []
    }
  ]
}