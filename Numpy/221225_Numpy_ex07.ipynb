{
  "nbformat": 4,
  "nbformat_minor": 0,
  "metadata": {
    "colab": {
      "provenance": []
    },
    "kernelspec": {
      "name": "python3",
      "display_name": "Python 3"
    },
    "language_info": {
      "name": "python"
    }
  },
  "cells": [
    {
      "cell_type": "code",
      "execution_count": null,
      "metadata": {
        "id": "J9P491EMIXbt"
      },
      "outputs": [],
      "source": [
        "import numpy as np"
      ]
    },
    {
      "cell_type": "code",
      "source": [
        "array1 = np.arange(0, 10)\n",
        "array2 = array1.copy()\n",
        "array2[0] = 99\n",
        "print(array1)\n",
        "print(array2)"
      ],
      "metadata": {
        "colab": {
          "base_uri": "https://localhost:8080/"
        },
        "id": "XRfsrUxIIaI6",
        "outputId": "9bd2604f-ecec-4c1b-a0bb-0951cb43316d"
      },
      "execution_count": null,
      "outputs": [
        {
          "output_type": "stream",
          "name": "stdout",
          "text": [
            "[0 1 2 3 4 5 6 7 8 9]\n",
            "[99  1  2  3  4  5  6  7  8  9]\n"
          ]
        }
      ]
    },
    {
      "cell_type": "code",
      "source": [
        "# numpy 중복된 원소 제거\n",
        "array = np.array([1, 2, 1, 2, 3, 4, 3, 4, 5])\n",
        "print(\"중복 처리 전 >>\", array)\n",
        "# 중복 처리 전 >> [1 2 1 2 3 4 3 4 5]\n",
        "print(\"중복 처리 후 >>\", np.unique(array))"
      ],
      "metadata": {
        "colab": {
          "base_uri": "https://localhost:8080/"
        },
        "id": "InrlvIsGI_Ix",
        "outputId": "bac9979a-7988-4799-ea4b-7cca3454a9ed"
      },
      "execution_count": null,
      "outputs": [
        {
          "output_type": "stream",
          "name": "stdout",
          "text": [
            "중복 처리 전 >> [1 2 1 2 3 4 3 4 5]\n",
            "중복 처리 후 >> [1 2 3 4 5]\n"
          ]
        }
      ]
    },
    {
      "cell_type": "code",
      "source": [
        "# np.isin() -> 내가 찾는게 있는지 여부 각 index 위치에  true false\n",
        "array = np.array([1, 2, 3, 4, 5, 6, 7])\n",
        "\n",
        "iwantit = np.array([1, 2, 3, 10])\n",
        "\n",
        "print(np.isin(array, iwantit))"
      ],
      "metadata": {
        "colab": {
          "base_uri": "https://localhost:8080/"
        },
        "id": "6mvpb5FIKH21",
        "outputId": "0871b2b8-e759-4e95-878c-d01f496f9c40"
      },
      "execution_count": null,
      "outputs": [
        {
          "output_type": "stream",
          "name": "stdout",
          "text": [
            "[ True  True  True False False False False]\n"
          ]
        }
      ]
    },
    {
      "cell_type": "code",
      "source": [],
      "metadata": {
        "id": "JUfKDLPTLDR4"
      },
      "execution_count": null,
      "outputs": []
    }
  ]
}