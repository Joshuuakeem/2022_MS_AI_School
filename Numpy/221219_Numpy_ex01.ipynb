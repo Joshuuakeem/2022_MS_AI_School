{
  "nbformat": 4,
  "nbformat_minor": 0,
  "metadata": {
    "colab": {
      "provenance": []
    },
    "kernelspec": {
      "name": "python3",
      "display_name": "Python 3"
    },
    "language_info": {
      "name": "python"
    }
  },
  "cells": [
    {
      "cell_type": "code",
      "execution_count": null,
      "metadata": {
        "id": "9fjbcHzZ1XBM"
      },
      "outputs": [],
      "source": [
        "import numpy as np"
      ]
    },
    {
      "cell_type": "code",
      "source": [
        "# 단일 객체 저장 및 불러오기\n",
        "array = np.arange(0, 10)\n",
        "print(array)\n",
        "\n",
        "# 결과 -> [0 1 2 3 4 5 6 7 8 9]\n",
        "\n",
        "# .npy 파일에다가 저장하기\n",
        "np.save(\"./save.npy\", array)\n",
        "\n",
        "# 불러오기\n",
        "result = np.load('./save.npy')\n",
        "print(\"result >> \", result)"
      ],
      "metadata": {
        "colab": {
          "base_uri": "https://localhost:8080/"
        },
        "id": "EFunHKg04u65",
        "outputId": "ea356cc6-7911-420f-f639-65ac7168feac"
      },
      "execution_count": null,
      "outputs": [
        {
          "output_type": "stream",
          "name": "stdout",
          "text": [
            "[0 1 2 3 4 5 6 7 8 9]\n",
            "result >>  [0 1 2 3 4 5 6 7 8 9]\n"
          ]
        }
      ]
    },
    {
      "cell_type": "code",
      "source": [],
      "metadata": {
        "id": "AocEYloK8PmR"
      },
      "execution_count": null,
      "outputs": []
    }
  ]
}