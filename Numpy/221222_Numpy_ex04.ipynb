{
  "nbformat": 4,
  "nbformat_minor": 0,
  "metadata": {
    "colab": {
      "provenance": []
    },
    "kernelspec": {
      "name": "python3",
      "display_name": "Python 3"
    },
    "language_info": {
      "name": "python"
    }
  },
  "cells": [
    {
      "cell_type": "code",
      "execution_count": null,
      "metadata": {
        "id": "iNaZhPoq_cCn"
      },
      "outputs": [],
      "source": [
        "import numpy as np"
      ]
    },
    {
      "cell_type": "code",
      "source": [
        "array = np.array([[5, 2, 7, 6], [2, 3, 10, 15]])\n",
        "print(\"각 열을 기준으로 정렬 전 \\n\", array)"
      ],
      "metadata": {
        "colab": {
          "base_uri": "https://localhost:8080/"
        },
        "id": "nv8uujdq_gep",
        "outputId": "0af2f9f6-873a-4141-f9fc-740da9eca71e"
      },
      "execution_count": null,
      "outputs": [
        {
          "output_type": "stream",
          "name": "stdout",
          "text": [
            "각 열을 기준으로 정렬 전 \n",
            " [[ 5  2  7  6]\n",
            " [ 2  3 10 15]]\n"
          ]
        }
      ]
    },
    {
      "cell_type": "code",
      "source": [
        "array.sort(axis=0)\n",
        "print(\"각 열을 기준으로 정렬 후 \\n\", array)"
      ],
      "metadata": {
        "colab": {
          "base_uri": "https://localhost:8080/"
        },
        "id": "-_8XIkq9AO9B",
        "outputId": "d9df35c9-0229-4bb7-d806-786f8e21a789"
      },
      "execution_count": null,
      "outputs": [
        {
          "output_type": "stream",
          "name": "stdout",
          "text": [
            "각 열을 기준으로 정렬 후 \n",
            " [[ 2  2  7  6]\n",
            " [ 5  3 10 15]]\n"
          ]
        }
      ]
    },
    {
      "cell_type": "code",
      "source": [],
      "metadata": {
        "id": "_Y2KMTgXAPh7"
      },
      "execution_count": null,
      "outputs": []
    }
  ]
}