{
  "nbformat": 4,
  "nbformat_minor": 0,
  "metadata": {
    "colab": {
      "provenance": []
    },
    "kernelspec": {
      "name": "python3",
      "display_name": "Python 3"
    },
    "language_info": {
      "name": "python"
    }
  },
  "cells": [
    {
      "cell_type": "code",
      "execution_count": null,
      "metadata": {
        "id": "M5WfGt9bcEAI"
      },
      "outputs": [],
      "source": [
        "import cv2\n",
        "\n",
        "def image_show(image):\n",
        "  cv2.imshow(\"show\", image)\n",
        "  cv2.waitKey(0)\n",
        "\n",
        "image_path = \"./cat.jpg\"\n",
        "\n",
        "# 이미지 읽기\n",
        "image = cv2.imread(image_path)\n",
        "\n",
        "# 이미지 크롭 [시작 : 끝 : 단계]\n",
        "image_crop = image[10:, :500]\n",
        "\n",
        "# 저장코드 추가 png 파일 저장\n",
        "\n",
        "\n",
        "image_show(image_crop)"
      ]
    }
  ]
}