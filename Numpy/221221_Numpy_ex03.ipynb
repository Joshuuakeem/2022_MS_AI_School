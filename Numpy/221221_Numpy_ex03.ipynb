{
  "nbformat": 4,
  "nbformat_minor": 0,
  "metadata": {
    "colab": {
      "provenance": []
    },
    "kernelspec": {
      "name": "python3",
      "display_name": "Python 3"
    },
    "language_info": {
      "name": "python"
    }
  },
  "cells": [
    {
      "cell_type": "code",
      "execution_count": null,
      "metadata": {
        "colab": {
          "base_uri": "https://localhost:8080/"
        },
        "id": "2C_-tXsx9EK8",
        "outputId": "1fb0721a-21e4-4364-97ea-1775fc587d74"
      },
      "outputs": [
        {
          "output_type": "stream",
          "name": "stdout",
          "text": [
            "오름차순 >>  [ 5  7 12 15 20]\n"
          ]
        }
      ],
      "source": [
        "# Numpy 가장 많이 사용되는 함수\n",
        "# 1. 원소 정렬\n",
        "import numpy as np\n",
        "# def -> 오름차순 정렬 형태\n",
        "array = np.array([15, 20, 5, 12, 7])\n",
        "np.save(\"./array.npy\", array)\n",
        "array_data = np.load('./array.npy')\n",
        "array_data.sort()\n",
        "print(\"오름차순 >> \", array_data)\n"
      ]
    },
    {
      "cell_type": "code",
      "source": [
        "#내림차순 정렬\n",
        "print(\"내림차순 >> \", array_data[::-1])"
      ],
      "metadata": {
        "colab": {
          "base_uri": "https://localhost:8080/"
        },
        "id": "RMXMbmJN93Iw",
        "outputId": "02ab5dfb-6f37-47a1-8a12-5549d9775c2a"
      },
      "execution_count": null,
      "outputs": [
        {
          "output_type": "stream",
          "name": "stdout",
          "text": [
            "내림차순 >>  [20 15 12  7  5]\n"
          ]
        }
      ]
    },
    {
      "cell_type": "code",
      "source": [],
      "metadata": {
        "id": "o4XfX3xv-q0U"
      },
      "execution_count": null,
      "outputs": []
    }
  ]
}