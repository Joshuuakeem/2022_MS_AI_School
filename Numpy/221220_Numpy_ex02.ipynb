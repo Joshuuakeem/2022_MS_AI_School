{
  "nbformat": 4,
  "nbformat_minor": 0,
  "metadata": {
    "colab": {
      "provenance": []
    },
    "kernelspec": {
      "name": "python3",
      "display_name": "Python 3"
    },
    "language_info": {
      "name": "python"
    }
  },
  "cells": [
    {
      "cell_type": "code",
      "execution_count": null,
      "metadata": {
        "colab": {
          "base_uri": "https://localhost:8080/"
        },
        "id": "Huo_xgXO6XR4",
        "outputId": "de6e1cdc-4a15-483e-9272-1d5b42af4666"
      },
      "outputs": [
        {
          "output_type": "stream",
          "name": "stdout",
          "text": [
            "[0 1 2 3 4 5 6 7 8 9] [ 0  1  2  3  4  5  6  7  8  9 10 11 12 13 14 15 16 17 18 19]\n"
          ]
        }
      ],
      "source": [
        "import numpy as np\n",
        "\n",
        "# 복수 객체 저장을 위한 데이터 생성\n",
        "array1 = np.arange(0, 10)\n",
        "array2 = np.arange(0, 20)\n",
        "print(array1, array2)"
      ]
    },
    {
      "cell_type": "code",
      "source": [
        "# 저장하기\n",
        "np.savez('./save.npz', array1=array1, array2=array2)"
      ],
      "metadata": {
        "id": "lTGy8MMg6wdk"
      },
      "execution_count": null,
      "outputs": []
    },
    {
      "cell_type": "code",
      "source": [
        "# 객체 불러오기\n",
        "data = np.load('./save.npz')\n",
        "result1 = data['array1']\n",
        "result2 = data['array2']\n",
        "\n",
        "print(\"result1 >>\", result1)\n",
        "print(\"result2 >>\", result2)"
      ],
      "metadata": {
        "colab": {
          "base_uri": "https://localhost:8080/"
        },
        "id": "vIoDuShU7NFt",
        "outputId": "8bae74ab-ee6b-450f-e0ad-0affdf2628e2"
      },
      "execution_count": null,
      "outputs": [
        {
          "output_type": "stream",
          "name": "stdout",
          "text": [
            "result1 >> [0 1 2 3 4 5 6 7 8 9]\n",
            "result2 >> [ 0  1  2  3  4  5  6  7  8  9 10 11 12 13 14 15 16 17 18 19]\n"
          ]
        }
      ]
    },
    {
      "cell_type": "code",
      "source": [],
      "metadata": {
        "id": "cJU1MuN77Raj"
      },
      "execution_count": null,
      "outputs": []
    }
  ]
}