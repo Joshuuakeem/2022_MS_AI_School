{
  "nbformat": 4,
  "nbformat_minor": 0,
  "metadata": {
    "colab": {
      "provenance": []
    },
    "kernelspec": {
      "name": "python3",
      "display_name": "Python 3"
    },
    "language_info": {
      "name": "python"
    }
  },
  "cells": [
    {
      "cell_type": "code",
      "execution_count": null,
      "metadata": {
        "id": "Z1Q4JjZsFr1x"
      },
      "outputs": [],
      "source": [
        "# 넷플릭스 영화 추천 시스템 구현\n",
        "import pandas as pd\n",
        "import numpy as np\n",
        "from math import sqrt"
      ]
    },
    {
      "cell_type": "code",
      "source": [
        "#데이터 읽어오기\n",
        "# 1205 현재 위치 -> 2개 csv 존재\n",
        "movies = pd.read_csv(\"./movies.csv\")\n",
        "ratings = pd.read_csv(\"./ratings.csv\")\n",
        "\n",
        "print(ratings)"
      ],
      "metadata": {
        "colab": {
          "base_uri": "https://localhost:8080/"
        },
        "id": "ylAlUPiUGMVz",
        "outputId": "59c2daa9-5034-402f-c3ec-94a6637adbd3"
      },
      "execution_count": null,
      "outputs": [
        {
          "output_type": "stream",
          "name": "stdout",
          "text": [
            "         userId  movieId  rating   timestamp\n",
            "0             1        2     3.5  1112486027\n",
            "1             1       29     3.5  1112484676\n",
            "2             1       32     3.5  1112484819\n",
            "3             1       47     3.5  1112484727\n",
            "4             1       50     3.5  1112484580\n",
            "...         ...      ...     ...         ...\n",
            "1048570    7120      168     5.0  1175543061\n",
            "1048571    7120      253     4.0  1175542225\n",
            "1048572    7120      260     5.0  1175542035\n",
            "1048573    7120      261     4.0  1175543376\n",
            "1048574    7120      266     3.5  1175542454\n",
            "\n",
            "[1048575 rows x 4 columns]\n"
          ]
        }
      ]
    },
    {
      "cell_type": "code",
      "source": [
        "# 아이템 기반 협업 필터링 구현\n",
        "data = pd.merge(ratings, movies, on=\"movieId\")\n",
        "column = ['userId', 'movieId', 'rating', 'title', 'genres']\n",
        "data = data[column]\n",
        "\n",
        "moviedata = data.pivot_table(index=\"movieId\", columns='userId')['rating']\n",
        "\n",
        "# NaN 값을 -1 로 변경\n",
        "moviedata.fillna(-1, inplace=True)\n",
        "\n",
        "\n",
        "def sim_distance(data, n1, n2):\n",
        "    # kdd 유사도 함수\n",
        "    sum = 0\n",
        "    # 두 사용자가 모두 본 영화를 기준\n",
        "    for i in data.loc[n1, data.loc[n1, :] >= 0].index:\n",
        "        if data.loc[n2, i] >= 0:\n",
        "            # 누적합\n",
        "            sum += pow(data.loc[n1, i]-data.loc[n2, i], 2)\n",
        "    return sqrt(1/(sum+1))  # 유사도 형식으로 출력"
      ],
      "metadata": {
        "id": "-6vGkYsaGkY5"
      },
      "execution_count": null,
      "outputs": []
    },
    {
      "cell_type": "code",
      "source": [
        "def top_match(data, name, rank = 5, simf = sim_distance):\n",
        "  # 나와 유사도가 높은 유저 매칭\n",
        "  simList = []\n",
        "  for i in data.index[-10:]:\n",
        "    if name !=i :\n",
        "      simList.append((simf(data, name, i), i))\n",
        "    simList.sort()\n",
        "    simList.reverse()\n",
        "    return simList[:rank]"
      ],
      "metadata": {
        "id": "6ZS8JkuwHuVH"
      },
      "execution_count": null,
      "outputs": []
    },
    {
      "cell_type": "code",
      "source": [
        "def recommendation(data, person, simf=sim_distance):\n",
        "    # 추천 시스템 함수\n",
        "    result_top = top_match(data, person, len(data))\n",
        "    score_dic = {}\n",
        "    sim_dic = {}\n",
        "    my_list = []\n",
        "    for sim, name in result_top:\n",
        "        if sim < 0:\n",
        "            continue\n",
        "        for movie in data.loc[person, data.loc[person, :] < 0].index:\n",
        "            sim_sum = 0\n",
        "            if data.loc[name, movie] >= 0:\n",
        "                sim_sum += data.loc[name, movie]\n",
        "\n",
        "                score_dic.setdefault(movie, 0)\n",
        "                score_dic[movie] += sim_sum\n",
        "\n",
        "                sim_dic.setdefault(movie, 0)\n",
        "                sim_dic[movie] += sim\n",
        "\n",
        "    for key in score_dic:\n",
        "        my_list.append((score_dic[key]/sim_dic[key], key))\n",
        "    my_list.sort()\n",
        "    my_list.reverse()\n",
        "    return my_list"
      ],
      "metadata": {
        "id": "k2hGCuM3LfYG"
      },
      "execution_count": null,
      "outputs": []
    },
    {
      "cell_type": "code",
      "source": [
        "# 20번 user가 안본 영화중에서 추천 점수가 가장 높은 순으로 예상 평점과 영화 제목을 추천(15개까지)\n",
        "movie_list = []\n",
        "for rate, m_id in recommendation(moviedata, 20):\n",
        "    movie_list.append((rate, movies.loc[movies['movieId'] == m_id,\n",
        "                                        'title'].values[0]))\n",
        "    if len(movie_list) == 15:\n",
        "        break\n",
        "\n",
        "print(movie_list[:15])"
      ],
      "metadata": {
        "colab": {
          "base_uri": "https://localhost:8080/"
        },
        "id": "o0YB3w9uie6T",
        "outputId": "d2d37614-3d58-4016-fbed-1207fc4c90f3"
      },
      "execution_count": null,
      "outputs": [
        {
          "output_type": "stream",
          "name": "stdout",
          "text": [
            "[(3.5, 'Born Yesterday (1993)')]\n"
          ]
        }
      ]
    },
    {
      "cell_type": "code",
      "source": [],
      "metadata": {
        "id": "ehYwI3oAiiAj"
      },
      "execution_count": null,
      "outputs": []
    }
  ]
}