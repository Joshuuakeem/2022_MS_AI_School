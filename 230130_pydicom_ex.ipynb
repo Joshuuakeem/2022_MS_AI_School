{
  "nbformat": 4,
  "nbformat_minor": 0,
  "metadata": {
    "colab": {
      "provenance": []
    },
    "kernelspec": {
      "name": "python3",
      "display_name": "Python 3"
    },
    "language_info": {
      "name": "python"
    }
  },
  "cells": [
    {
      "cell_type": "code",
      "execution_count": null,
      "metadata": {
        "colab": {
          "base_uri": "https://localhost:8080/"
        },
        "id": "mWCgKzNqCb9e",
        "outputId": "a1205347-64b5-435d-f452-d93658856893"
      },
      "outputs": [
        {
          "output_type": "stream",
          "name": "stdout",
          "text": [
            "Looking in indexes: https://pypi.org/simple, https://us-python.pkg.dev/colab-wheels/public/simple/\n",
            "Collecting pydicom\n",
            "  Downloading pydicom-2.3.1-py3-none-any.whl (2.0 MB)\n",
            "\u001b[K     |████████████████████████████████| 2.0 MB 13.3 MB/s \n",
            "\u001b[?25hInstalling collected packages: pydicom\n",
            "Successfully installed pydicom-2.3.1\n"
          ]
        }
      ],
      "source": [
        "!pip install pydicom\n",
        "\n",
        "import pydicom\n",
        "import numpy as np\n",
        "import matplotlib.pyplot as plt\n",
        "from pydicom.pixel_data_handlers.util import apply_modality_lut, apply_voi_lut\n"
      ]
    },
    {
      "cell_type": "code",
      "source": [
        "window_center = -600\n",
        "window_width = 1600\n",
        "\n",
        "# DICOM 파일 읽어주는 함수 -> pydicom.read_file(), pydicom.dcmread()\n",
        "slice = pydicom.read_file(\"./ID_0000_AGE_0060_CONTRAST_1_CT.dcm\")\n",
        "\n",
        "print(slice)"
      ],
      "metadata": {
        "colab": {
          "base_uri": "https://localhost:8080/"
        },
        "id": "7qO6BhbsCjGx",
        "outputId": "e8ace455-05d0-4418-ec5e-38892ad86c20"
      },
      "execution_count": null,
      "outputs": [
        {
          "output_type": "stream",
          "name": "stdout",
          "text": [
            "Dataset.file_meta -------------------------------\n",
            "(0002, 0000) File Meta Information Group Length  UL: 194\n",
            "(0002, 0001) File Meta Information Version       OB: b'\\x00\\x01'\n",
            "(0002, 0002) Media Storage SOP Class UID         UI: CT Image Storage\n",
            "(0002, 0003) Media Storage SOP Instance UID      UI: 1.3.6.1.4.1.14519.5.2.1.7777.9002.108821836759549281694712274169\n",
            "(0002, 0010) Transfer Syntax UID                 UI: Implicit VR Little Endian\n",
            "(0002, 0012) Implementation Class UID            UI: 1.2.40.0.13.1.1.1\n",
            "(0002, 0013) Implementation Version Name         SH: 'dcm4che-1.4.31'\n",
            "-------------------------------------------------\n",
            "(0008, 0000) Group Length                        UL: 430\n",
            "(0008, 0005) Specific Character Set              CS: 'ISO_IR 100'\n",
            "(0008, 0008) Image Type                          CS: ['ORIGINAL', 'PRIMARY', 'AXIAL']\n",
            "(0008, 0016) SOP Class UID                       UI: CT Image Storage\n",
            "(0008, 0018) SOP Instance UID                    UI: 1.3.6.1.4.1.14519.5.2.1.7777.9002.108821836759549281694712274169\n",
            "(0008, 0020) Study Date                          DA: '19830708'\n",
            "(0008, 0021) Series Date                         DA: '19830708'\n",
            "(0008, 0022) Acquisition Date                    DA: '19830708'\n",
            "(0008, 0023) Content Date                        DA: '19830708'\n",
            "(0008, 0030) Study Time                          TM: '085723.000000'\n",
            "(0008, 0031) Series Time                         TM: '090344.332000'\n",
            "(0008, 0032) Acquisition Time                    TM: '090517.558000'\n",
            "(0008, 0033) Content Time                        TM: '090501.593000'\n",
            "(0008, 0040) Data Set Type                       US: 0\n",
            "(0008, 0041) Data Set Subtype                    LO: 'IMA SPI'\n",
            "(0008, 0050) Accession Number                    SH: '2819497684894126'\n",
            "(0008, 0060) Modality                            CS: 'CT'\n",
            "(0008, 0070) Manufacturer                        LO: 'SIEMENS'\n",
            "(0008, 0090) Referring Physician's Name          PN: ''\n",
            "(0008, 1010) Station Name                        SH: ''\n",
            "(0008, 1090) Manufacturer's Model Name           LO: 'SOMATOM PLUS 4'\n",
            "(0008, 2111) Derivation Description              ST: ''\n",
            "(0009, 0000) Private Creator                     UN: b'\\x86\\x00\\x00\\x00'\n",
            "(0009, 0010) Private tag data                    LO: 'SPI RELEASE 1'\n",
            "(0009, 0012) Private tag data                    LO: 'SIEMENS CM VA0  CMS'\n",
            "(0009, 0013) Private tag data                    LO: 'SIEMENS CM VA0  LAB'\n",
            "(0009, 0020) Private tag data                    LO: 'SIEMENS CT VA0  IDE'\n",
            "(0009, 0030) Private tag data                    LO: 'SIEMENS CT VA0  ORI'\n",
            "(0010, 0000) Group Length                        UL: 70\n",
            "(0010, 0010) Patient's Name                      PN: 'TCGA-17-Z034'\n",
            "(0010, 0020) Patient ID                          LO: 'TCGA-17-Z034'\n",
            "(0010, 0030) Patient's Birth Date                DA: ''\n",
            "(0010, 0040) Patient's Sex                       CS: 'M'\n",
            "(0010, 1010) Patient's Age                       AS: '060Y'\n",
            "(0011, 0000) Private Creator                     UN: b'F\\x00\\x00\\x00'\n",
            "(0011, 0010) Private tag data                    LO: 'SPI RELEASE 1'\n",
            "(0011, 0011) Private tag data                    LO: 'SIEMENS CM VA0  CMS'\n",
            "(0011, 0012) Private tag data                    LO: 'SIEMENS ISI'\n",
            "(0012, 0000) Group Length                        UL: 758\n",
            "(0012, 0062) Patient Identity Removed            CS: 'YES'\n",
            "(0012, 0063) De-identification Method            LO: 'Per DICOM PS 3.15 AnnexE. Details in 0012,0064'\n",
            "(0012, 0064)  De-identification Method Code Sequence  8 item(s) ---- \n",
            "   (0008, 0000) Group Length                        UL: 76\n",
            "   (0008, 0100) Code Value                          SH: '113100'\n",
            "   (0008, 0102) Coding Scheme Designator            SH: 'DCM'\n",
            "   (0008, 0104) Code Meaning                        LO: 'Basic Application Confidentiality Profile'\n",
            "   ---------\n",
            "   (0008, 0000) Group Length                        UL: 58\n",
            "   (0008, 0100) Code Value                          SH: '113101'\n",
            "   (0008, 0102) Coding Scheme Designator            SH: 'DCM'\n",
            "   (0008, 0104) Code Meaning                        LO: 'Clean Pixel Data Option'\n",
            "   ---------\n",
            "   (0008, 0000) Group Length                        UL: 56\n",
            "   (0008, 0100) Code Value                          SH: '113103'\n",
            "   (0008, 0102) Coding Scheme Designator            SH: 'DCM'\n",
            "   (0008, 0104) Code Meaning                        LO: 'Clean Graphics Option'\n",
            "   ---------\n",
            "   (0008, 0000) Group Length                        UL: 58\n",
            "   (0008, 0100) Code Value                          SH: '113105'\n",
            "   (0008, 0102) Coding Scheme Designator            SH: 'DCM'\n",
            "   (0008, 0104) Code Meaning                        LO: 'Clean Descriptors Option'\n",
            "   ---------\n",
            "   (0008, 0000) Group Length                        UL: 80\n",
            "   (0008, 0100) Code Value                          SH: '113107'\n",
            "   (0008, 0102) Coding Scheme Designator            SH: 'DCM'\n",
            "   (0008, 0104) Code Meaning                        LO: 'Retain Longitudinal With Modified Dates Option'\n",
            "   ---------\n",
            "   (0008, 0000) Group Length                        UL: 72\n",
            "   (0008, 0100) Code Value                          SH: '113108'\n",
            "   (0008, 0102) Coding Scheme Designator            SH: 'DCM'\n",
            "   (0008, 0104) Code Meaning                        LO: 'Retain Patient Characteristics Option'\n",
            "   ---------\n",
            "   (0008, 0000) Group Length                        UL: 64\n",
            "   (0008, 0100) Code Value                          SH: '113109'\n",
            "   (0008, 0102) Coding Scheme Designator            SH: 'DCM'\n",
            "   (0008, 0104) Code Meaning                        LO: 'Retain Device Identity Option'\n",
            "   ---------\n",
            "   (0008, 0000) Group Length                        UL: 60\n",
            "   (0008, 0100) Code Value                          SH: '113111'\n",
            "   (0008, 0102) Coding Scheme Designator            SH: 'DCM'\n",
            "   (0008, 0104) Code Meaning                        LO: 'Retain Safe Private Option'\n",
            "   ---------\n",
            "(0013, 0000) Private Creator                     UN: b'.\\x00\\x00\\x00'\n",
            "(0013, 0010) Private tag data                    LO: 'CTP'\n",
            "(0013, 1010) Private tag data                    UN: b'TCGA-LUAD\\x00'\n",
            "(0013, 1013) Private tag data                    UN: b'77779002'\n",
            "(0018, 0000) Group Length                        UL: 342\n",
            "(0018, 0015) Body Part Examined                  CS: 'CHEST'\n",
            "(0018, 0020) Scanning Sequence                   CS: 'RM'\n",
            "(0018, 0050) Slice Thickness                     DS: '8.0'\n",
            "(0018, 0060) KVP                                 DS: '140.0'\n",
            "(0018, 0090) Data Collection Diameter            DS: '500.0'\n",
            "(0018, 1000) Device Serial Number                LO: '                     20643'\n",
            "(0018, 1020) Software Versions                   LO: 'VB40W'\n",
            "(0018, 1110) Distance Source to Detector         DS: '1005.0'\n",
            "(0018, 1111) Distance Source to Patient          DS: '570.0'\n",
            "(0018, 1120) Gantry/Detector Tilt                DS: '0.0'\n",
            "(0018, 1130) Table Height                        DS: '170.0'\n",
            "(0018, 1140) Rotation Direction                  CS: 'CW'\n",
            "(0018, 1150) Exposure Time                       IS: '750'\n",
            "(0018, 1151) X-Ray Tube Current                  IS: '206'\n",
            "(0018, 1152) Exposure                            IS: '155'\n",
            "(0018, 1170) Generator Power                     IS: '29'\n",
            "(0018, 1190) Focal Spot(s)                       DS: '1.2'\n",
            "(0018, 1200) Date of Last Calibration            DA: '19830623'\n",
            "(0018, 1201) Time of Last Calibration            TM: '214703.931000'\n",
            "(0018, 1210) Convolution Kernel                  SH: '59 .10.AB50'\n",
            "(0018, 5100) Patient Position                    CS: 'HFS'\n",
            "(0019, 0000) Private Creator                     UN: b'\\xf4\\x00\\x00\\x00'\n",
            "(0019, 0010) Private tag data                    LO: 'SIEMENS CM VA0  CMS'\n",
            "(0019, 0011) Private tag data                    LO: 'SIEMENS CT VA0  GEN'\n",
            "(0019, 0013) Private tag data                    LO: 'SIEMENS CT VA0  COAD'\n",
            "(0019, 0015) Private tag data                    LO: 'SIEMENS CM VA0  ACQU'\n",
            "(0019, 1392) [Osteo Regression Line Slope]       DS: '0.979'\n",
            "(0019, 1393) [Osteo Regression Line Intercept]   DS: '-1.42'\n",
            "(0019, 13b0) [Feed per Rotation]                 DS: '8.0'\n",
            "(0019, 13c0) [Pulmo Water]                       DS: '2.154907'\n",
            "(0019, 13c1) [Pulmo Air]                         DS: '-992.9709'\n",
            "(0019, 13c3) [Pulmo Time]                        TM: '201523.000000'\n",
            "(0020, 0000) Group Length                        UL: 566\n",
            "(0020, 000d) Study Instance UID                  UI: 1.3.6.1.4.1.14519.5.2.1.7777.9002.292315456232117737481743327260\n",
            "(0020, 000e) Series Instance UID                 UI: 1.3.6.1.4.1.14519.5.2.1.7777.9002.531955806841803044139009743992\n",
            "(0020, 0010) Study ID                            SH: ''\n",
            "(0020, 0011) Series Number                       IS: '5'\n",
            "(0020, 0012) Acquisition Number                  IS: '3'\n",
            "(0020, 0013) Instance Number                     IS: '25'\n",
            "(0020, 0030) Image Position                      DS: [-02.166094E+02, -2.086094E+02, -2.475000E+02]\n",
            "(0020, 0032) Image Position (Patient)            DS: [-217, -209, -247.5]\n",
            "(0020, 0035) Image Orientation                   DS: [001.000000E+00, 00.000000E+00, 00.000000E+00, 00.000000E+00, 01.000000E+00, 00.000000E+00]\n",
            "(0020, 0037) Image Orientation (Patient)         DS: [1, 0, 0, 0, 1, 0]\n",
            "(0020, 0050) Location                            DS: '-247.5'\n",
            "(0020, 0052) Frame of Reference UID              UI: 1.3.6.1.4.1.14519.5.2.1.7777.9002.299172824841582204484171666104\n",
            "(0020, 0070) Image Geometry Type                 LO: 'PLANAR'\n",
            "(0020, 0080) Masking Image                       CS: ''\n",
            "(0020, 1040) Position Reference Indicator        LO: ''\n",
            "(0020, 1041) Slice Location                      DS: '-247.5'\n",
            "(0020, 3100) Source Image IDs                    CS: ''\n",
            "(0020, 3402) Modified Image ID                   CS: ''\n",
            "(0020, 3403) Modified Image Date                 DA: ''\n",
            "(0020, 3405) Modified Image Time                 TM: ''\n",
            "(0020, 5000) Original Image Identification       AT: None\n",
            "(0020, 5002) Original Image Identification Nomen LO: ''\n",
            "(0021, 0000) Private Creator                     UN: b'h\\x00\\x00\\x00'\n",
            "(0021, 0010) Private tag data                    LO: 'SIEMENS MED'\n",
            "(0021, 0012) Private tag data                    LO: 'SIEMENS CT VA0  GEN'\n",
            "(0021, 0022) Private tag data                    LO: 'SIEMENS CT VA0  RAW'\n",
            "(0021, 0030) Private tag data                    LO: 'SIEMENS CT VA0  ORMR'\n",
            "(0028, 0000) Group Length                        UL: 290\n",
            "(0028, 0002) Samples per Pixel                   US: 1\n",
            "(0028, 0004) Photometric Interpretation          CS: 'MONOCHROME2'\n",
            "(0028, 0005) Image Dimensions                    US: 2\n",
            "(0028, 0010) Rows                                US: 512\n",
            "(0028, 0011) Columns                             US: 512\n",
            "(0028, 0030) Pixel Spacing                       DS: [007.812500e-01, 007.812500e-01]\n",
            "(0028, 0040) Image Format                        CS: 'RECT'\n",
            "(0028, 0050) Manipulated Image                   LO: ''\n",
            "(0028, 0060) Compression Code                    CS: 'NONE'\n",
            "(0028, 0100) Bits Allocated                      US: 16\n",
            "(0028, 0101) Bits Stored                         US: 12\n",
            "(0028, 0102) High Bit                            US: 11\n",
            "(0028, 0103) Pixel Representation                US: 0\n",
            "(0028, 0200) Image Location                      US: 32736\n",
            "(0028, 0301) Burned In Annotation                CS: 'NO'\n",
            "(0028, 0303) Longitudinal Temporal Information M CS: 'MODIFIED'\n",
            "(0028, 1050) Window Center                       DS: [000010, -0550]\n",
            "(0028, 1051) Window Width                        DS: [000400, 01800]\n",
            "(0028, 1052) Rescale Intercept                   DS: '-1024.0'\n",
            "(0028, 1053) Rescale Slope                       DS: '1.0'\n",
            "(0029, 0000) Private Creator                     UN: b'N\\x00\\x00\\x00'\n",
            "(0029, 0010) Private tag data                    LO: 'SIEMENS MED DISPLAY'\n",
            "(0029, 0011) Private tag data                    LO: 'SIEMENS CM VA0  CMS'\n",
            "(0029, 0030) Private tag data                    LO: 'SIEMENS MED MG'\n",
            "(0031, 0000) Private Creator                     UN: b'\\x14\\x00\\x00\\x00'\n",
            "(0031, 0012) Private tag data                    LO: 'SIEMENS ISI'\n",
            "(0032, 0000) Group Length                        UL: 8\n",
            "(0032, 4000) Study Comments                      LT: ''\n",
            "(0040, 0000) Group Length                        UL: 8\n",
            "(0040, 1003) Requested Procedure Priority        SH: ''\n",
            "(0091, 0000) Private Creator                     UN: b'\\x0e\\x00\\x00\\x00'\n",
            "(0091, 0010) Private tag data                    LO: 'SIENET'\n",
            "(0095, 0000) Private Creator                     UN: b'\\x0e\\x00\\x00\\x00'\n",
            "(0095, 0010) Private tag data                    LO: 'SIENET'\n",
            "(0097, 0000) Private Creator                     UN: b'\\x0e\\x00\\x00\\x00'\n",
            "(0097, 0010) Private tag data                    LO: 'SIENET'\n",
            "(0099, 0000) Private Creator                     UN: b'\\x0e\\x00\\x00\\x00'\n",
            "(0099, 0010) Private tag data                    LO: 'SIENET'\n",
            "(7003, 0000) Private Creator                     UN: b'\\x14\\x00\\x00\\x00'\n",
            "(7003, 0010) Private tag data                    LO: 'SIEMENS MED'\n",
            "(7fe0, 0000) Group Length                        UL: 524296\n",
            "(7fe0, 0010) Pixel Data                          OW: Array of 524288 elements\n"
          ]
        }
      ]
    },
    {
      "cell_type": "code",
      "source": [
        "s = int(slice.RescaleSlope)\n",
        "b = int(slice.RescaleIntercept)\n",
        "image = s * slice.pixel_array + b\n",
        "\n",
        "plt.subplot(1, 3, 1)\n",
        "plt.title(\"DICOM -> Array\")\n",
        "plt.imshow(image, cmap='gray')\n",
        "\n",
        "slice.WindowCenter = window_center\n",
        "slice.WindowWidth = window_width\n",
        "image = apply_modality_lut(image, slice)\n",
        "image2 = apply_voi_lut(image, slice)\n",
        "plt.subplot(1, 3, 2)\n",
        "plt.title(\"apply_voi_lut\")\n",
        "plt.imshow(image2, cmap='gray')"
      ],
      "metadata": {
        "colab": {
          "base_uri": "https://localhost:8080/",
          "height": 180
        },
        "id": "Yp8iq8OcDih7",
        "outputId": "437b7cf9-c323-4e8a-b04e-c02fea4e24e3"
      },
      "execution_count": null,
      "outputs": [
        {
          "output_type": "execute_result",
          "data": {
            "text/plain": [
              "<matplotlib.image.AxesImage at 0x7fb8be3ce340>"
            ]
          },
          "metadata": {},
          "execution_count": 13
        },
        {
          "output_type": "display_data",
          "data": {
            "text/plain": [
              "<Figure size 432x288 with 2 Axes>"
            ],
            "image/png": "[encoded data removed]"
          },
          "metadata": {
            "needs_background": "light"
          }
        }
      ]
    },
    {
      "cell_type": "code",
      "source": [
        "# normlization\n",
        "image3 = np.clip(image, window_center-(window_width/2),\n",
        "                 window_center+(window_width/2))\n",
        "\n",
        "plt.subplot(1, 3, 3)\n",
        "plt.title(\"normlization\")\n",
        "plt.imshow(image3, cmap='gray')\n",
        "plt.show()"
      ],
      "metadata": {
        "colab": {
          "base_uri": "https://localhost:8080/",
          "height": 162
        },
        "id": "grGb-8K-EtKZ",
        "outputId": "bb222de1-041f-4ed1-bfef-e675289b28d6"
      },
      "execution_count": null,
      "outputs": [
        {
          "output_type": "display_data",
          "data": {
            "text/plain": [
              "<Figure size 432x288 with 1 Axes>"
            ],
            "image/png": "[encoded data removed]"
          },
          "metadata": {
            "needs_background": "light"
          }
        }
      ]
    }
  ]
}