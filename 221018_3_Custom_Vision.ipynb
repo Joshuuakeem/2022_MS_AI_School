{
  "nbformat": 4,
  "nbformat_minor": 0,
  "metadata": {
    "colab": {
      "provenance": []
    },
    "kernelspec": {
      "name": "python3",
      "display_name": "Python 3"
    },
    "language_info": {
      "name": "python"
    }
  },
  "cells": [
    {
      "cell_type": "code",
      "execution_count": null,
      "metadata": {
        "colab": {
          "base_uri": "https://localhost:8080/"
        },
        "id": "gG6SkbsR3oNi",
        "outputId": "6f490e94-9cdb-4f8c-836f-f1ea753da65b"
      },
      "outputs": [
        {
          "output_type": "stream",
          "name": "stdout",
          "text": [
            "Looking in indexes: https://pypi.org/simple, https://us-python.pkg.dev/colab-wheels/public/simple/\n",
            "Collecting azure-cognitiveservices-vision-customvision\n",
            "  Downloading azure_cognitiveservices_vision_customvision-3.1.0-py2.py3-none-any.whl (62 kB)\n",
            "\u001b[K     |████████████████████████████████| 62 kB 533 kB/s \n",
            "\u001b[?25hCollecting msrest>=0.5.0\n",
            "  Downloading msrest-0.7.1-py3-none-any.whl (85 kB)\n",
            "\u001b[K     |████████████████████████████████| 85 kB 4.0 MB/s \n",
            "\u001b[?25hCollecting azure-common~=1.1\n",
            "  Downloading azure_common-1.1.28-py2.py3-none-any.whl (14 kB)\n",
            "Requirement already satisfied: requests-oauthlib>=0.5.0 in /usr/local/lib/python3.7/dist-packages (from msrest>=0.5.0->azure-cognitiveservices-vision-customvision) (1.3.1)\n",
            "Collecting azure-core>=1.24.0\n",
            "  Downloading azure_core-1.26.0-py3-none-any.whl (178 kB)\n",
            "\u001b[K     |████████████████████████████████| 178 kB 49.3 MB/s \n",
            "\u001b[?25hRequirement already satisfied: requests~=2.16 in /usr/local/lib/python3.7/dist-packages (from msrest>=0.5.0->azure-cognitiveservices-vision-customvision) (2.23.0)\n",
            "Collecting isodate>=0.6.0\n",
            "  Downloading isodate-0.6.1-py2.py3-none-any.whl (41 kB)\n",
            "\u001b[K     |████████████████████████████████| 41 kB 471 kB/s \n",
            "\u001b[?25hRequirement already satisfied: certifi>=2017.4.17 in /usr/local/lib/python3.7/dist-packages (from msrest>=0.5.0->azure-cognitiveservices-vision-customvision) (2022.9.24)\n",
            "Requirement already satisfied: six>=1.11.0 in /usr/local/lib/python3.7/dist-packages (from azure-core>=1.24.0->msrest>=0.5.0->azure-cognitiveservices-vision-customvision) (1.15.0)\n",
            "Requirement already satisfied: typing-extensions>=4.0.1 in /usr/local/lib/python3.7/dist-packages (from azure-core>=1.24.0->msrest>=0.5.0->azure-cognitiveservices-vision-customvision) (4.1.1)\n",
            "Requirement already satisfied: chardet<4,>=3.0.2 in /usr/local/lib/python3.7/dist-packages (from requests~=2.16->msrest>=0.5.0->azure-cognitiveservices-vision-customvision) (3.0.4)\n",
            "Requirement already satisfied: urllib3!=1.25.0,!=1.25.1,<1.26,>=1.21.1 in /usr/local/lib/python3.7/dist-packages (from requests~=2.16->msrest>=0.5.0->azure-cognitiveservices-vision-customvision) (1.24.3)\n",
            "Requirement already satisfied: idna<3,>=2.5 in /usr/local/lib/python3.7/dist-packages (from requests~=2.16->msrest>=0.5.0->azure-cognitiveservices-vision-customvision) (2.10)\n",
            "Requirement already satisfied: oauthlib>=3.0.0 in /usr/local/lib/python3.7/dist-packages (from requests-oauthlib>=0.5.0->msrest>=0.5.0->azure-cognitiveservices-vision-customvision) (3.2.1)\n",
            "Installing collected packages: isodate, azure-core, msrest, azure-common, azure-cognitiveservices-vision-customvision\n",
            "Successfully installed azure-cognitiveservices-vision-customvision-3.1.0 azure-common-1.1.28 azure-core-1.26.0 isodate-0.6.1 msrest-0.7.1\n"
          ]
        }
      ],
      "source": [
        "!pip install azure-cognitiveservices-vision-customvision"
      ]
    },
    {
      "cell_type": "code",
      "source": [
        "from azure.cognitiveservices.vision.customvision.training import CustomVisionTrainingClient\n",
        "from azure.cognitiveservices.vision.customvision.prediction import CustomVisionPredictionClient\n",
        "from azure.cognitiveservices.vision.customvision.training.models import ImageFileCreateBatch, ImageFileCreateEntry, Region\n",
        "from msrest.authentication import ApiKeyCredentials\n",
        "import os, time, uuid"
      ],
      "metadata": {
        "id": "JBh_tARS4CBE"
      },
      "execution_count": null,
      "outputs": []
    },
    {
      "cell_type": "code",
      "source": [
        "ENDPOINT_Training = 'https://labuser14custom.cognitiveservices.azure.com/'\n",
        "ENDPOINT_Prediction = 'https://labuser14custom-prediction.cognitiveservices.azure.com/'\n",
        "\n",
        "training_key = 'd19a3281bd4f4a37b8f63ec018a5fc3f'\n",
        "prediction_key = 'a2f41fd5d1b7458e85fb28612d15425a'\n",
        "prediction_resouce_id = '/subscriptions/7ae06d59-97e1-4a36-bbfe-efb081b9b03b/resourceGroups/RG14/providers/Microsoft.CognitiveServices/accounts/labuser14custom'"
      ],
      "metadata": {
        "id": "fuf_gwC36k5-"
      },
      "execution_count": null,
      "outputs": []
    },
    {
      "cell_type": "code",
      "source": [
        "credentials = ApiKeyCredentials(in_headers={\"Training-key\": training_key})\n",
        "trainer = CustomVisionTrainingClient(ENDPOINT_Training, credentials)"
      ],
      "metadata": {
        "id": "W1-xCjM__gu0"
      },
      "execution_count": null,
      "outputs": []
    },
    {
      "cell_type": "code",
      "source": [
        "print (\"Creating project...\")\n",
        "project = trainer.create_project(\"Labuser14 Project\")"
      ],
      "metadata": {
        "colab": {
          "base_uri": "https://localhost:8080/"
        },
        "id": "vpb1dwXdAMxh",
        "outputId": "a35f5899-fe3b-4b26-d226-69adc6f4952c"
      },
      "execution_count": null,
      "outputs": [
        {
          "output_type": "stream",
          "name": "stdout",
          "text": [
            "Creating project...\n"
          ]
        }
      ]
    },
    {
      "cell_type": "code",
      "source": [
        "Jajangmyeon_tag = trainer.create_tag(project.id, \"Jajangmyeon\")\n",
        "Champon_tag = trainer.create_tag(project.id, \"Champon\")\n",
        "Tangsuyug_tag = trainer.create_tag(project.id, \"Tangsuyug\")"
      ],
      "metadata": {
        "id": "TO4y2LvvCB4d"
      },
      "execution_count": null,
      "outputs": []
    },
    {
      "cell_type": "code",
      "source": [
        "import time"
      ],
      "metadata": {
        "id": "CQjWsuHdbqSB"
      },
      "execution_count": null,
      "outputs": []
    },
    {
      "cell_type": "code",
      "source": [
        "print('Training...')\n",
        "iteration = trainer.train_project(project.id)\n",
        "while(iteration.status != 'Completed'):\n",
        "  iteration = trainer.get_iteration(project.id, iteration.id)\n",
        "  print('Training status' + iteration.status)\n",
        "\n",
        "  time.sleep(5)\n",
        "\n",
        "print('Done!')"
      ],
      "metadata": {
        "colab": {
          "base_uri": "https://localhost:8080/"
        },
        "id": "WYFbGS6GDW1M",
        "outputId": "99ba7ffc-252b-477f-e14f-1171b3d68cb1"
      },
      "execution_count": null,
      "outputs": [
        {
          "output_type": "stream",
          "name": "stdout",
          "text": [
            "Training...\n",
            "Training statusTraining\n",
            "Training statusTraining\n",
            "Training statusTraining\n",
            "Training statusTraining\n",
            "Training statusTraining\n",
            "Training statusTraining\n",
            "Training statusTraining\n",
            "Training statusTraining\n",
            "Training statusTraining\n",
            "Training statusTraining\n",
            "Training statusTraining\n",
            "Training statusTraining\n",
            "Training statusTraining\n",
            "Training statusTraining\n",
            "Training statusTraining\n",
            "Training statusTraining\n",
            "Training statusTraining\n",
            "Training statusTraining\n",
            "Training statusTraining\n",
            "Training statusTraining\n",
            "Training statusTraining\n",
            "Training statusTraining\n",
            "Training statusTraining\n",
            "Training statusTraining\n",
            "Training statusTraining\n",
            "Training statusTraining\n",
            "Training statusTraining\n",
            "Training statusTraining\n",
            "Training statusTraining\n",
            "Training statusTraining\n",
            "Training statusTraining\n",
            "Training statusTraining\n",
            "Training statusTraining\n",
            "Training statusTraining\n",
            "Training statusTraining\n",
            "Training statusTraining\n",
            "Training statusTraining\n",
            "Training statusTraining\n",
            "Training statusTraining\n",
            "Training statusTraining\n",
            "Training statusTraining\n",
            "Training statusTraining\n",
            "Training statusTraining\n",
            "Training statusTraining\n",
            "Training statusTraining\n",
            "Training statusTraining\n",
            "Training statusTraining\n",
            "Training statusTraining\n",
            "Training statusTraining\n",
            "Training statusTraining\n",
            "Training statusTraining\n",
            "Training statusTraining\n",
            "Training statusTraining\n",
            "Training statusTraining\n",
            "Training statusTraining\n",
            "Training statusTraining\n",
            "Training statusTraining\n",
            "Training statusTraining\n",
            "Training statusTraining\n",
            "Training statusTraining\n",
            "Training statusTraining\n",
            "Training statusTraining\n",
            "Training statusTraining\n",
            "Training statusTraining\n",
            "Training statusTraining\n",
            "Training statusTraining\n",
            "Training statusTraining\n",
            "Training statusTraining\n",
            "Training statusTraining\n",
            "Training statusTraining\n",
            "Training statusTraining\n",
            "Training statusTraining\n",
            "Training statusTraining\n",
            "Training statusTraining\n",
            "Training statusTraining\n",
            "Training statusTraining\n",
            "Training statusTraining\n",
            "Training statusTraining\n",
            "Training statusTraining\n",
            "Training statusTraining\n",
            "Training statusTraining\n",
            "Training statusTraining\n",
            "Training statusTraining\n",
            "Training statusTraining\n",
            "Training statusTraining\n",
            "Training statusTraining\n",
            "Training statusTraining\n",
            "Training statusTraining\n",
            "Training statusTraining\n",
            "Training statusTraining\n",
            "Training statusTraining\n",
            "Training statusTraining\n",
            "Training statusTraining\n",
            "Training statusTraining\n",
            "Training statusTraining\n",
            "Training statusTraining\n",
            "Training statusTraining\n",
            "Training statusTraining\n",
            "Training statusTraining\n",
            "Training statusTraining\n",
            "Training statusTraining\n",
            "Training statusTraining\n",
            "Training statusTraining\n",
            "Training statusTraining\n",
            "Training statusTraining\n",
            "Training statusTraining\n",
            "Training statusTraining\n",
            "Training statusTraining\n",
            "Training statusCompleted\n",
            "Done!\n"
          ]
        }
      ]
    },
    {
      "cell_type": "code",
      "source": [
        "from azure.cognitiveservices.vision.customvision.prediction import CustomVisionPredictionClient"
      ],
      "metadata": {
        "id": "KG0659SGFJIT"
      },
      "execution_count": null,
      "outputs": []
    },
    {
      "cell_type": "code",
      "source": [
        "prediction_credentials = ApiKeyCredentials(in_headers={\"Prediction-key\": prediction_key})\n",
        "predictor = CustomVisionPredictionClient(ENDPOINT_Prediction, prediction_credentials)"
      ],
      "metadata": {
        "id": "92YpH2XLd66o"
      },
      "execution_count": null,
      "outputs": []
    },
    {
      "cell_type": "code",
      "source": [
        "target_image_url = 'https://w.namu.la/s/d4c53737b61fec8cf0fa02206d85a5022fc5465593f2e0190648f7c5911acd836a5f7a1db0f19f0136ec1c178d782465a9455b31d178b79df5133fc6b493a41f8e6fe6815d3da4aafdd31ec6ce870697e8db18daef4fee7a1420b29aab35b3a2'\n",
        "result = predictor.classify_image_url(project.id, 'greatwall', target_image_url)"
      ],
      "metadata": {
        "id": "qHwD6qVkd8_j"
      },
      "execution_count": null,
      "outputs": []
    },
    {
      "cell_type": "code",
      "source": [
        "for prediction in result.predictions:\n",
        "  print('\\t' + prediction.tag_name + \": {0:.2f}%\".format(prediction.probability*100))"
      ],
      "metadata": {
        "id": "DwMpwAr8eRP1",
        "colab": {
          "base_uri": "https://localhost:8080/"
        },
        "outputId": "925476b5-5530-4dd8-b501-6f35995f295e"
      },
      "execution_count": null,
      "outputs": [
        {
          "output_type": "stream",
          "name": "stdout",
          "text": [
            "\tJajangmyeon: 99.90%\n",
            "\tChampon: 0.26%\n",
            "\tTangsuyug: 0.04%\n"
          ]
        }
      ]
    },
    {
      "cell_type": "code",
      "source": [],
      "metadata": {
        "id": "FOOZkELmh4Ff"
      },
      "execution_count": null,
      "outputs": []
    }
  ]
}