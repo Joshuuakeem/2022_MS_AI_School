{
  "nbformat": 4,
  "nbformat_minor": 0,
  "metadata": {
    "colab": {
      "provenance": []
    },
    "kernelspec": {
      "name": "python3",
      "display_name": "Python 3"
    },
    "language_info": {
      "name": "python"
    }
  },
  "cells": [
    {
      "cell_type": "code",
      "execution_count": null,
      "metadata": {
        "id": "oeQBJhyDxqAt"
      },
      "outputs": [],
      "source": [
        "# 시계열 데이터에서 누락된 값 처리\n",
        "import pandas as pd\n",
        "import numpy as np"
      ]
    },
    {
      "cell_type": "code",
      "source": [
        "time_index = pd.date_range('01/01/2022', periods=5, freq='M')\n",
        "dataframe = pd.DataFrame(index=time_index) # 데이터 프레임을 만들고 인덱스를 지정\n",
        "print(dataframe)"
      ],
      "metadata": {
        "colab": {
          "base_uri": "https://localhost:8080/"
        },
        "id": "qg_r2-6IyqhY",
        "outputId": "bb52d3ec-db82-4a3b-8bcb-03ee7a0d0bf1"
      },
      "execution_count": null,
      "outputs": [
        {
          "output_type": "stream",
          "name": "stdout",
          "text": [
            "Empty DataFrame\n",
            "Columns: []\n",
            "Index: [2022-01-31 00:00:00, 2022-02-28 00:00:00, 2022-03-31 00:00:00, 2022-04-30 00:00:00, 2022-05-31 00:00:00]\n"
          ]
        }
      ]
    },
    {
      "cell_type": "code",
      "source": [
        "dataframe['Sales'] = [1.0, 20.0, np.nan, np.nan, 5.0]   # 누락된 값이 있는 특성 생성\n",
        "#data = dataframe.interpolate()   # 누락된 값을 보간\n",
        "data = dataframe.ffill()    # 앞쪽으로 Forward-fill\n",
        "data01 = dataframe.bfill()    # 뒤쪽으로 Back-fill\n",
        "data02 = dataframe.interpolate(method='quadratic')\n",
        "#보간 방향 지정\n",
        "data03 = dataframe.interpolate(limit=1, limit_direction='forward')\n",
        "print(data03)"
      ],
      "metadata": {
        "colab": {
          "base_uri": "https://localhost:8080/"
        },
        "id": "Vi_PehbQy1lD",
        "outputId": "bdc2e834-de0c-44e5-da9b-33f2f12cdc72"
      },
      "execution_count": null,
      "outputs": [
        {
          "output_type": "stream",
          "name": "stdout",
          "text": [
            "            Sales\n",
            "2022-01-31    1.0\n",
            "2022-02-28   20.0\n",
            "2022-03-31   15.0\n",
            "2022-04-30    NaN\n",
            "2022-05-31    5.0\n"
          ]
        }
      ]
    },
    {
      "cell_type": "code",
      "source": [],
      "metadata": {
        "id": "lmsmqVW_zjfn"
      },
      "execution_count": null,
      "outputs": []
    }
  ]
}