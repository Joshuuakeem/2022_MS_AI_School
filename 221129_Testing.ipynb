{
  "nbformat": 4,
  "nbformat_minor": 0,
  "metadata": {
    "colab": {
      "provenance": []
    },
    "kernelspec": {
      "name": "python3",
      "display_name": "Python 3"
    },
    "language_info": {
      "name": "python"
    }
  },
  "cells": [
    {
      "cell_type": "markdown",
      "source": [
        "# 검정(Testing)\n",
        "\n",
        "어떤 가설이 맞는지 아닌지 확인하는 작업   \n",
        "어떤 확률 분포가 있을 때 어떤 가설을 H라 하고 이를 증명하는 것이 통계적 가설검정\n",
        "\n",
        "## 가설\n",
        "### 귀무가설\n",
        "      확률분포의 모수에 대한 가설\n",
        "      변화가 없다.\n",
        "      예를 들어 귀무가설 정규분포의 모수가 0 예측 -> 실제 모수값이 0인가?\n",
        "      신약의 효과가 없다.\n",
        "$$H_0:θ = θ_0$$\n",
        "### 대립가설\n",
        "      어떤 것과 차이가 난다.\n",
        "      효과가 있다.\n",
        "      귀무가설이 거짓이라면 대안적으로 참이 되는 가설\n",
        "      예를 들면 신약의 효과 있다.\n",
        "      정규분포의 평균이 μ가 아니다.\n",
        "$$H_0:θ = θ_0,\\quad H_a:θ \\neq θ_0$$"
      ],
      "metadata": {
        "id": "LS-6EMYwLUnR"
      }
    },
    {
      "cell_type": "markdown",
      "source": [
        "## 검정 통계량\n",
        "어떤 가설을 채택 혹은 기각을 하기 위해 기준이 되는 값\n",
        "$$t=f(x1,x2,⋯,x_N)$$\n",
        "\n",
        "### 베르누이 분포 확률 변수\n",
        "$$t = Σx~Bin(t;N,μ)$$\n",
        "\n",
        "### 분산 σ^2 값이 정해지고 알고 있는 정규분포 확률 변수\n",
        "\n",
        "$$z = \\frac{\\bar{x}-μ}{\\frac{s}{\\sqrt{N}}}$$\n"
      ],
      "metadata": {
        "id": "_fJKyPZ8LYUR"
      }
    },
    {
      "cell_type": "markdown",
      "source": [
        "## 유의 확률\n",
        "### p-value\n",
        "표본 데이터가 해당 확률분포에서 나오기 쉬운 값인지 아닌지를 알 수 있는 수치   \n",
        "표본 추출하고, 그 표본으로 부터 얻은 정보를 기초로 해서 귀무가설이 참인지 거짓인지 판정(오류가 날 가능성),귀무가설이 참이라고 가정했을 때 표본으로 얻어지는 통계치가 나타날 확률을 계산\n",
        "\n",
        "이 확률 값이 p-value라고 한다."
      ],
      "metadata": {
        "id": "Oc8XUOKJLaFI"
      }
    },
    {
      "cell_type": "code",
      "execution_count": null,
      "metadata": {
        "colab": {
          "base_uri": "https://localhost:8080/",
          "height": 580
        },
        "id": "kpPRMoRPLDhi",
        "outputId": "ee93c587-e1e1-4a90-9710-ebffc85a61dd"
      },
      "outputs": [
        {
          "output_type": "stream",
          "name": "stdout",
          "text": [
            "Looking in indexes: https://pypi.org/simple, https://us-python.pkg.dev/colab-wheels/public/simple/\n",
            "Collecting koreanize-matplotlib\n",
            "  Downloading koreanize_matplotlib-0.0.1-py3-none-any.whl (2.5 MB)\n",
            "\u001b[K     |████████████████████████████████| 2.5 MB 6.7 MB/s \n",
            "\u001b[?25hRequirement already satisfied: matplotlib in /usr/local/lib/python3.7/dist-packages (from koreanize-matplotlib) (3.2.2)\n",
            "Requirement already satisfied: numpy>=1.11 in /usr/local/lib/python3.7/dist-packages (from matplotlib->koreanize-matplotlib) (1.21.6)\n",
            "Requirement already satisfied: pyparsing!=2.0.4,!=2.1.2,!=2.1.6,>=2.0.1 in /usr/local/lib/python3.7/dist-packages (from matplotlib->koreanize-matplotlib) (3.0.9)\n",
            "Requirement already satisfied: kiwisolver>=1.0.1 in /usr/local/lib/python3.7/dist-packages (from matplotlib->koreanize-matplotlib) (1.4.4)\n",
            "Requirement already satisfied: python-dateutil>=2.1 in /usr/local/lib/python3.7/dist-packages (from matplotlib->koreanize-matplotlib) (2.8.2)\n",
            "Requirement already satisfied: cycler>=0.10 in /usr/local/lib/python3.7/dist-packages (from matplotlib->koreanize-matplotlib) (0.11.0)\n",
            "Requirement already satisfied: typing-extensions in /usr/local/lib/python3.7/dist-packages (from kiwisolver>=1.0.1->matplotlib->koreanize-matplotlib) (4.1.1)\n",
            "Requirement already satisfied: six>=1.5 in /usr/local/lib/python3.7/dist-packages (from python-dateutil>=2.1->matplotlib->koreanize-matplotlib) (1.15.0)\n",
            "Installing collected packages: koreanize-matplotlib\n",
            "Successfully installed koreanize-matplotlib-0.0.1\n"
          ]
        },
        {
          "output_type": "display_data",
          "data": {
            "text/plain": [
              "<Figure size 432x288 with 2 Axes>"
            ],
            "image/png": "[encoded data removed]"
          },
          "metadata": {
            "needs_background": "light"
          }
        }
      ],
      "source": [
        "# !pip install koreanize-matplotlib\n",
        "import koreanize_matplotlib\n",
        "import scipy as sp\n",
        "import scipy.stats\n",
        "import matplotlib.pyplot as plt\n",
        "import warnings\n",
        "import numpy as np\n",
        "\n",
        "warnings.filterwarnings('ignore')\n",
        "xx1 = np.linspace(-4,4,100)\n",
        "\n",
        "plt.subplot(121)\n",
        "plt.grid()\n",
        "plt.title('가능성이 높은 검정통계량')\n",
        "plt.plot(xx1, scipy.stats.norm().pdf(xx1))\n",
        "plt.plot(0.5, 0, 'ro')\n",
        "plt.annotate('실제 검정 통계량', xy=(0.5,0.01),xytext=(0.85,0.1), arrowprops={'facecolor':'black'})\n",
        "\n",
        "plt.subplot(122)\n",
        "plt.title('가능성이 높은 검정통계량')\n",
        "plt.plot(xx1, scipy.stats.norm().pdf(xx1))\n",
        "plt.plot(2.2, 0, 'ro')\n",
        "plt.annotate('실제 검정 통계량', xy=(2.2,0.01),xytext=(0.85,0.1), arrowprops={'facecolor':'black'})\n",
        "\n",
        "plt.suptitle('검정통계량 분포와 실제 검정통계량의 값')\n",
        "plt.tight_layout()\n",
        "plt.grid()\n",
        "plt.show()\n",
        "\n"
      ]
    },
    {
      "cell_type": "markdown",
      "source": [
        "### 유의 수준\n",
        "유의 수준 유의 확율(알파)이 유의수준을 기준으로 귀무가설 채택 여부를 결정\n",
        "\n",
        "유의 수준이 유의 확률보다 작으면 귀무가설을 기각하고, 대립가설을 채택\n"
      ],
      "metadata": {
        "id": "BfhPJK_FLeTg"
      }
    },
    {
      "cell_type": "markdown",
      "source": [
        "### 검정 방법\n",
        "\n",
        "1. 데이터가 어떤 확률분포를 가지는 확률 변수라 가정\n",
        "2. 해당하는 확률분포의 모수가 특정한 값을 가진다고 가정\n",
        "3. 검정 통계량을 계산하는 식에 대입한 결과에 따라 검정통계량을 구함\n",
        "4. 귀무가설이 어떤 유의 확율을 가지고 있는지 확인\n",
        "5. 미리 정해둔 유의 수준보다 작은지 큰지 확인\n",
        "6. 유의확률이 유의수준보다 크면 귀무가설을 채택, 작으면 대립가설 채택\n"
      ],
      "metadata": {
        "id": "d4ABZPLuLhRZ"
      }
    },
    {
      "cell_type": "markdown",
      "source": [
        "### 이항검정\n",
        "이항분포를 이용해 베르누이 확률변수의 모수 μ(1이 나올 확률)가 특정값인지에 대한 귀무가설 검정\n"
      ],
      "metadata": {
        "id": "3jAm22AGLjrA"
      }
    },
    {
      "cell_type": "code",
      "source": [
        "N = 10\n",
        "mu_0 = 0.5\n",
        "np.random.seed(0)\n",
        "x = scipy.stats.bernoulli(mu_0).rvs(N)\n",
        "n = np.count_nonzero(x)\n",
        "n"
      ],
      "metadata": {
        "colab": {
          "base_uri": "https://localhost:8080/"
        },
        "id": "GWyuYdsoLcfy",
        "outputId": "0b71a7f7-5b62-46a0-ee5d-e5776c3c41a1"
      },
      "execution_count": null,
      "outputs": [
        {
          "output_type": "execute_result",
          "data": {
            "text/plain": [
              "7"
            ]
          },
          "metadata": {},
          "execution_count": 3
        }
      ]
    },
    {
      "cell_type": "code",
      "source": [
        "## 유의 수준 0.05, 0.01\n",
        "scipy.stats.binom_test(n, N, 0.5)"
      ],
      "metadata": {
        "colab": {
          "base_uri": "https://localhost:8080/"
        },
        "id": "1MCqNYYPLvu8",
        "outputId": "20b42d4b-c2fc-4495-9079-7e5cbda14e75"
      },
      "execution_count": null,
      "outputs": [
        {
          "output_type": "execute_result",
          "data": {
            "text/plain": [
              "0.34375"
            ]
          },
          "metadata": {},
          "execution_count": 4
        }
      ]
    },
    {
      "cell_type": "code",
      "source": [
        "# 데이터의 개수가 100개 일 때\n",
        "N =100\n",
        "mu_0 = 0.5\n",
        "np.random.seed(0)\n",
        "x = scipy.stats.bernoulli(mu_0).rvs(N)\n",
        "n = np.count_nonzero(x)\n",
        "n"
      ],
      "metadata": {
        "colab": {
          "base_uri": "https://localhost:8080/"
        },
        "id": "A-Gxy9fhLxPc",
        "outputId": "7140a29b-2e98-44f1-c2e0-fa46ed3b5369"
      },
      "execution_count": null,
      "outputs": [
        {
          "output_type": "execute_result",
          "data": {
            "text/plain": [
              "49"
            ]
          },
          "metadata": {},
          "execution_count": 5
        }
      ]
    },
    {
      "cell_type": "code",
      "source": [
        "sp.stats.binom_test(n, N, 0.5)\n",
        "# 유의 확률이 0.92로 높은 값을 가지고 있으므로 귀무가설을 기각할 수 없다.\n",
        "# 따라서 u가 0.5다."
      ],
      "metadata": {
        "colab": {
          "base_uri": "https://localhost:8080/"
        },
        "id": "-PAM0QuULyhw",
        "outputId": "8377e034-7e38-40ab-c017-d6e330e19bd4"
      },
      "execution_count": null,
      "outputs": [
        {
          "output_type": "execute_result",
          "data": {
            "text/plain": [
              "0.9204107626128215"
            ]
          },
          "metadata": {},
          "execution_count": 6
        }
      ]
    },
    {
      "cell_type": "code",
      "source": [
        "N = 100\n",
        "mu_0 = 0.35\n",
        "np.random.seed(0)\n",
        "x = sp.stats.bernoulli(mu_0).rvs(N)\n",
        "n = np.count_nonzero(x)\n",
        "n"
      ],
      "metadata": {
        "colab": {
          "base_uri": "https://localhost:8080/"
        },
        "id": "q1Oi-UVaL0Ge",
        "outputId": "70fc1b2f-bf79-4e0f-a994-570a39184419"
      },
      "execution_count": null,
      "outputs": [
        {
          "output_type": "execute_result",
          "data": {
            "text/plain": [
              "31"
            ]
          },
          "metadata": {},
          "execution_count": 7
        }
      ]
    },
    {
      "cell_type": "code",
      "source": [
        "scipy.stats.binom_test(n,N,0.5)\n",
        "# 유의 확률이 0.05보다 낮으므로 귀무가설을 채택할 수 없다. \n",
        "# 따라서 모수값은 0.5가 아니다."
      ],
      "metadata": {
        "colab": {
          "base_uri": "https://localhost:8080/"
        },
        "id": "w7K3roBAL1cV",
        "outputId": "34c8c5d8-a93a-4bcf-b816-e1d4cc668b7d"
      },
      "execution_count": null,
      "outputs": [
        {
          "output_type": "execute_result",
          "data": {
            "text/plain": [
              "0.00018314322488235366"
            ]
          },
          "metadata": {},
          "execution_count": 8
        }
      ]
    },
    {
      "cell_type": "markdown",
      "source": [
        "### 카이제곱검정\n",
        "카테고리의 분포의 모수에 대해서 검정"
      ],
      "metadata": {
        "id": "_fOs2Oi6L43T"
      }
    },
    {
      "cell_type": "code",
      "source": [
        "N = 10\n",
        "K = 4\n",
        "mu_0 = np.ones(K)/K\n",
        "# mu = (0.25, 0.25, 0.25, 0.25)\n",
        "np.random.seed(0)\n",
        "x = np.random.choice(K, N, p=mu_0)\n",
        "n = np.bincount(x, minlength=K)\n",
        "n"
      ],
      "metadata": {
        "colab": {
          "base_uri": "https://localhost:8080/"
        },
        "id": "oFNEMvWXL3AO",
        "outputId": "5ac05f58-c7da-4193-8bf4-e1543be864f2"
      },
      "execution_count": null,
      "outputs": [
        {
          "output_type": "execute_result",
          "data": {
            "text/plain": [
              "array([0, 3, 5, 2])"
            ]
          },
          "metadata": {},
          "execution_count": 9
        }
      ]
    },
    {
      "cell_type": "code",
      "source": [
        "# 귀무가설 : mu=(0.25, 0.25, 0.25, 0.25)\n",
        "scipy.stats.chisquare(n)\n",
        "# 유의 수준 0.05 보다 높은 0.157의 값이기 때문에 mu=(0.25, 0.25, 0.25, 0.25)\n",
        "# 검정을 실시하기 전에 유의 수준을 설정하는데 보통 0.05, 0.01 정합니다.\n",
        "# 유의수준은 해당 표본집단이 어떤 모수(0.25,0.25,0.25,0.25) -> 모집단에서 해당 표본집단이 나올 확율"
      ],
      "metadata": {
        "colab": {
          "base_uri": "https://localhost:8080/"
        },
        "id": "7XAVN6TQL6o7",
        "outputId": "6f6f519f-167a-4cfb-9a66-090f9c4ae052"
      },
      "execution_count": null,
      "outputs": [
        {
          "output_type": "execute_result",
          "data": {
            "text/plain": [
              "Power_divergenceResult(statistic=5.199999999999999, pvalue=0.157724450396663)"
            ]
          },
          "metadata": {},
          "execution_count": 10
        }
      ]
    },
    {
      "cell_type": "code",
      "source": [
        "N = 100\n",
        "K = 4\n",
        "mu_0 = np.ones(K)/K\n",
        "np.random.seed(0)\n",
        "x = np.random.choice(K, N, p=mu_0)\n",
        "n = np.bincount(x, minlength=K)\n",
        "n"
      ],
      "metadata": {
        "colab": {
          "base_uri": "https://localhost:8080/"
        },
        "id": "4cnr92J8L7-F",
        "outputId": "1b588818-5196-4e2c-880b-b43bdede9934"
      },
      "execution_count": null,
      "outputs": [
        {
          "output_type": "execute_result",
          "data": {
            "text/plain": [
              "array([28, 23, 29, 20])"
            ]
          },
          "metadata": {},
          "execution_count": 11
        }
      ]
    },
    {
      "cell_type": "code",
      "source": [
        "scipy.stats.chisquare(n)"
      ],
      "metadata": {
        "colab": {
          "base_uri": "https://localhost:8080/"
        },
        "id": "KqHkbTHwL9IT",
        "outputId": "39eacb29-19ad-485d-fd30-98a2fc464385"
      },
      "execution_count": null,
      "outputs": [
        {
          "output_type": "execute_result",
          "data": {
            "text/plain": [
              "Power_divergenceResult(statistic=2.16, pvalue=0.5398700347618)"
            ]
          },
          "metadata": {},
          "execution_count": 12
        }
      ]
    },
    {
      "cell_type": "code",
      "source": [
        "N = 100\n",
        "K = 4\n",
        "mu_0 = [0.35, 0.3, 0.2, 0.15]\n",
        "np.random.seed(0)\n",
        "x = np.random.choice(K, N, p=mu_0)\n",
        "n = np.bincount(x, minlength=K)\n",
        "n"
      ],
      "metadata": {
        "colab": {
          "base_uri": "https://localhost:8080/"
        },
        "id": "83rvwFQ3L-6n",
        "outputId": "6c899279-2dee-4e86-af54-c46be905b95d"
      },
      "execution_count": null,
      "outputs": [
        {
          "output_type": "execute_result",
          "data": {
            "text/plain": [
              "array([37, 32, 20, 11])"
            ]
          },
          "metadata": {},
          "execution_count": 13
        }
      ]
    },
    {
      "cell_type": "code",
      "source": [
        "scipy.stats.chisquare(n)"
      ],
      "metadata": {
        "colab": {
          "base_uri": "https://localhost:8080/"
        },
        "id": "3f4V6YfpL_7M",
        "outputId": "6b393f75-04b7-4be0-8dda-0f79166c381b"
      },
      "execution_count": null,
      "outputs": [
        {
          "output_type": "execute_result",
          "data": {
            "text/plain": [
              "Power_divergenceResult(statistic=16.56, pvalue=0.0008703471978912127)"
            ]
          },
          "metadata": {},
          "execution_count": 14
        }
      ]
    },
    {
      "cell_type": "markdown",
      "source": [
        "### 단일표본 z검정\n",
        "$σ^2$의 값이 알고 있을 경우 정규분포 표본에 대한 모수를 조사하는 방법\n"
      ],
      "metadata": {
        "id": "XY83CNrJMFxK"
      }
    },
    {
      "cell_type": "code",
      "source": [
        "# 모수 u=0, sigma2=1\n",
        "N = 10\n",
        "mu_0 = 0\n",
        "np.random.seed(0)\n",
        "x = scipy.stats.norm(mu_0).rvs(N)\n",
        "x"
      ],
      "metadata": {
        "colab": {
          "base_uri": "https://localhost:8080/"
        },
        "id": "k_KnubLLMCpK",
        "outputId": "3d2875ed-6a2d-4e20-ae02-613b85ec8f62"
      },
      "execution_count": null,
      "outputs": [
        {
          "output_type": "execute_result",
          "data": {
            "text/plain": [
              "array([ 1.76405235,  0.40015721,  0.97873798,  2.2408932 ,  1.86755799,\n",
              "       -0.97727788,  0.95008842, -0.15135721, -0.10321885,  0.4105985 ])"
            ]
          },
          "metadata": {},
          "execution_count": 15
        }
      ]
    },
    {
      "cell_type": "code",
      "source": [
        "def ztest_1samp(x, sigma2=1, mu=0):\n",
        "  z = (x.mean()-mu)/np.sqrt(sigma2/len(x))\n",
        "  return z, 2 * scipy.stats.norm().sf(np.abs(z))\n",
        "\n",
        "ztest_1samp(x, mu=0)"
      ],
      "metadata": {
        "colab": {
          "base_uri": "https://localhost:8080/"
        },
        "id": "T6n3yCcIMHKe",
        "outputId": "3071aaa8-18dd-44b6-efda-d2e37261a008"
      },
      "execution_count": null,
      "outputs": [
        {
          "output_type": "execute_result",
          "data": {
            "text/plain": [
              "(2.3338341854824276, 0.019604406021683538)"
            ]
          },
          "metadata": {},
          "execution_count": 16
        }
      ]
    },
    {
      "cell_type": "markdown",
      "source": [
        "- 1종오류(Type 1 Error)\n",
        "      위 실습 코드처럼 귀무가설이 진실임에도 귀무가설이 유의수준보다 작아서 귀무가설이 채택되지 못하는 경우\n",
        "      보통 데이터의 수가 부족해서 나타나는 경우가 많음(N(표본의 개수) >= 30)"
      ],
      "metadata": {
        "id": "Wf3qwEJsMLAK"
      }
    },
    {
      "cell_type": "code",
      "source": [
        "N = 100\n",
        "mu_0 = 0\n",
        "np.random.seed(0)\n",
        "x = scipy.stats.norm(mu_0).rvs(N)\n",
        "ztest_1samp(x, mu=0)"
      ],
      "metadata": {
        "colab": {
          "base_uri": "https://localhost:8080/"
        },
        "id": "rY6aP_pJMIcX",
        "outputId": "4260d54a-42db-4353-a89e-ddfb6f2864f3"
      },
      "execution_count": null,
      "outputs": [
        {
          "output_type": "execute_result",
          "data": {
            "text/plain": [
              "(0.5980801553448499, 0.5497864508624168)"
            ]
          },
          "metadata": {},
          "execution_count": 17
        }
      ]
    },
    {
      "cell_type": "markdown",
      "source": [
        "### 단일 표본 t 검정\n",
        "정규분포의 표본에 대해 기댓값을 조사하는 검정방법\n",
        "$$\\frac{\\bar{x}-μ_0}{\\frac{s}{\\sqrt{N}}}$$"
      ],
      "metadata": {
        "id": "uWT4eUg3MN9K"
      }
    },
    {
      "cell_type": "code",
      "source": [
        "N = 10\n",
        "mu_0 = 0\n",
        "np.random.seed(0)\n",
        "x = scipy.stats.norm(mu_0).rvs(N)\n",
        "# 단일 표본 t검정\n",
        "# popmean : 귀무가설의 기댓값\n",
        "scipy.stats.ttest_1samp(x, popmean=0)"
      ],
      "metadata": {
        "colab": {
          "base_uri": "https://localhost:8080/"
        },
        "id": "AaYIUX3NMQnS",
        "outputId": "d0fafdf7-6da7-4807-dfad-325b8fda634f"
      },
      "execution_count": null,
      "outputs": [
        {
          "output_type": "execute_result",
          "data": {
            "text/plain": [
              "Ttest_1sampResult(statistic=2.28943967238967, pvalue=0.04781846490857058)"
            ]
          },
          "metadata": {},
          "execution_count": 18
        }
      ]
    },
    {
      "cell_type": "code",
      "source": [
        "N = 100\n",
        "mu_0 = 0\n",
        "np.random.seed(0)\n",
        "x = scipy.stats.norm(mu_0).rvs(N)\n",
        "# 단일 표본 t검정\n",
        "# popmean : 귀무가설의 기댓값\n",
        "scipy.stats.ttest_1samp(x, popmean=0)"
      ],
      "metadata": {
        "colab": {
          "base_uri": "https://localhost:8080/"
        },
        "id": "QUKUC-oIMQ__",
        "outputId": "e97188a7-6d1c-413c-8b9f-b5ae70f786f5"
      },
      "execution_count": null,
      "outputs": [
        {
          "output_type": "execute_result",
          "data": {
            "text/plain": [
              "Ttest_1sampResult(statistic=0.5904283402851698, pvalue=0.5562489158694675)"
            ]
          },
          "metadata": {},
          "execution_count": 19
        }
      ]
    },
    {
      "cell_type": "markdown",
      "source": [
        "### 독립표본 t검정\n",
        "두 개의 독립적인 정규분포의 데이터 셋을 사용해 두 정규분포의 기댓값이 동일한지 확인하는 검사\n",
        "- 두 개의 표본의 분산이 같을 경우\n",
        "$$ t = \\frac{\\bar{x_1} - \\bar{x_2}}{s⋅\\sqrt{\\frac{1}{N_1}+\\frac{1}{N_2}}}$$\n",
        "- 두개의 표본이 분산 같지 않을 경우\n",
        "$$ t = \\frac{\\bar{x_1} - \\bar{x_2}}{\\sqrt{\\frac{s^2}{N_1}+\\frac{s^2}{N_2}}}$$\n"
      ],
      "metadata": {
        "id": "TIT6ZisMMT1b"
      }
    },
    {
      "cell_type": "code",
      "source": [
        "import seaborn as sns\n",
        "N_1 = 10\n",
        "mu_1 = 0\n",
        "sigma_1 = 1\n",
        "N_2 = 10\n",
        "mu_2 = 0.5\n",
        "sigma_2 = 1\n",
        "\n",
        "np.random.seed(0)\n",
        "x1 = scipy.stats.norm(mu_1, sigma_1).rvs(N_1)\n",
        "x2 = scipy.stats.norm(mu_2, sigma_2).rvs(N_2)\n",
        "\n",
        "ax = sns.distplot(x1, kde=False, fit=scipy.stats.norm, label='1번')\n",
        "ax = sns.distplot(x2, kde=False, fit=scipy.stats.norm, label='2번')\n",
        "plt.legend()\n",
        "plt.grid()\n",
        "plt.show()"
      ],
      "metadata": {
        "colab": {
          "base_uri": "https://localhost:8080/",
          "height": 264
        },
        "id": "FVSXBsZfMSYh",
        "outputId": "249978b0-425d-47e6-9b70-fd129fb7290f"
      },
      "execution_count": null,
      "outputs": [
        {
          "output_type": "display_data",
          "data": {
            "text/plain": [
              "<Figure size 432x288 with 1 Axes>"
            ],
            "image/png": "[encoded data removed]"
          },
          "metadata": {
            "needs_background": "light"
          }
        }
      ]
    },
    {
      "cell_type": "code",
      "source": [
        "np.mean(x1), np.mean(x2)"
      ],
      "metadata": {
        "colab": {
          "base_uri": "https://localhost:8080/"
        },
        "id": "BK0BrqEmMViT",
        "outputId": "12d77108-fb3c-4ac0-c37e-c39eeb7d0e29"
      },
      "execution_count": null,
      "outputs": [
        {
          "output_type": "execute_result",
          "data": {
            "text/plain": [
              "(0.7380231707288347, 0.9006460151624349)"
            ]
          },
          "metadata": {},
          "execution_count": 21
        }
      ]
    },
    {
      "cell_type": "code",
      "source": [
        "# 귀무가설이 u0 = u1\n",
        "scipy.stats.ttest_ind(x1, x2, equal_var=False)"
      ],
      "metadata": {
        "colab": {
          "base_uri": "https://localhost:8080/"
        },
        "id": "9TZqEHRCOxZi",
        "outputId": "6d654ddb-30d5-4bbf-e2b9-0563610978c6"
      },
      "execution_count": null,
      "outputs": [
        {
          "output_type": "execute_result",
          "data": {
            "text/plain": [
              "Ttest_indResult(statistic=-0.4139968526988655, pvalue=0.6843504889824326)"
            ]
          },
          "metadata": {},
          "execution_count": 22
        }
      ]
    },
    {
      "cell_type": "markdown",
      "source": [
        "- 2종오류\n",
        "      Type 2 Error(2종 오류)\n",
        "      귀무가설이 거짓이지만, 귀무가설이 참으로 나오는 오류\n",
        "      데이가 많아지면 해당 오류의 확률을 줄일 수 있다."
      ],
      "metadata": {
        "id": "JzKHp1-xOz5m"
      }
    },
    {
      "cell_type": "markdown",
      "source": [
        "### 대응표본 t 검정\n",
        "두 집단의 표본이 1대 1 대응하는 경우 해당 검정을 시행할 수 있다.   \n",
        "예시) 학생들의 자습을 동일한 시간 했을 때 자습을 하기 전의 성적과 하고 나서의 성적이 1대 1 매칭이 될 때 자습에 대한 영향력을 검정하는 방법"
      ],
      "metadata": {
        "id": "9qP3nlg3O1w2"
      }
    },
    {
      "cell_type": "code",
      "source": [
        "N = 5\n",
        "mu_1 = 0\n",
        "mu_2 = 0.4\n",
        "np.random.seed(1)\n",
        "x1 = scipy.stats.norm(mu_1).rvs(N)\n",
        "x2 = x1 + scipy.stats.norm(mu_2).rvs(N)\n",
        "\n",
        "ax = sns.distplot(x1,kde=False, fit = scipy.stats.norm, label = '1번 데이터')\n",
        "ax = sns.distplot(x2,kde=False, fit = scipy.stats.norm, label = '2번 데이터')\n",
        "ax.lines[0].set_linestyle(':')\n",
        "plt.legend()\n",
        "plt.grid()\n",
        "plt.show()"
      ],
      "metadata": {
        "colab": {
          "base_uri": "https://localhost:8080/",
          "height": 264
        },
        "id": "_0IR5XYOOynR",
        "outputId": "e80153c0-8e3f-4533-e152-2b1c2ccf122f"
      },
      "execution_count": null,
      "outputs": [
        {
          "output_type": "display_data",
          "data": {
            "text/plain": [
              "<Figure size 432x288 with 1 Axes>"
            ],
            "image/png": "[encoded data removed]"
          },
          "metadata": {
            "needs_background": "light"
          }
        }
      ]
    },
    {
      "cell_type": "code",
      "source": [
        "# 귀무가설 x1, x2의 변화가 있다.\n",
        "scipy.stats.ttest_rel(x1, x2)"
      ],
      "metadata": {
        "colab": {
          "base_uri": "https://localhost:8080/"
        },
        "id": "qMFLtQ6iO3VH",
        "outputId": "73fb1068-ab9d-450b-dd08-0db45b720d38"
      },
      "execution_count": null,
      "outputs": [
        {
          "output_type": "execute_result",
          "data": {
            "text/plain": [
              "Ttest_relResult(statistic=-0.22700222832126432, pvalue=0.8315516654768336)"
            ]
          },
          "metadata": {},
          "execution_count": 24
        }
      ]
    },
    {
      "cell_type": "markdown",
      "source": [
        "### 등분산 검정\n",
        "두 개의 정규분포에서 생성된 데이터들의 분산 모수가 같은지 확인하는 검정\n",
        "- bartlett 검정\n",
        "- fligner 검정\n",
        "- levene 검정"
      ],
      "metadata": {
        "id": "ANTTY6AtO55P"
      }
    },
    {
      "cell_type": "code",
      "source": [
        "N1 = 100\n",
        "N2 = 100\n",
        "sigma_1 = 1\n",
        "sigma_2 = 1.2\n",
        "\n",
        "np.random.seed(0)\n",
        "x1 = scipy.stats.norm(0, sigma_1).rvs(N1)\n",
        "x2 = scipy.stats.norm(0, sigma_2).rvs(N2)\n",
        "\n",
        "ax = sns.distplot(x1, kde=False, fit=scipy.stats.norm, label='1번')\n",
        "ax = sns.distplot(x2, kde=False, fit=scipy.stats.norm, label='2번')\n",
        "\n",
        "ax.lines[0].set_linestyle(':')\n",
        "plt.legend()\n",
        "plt.grid()\n",
        "plt.show()"
      ],
      "metadata": {
        "colab": {
          "base_uri": "https://localhost:8080/",
          "height": 264
        },
        "id": "phVWFQzXO4tf",
        "outputId": "bdb058f4-f3d7-4c44-a6d6-f39873056a72"
      },
      "execution_count": null,
      "outputs": [
        {
          "output_type": "display_data",
          "data": {
            "text/plain": [
              "<Figure size 432x288 with 1 Axes>"
            ],
            "image/png": "[encoded data removed]"
          },
          "metadata": {
            "needs_background": "light"
          }
        }
      ]
    },
    {
      "cell_type": "code",
      "source": [
        "x1.std(), x2.std()"
      ],
      "metadata": {
        "colab": {
          "base_uri": "https://localhost:8080/"
        },
        "id": "2AoesB6FO7gj",
        "outputId": "2a5ae0ac-1fb8-43bf-ca12-4c0d2f40c28e"
      },
      "execution_count": null,
      "outputs": [
        {
          "output_type": "execute_result",
          "data": {
            "text/plain": [
              "(1.0078822447165796, 1.2416003969261071)"
            ]
          },
          "metadata": {},
          "execution_count": 26
        }
      ]
    },
    {
      "cell_type": "code",
      "source": [
        "# 귀무가설 : x1과 x2의 분산이 같다.\n",
        "scipy.stats.bartlett(x1, x2)"
      ],
      "metadata": {
        "colab": {
          "base_uri": "https://localhost:8080/"
        },
        "id": "ml3BitOsSzi1",
        "outputId": "ddfc0cb3-dce0-45cf-bd0d-4fb281ea0952"
      },
      "execution_count": null,
      "outputs": [
        {
          "output_type": "execute_result",
          "data": {
            "text/plain": [
              "BartlettResult(statistic=4.253473837232266, pvalue=0.039170128783651344)"
            ]
          },
          "metadata": {},
          "execution_count": 27
        }
      ]
    },
    {
      "cell_type": "code",
      "source": [
        "scipy.stats.fligner(x1, x2)"
      ],
      "metadata": {
        "colab": {
          "base_uri": "https://localhost:8080/"
        },
        "id": "MJ1bbeUwS0j9",
        "outputId": "c6e4eb19-0ef2-44bb-feed-adb1298baed6"
      },
      "execution_count": null,
      "outputs": [
        {
          "output_type": "execute_result",
          "data": {
            "text/plain": [
              "FlignerResult(statistic=7.224841990409457, pvalue=0.007190150106748367)"
            ]
          },
          "metadata": {},
          "execution_count": 28
        }
      ]
    },
    {
      "cell_type": "code",
      "source": [
        "scipy.stats.levene(x1, x2)"
      ],
      "metadata": {
        "colab": {
          "base_uri": "https://localhost:8080/"
        },
        "id": "FOovqsyBS1su",
        "outputId": "52153692-69f7-49aa-d197-5be55e7acc21"
      },
      "execution_count": null,
      "outputs": [
        {
          "output_type": "execute_result",
          "data": {
            "text/plain": [
              "LeveneResult(statistic=7.680708947679437, pvalue=0.0061135154970207925)"
            ]
          },
          "metadata": {},
          "execution_count": 29
        }
      ]
    },
    {
      "cell_type": "markdown",
      "source": [
        "### 정규성 검정\n",
        "확률분포가 가우시안 정규분포를 따르는지 확인하는 검정\n",
        "- 콜모고로프-스미르노프 검정\n",
        "- 샤피로-월크 검정\n",
        "- 앤더스-달링 검정"
      ],
      "metadata": {
        "id": "rIz2VcbaS4Uq"
      }
    },
    {
      "cell_type": "code",
      "source": [
        "np.random.seed(0)\n",
        "N1 = 50\n",
        "N2 = 100\n",
        "\n",
        "x1 = scipy.stats.norm(0,1).rvs(N1)\n",
        "x2 = scipy.stats.norm(0,1.5).rvs(N2)\n",
        "\n",
        "ax = sns.distplot(x1, kde=False, fit=scipy.stats.norm, label='1번')\n",
        "ax = sns.distplot(x2, kde=False, fit=scipy.stats.norm, label='2번')\n",
        "\n",
        "ax.lines[0].set_linestyle(':')\n",
        "plt.legend()\n",
        "plt.grid()\n",
        "plt.show()"
      ],
      "metadata": {
        "colab": {
          "base_uri": "https://localhost:8080/",
          "height": 264
        },
        "id": "yDCxZngFS24P",
        "outputId": "e5f81ac2-d2e3-400f-845b-4d55f12ff0aa"
      },
      "execution_count": null,
      "outputs": [
        {
          "output_type": "display_data",
          "data": {
            "text/plain": [
              "<Figure size 432x288 with 1 Axes>"
            ],
            "image/png": "[encoded data removed]"
          },
          "metadata": {
            "needs_background": "light"
          }
        }
      ]
    },
    {
      "cell_type": "code",
      "source": [
        "# 콜모고로프-스미르노프 검정\n",
        "scipy.stats.ks_2samp(x1, x2)"
      ],
      "metadata": {
        "colab": {
          "base_uri": "https://localhost:8080/"
        },
        "id": "Z2QpmdrVS6tO",
        "outputId": "dd20ff5b-d1f7-4119-b283-2bb8710f6da3"
      },
      "execution_count": null,
      "outputs": [
        {
          "output_type": "execute_result",
          "data": {
            "text/plain": [
              "KstestResult(statistic=0.13, pvalue=0.613749001553477)"
            ]
          },
          "metadata": {},
          "execution_count": 31
        }
      ]
    },
    {
      "cell_type": "code",
      "source": [
        "# 샤피로-월크 검정\n",
        "scipy.stats.shapiro(x1), scipy.stats.shapiro(x2)"
      ],
      "metadata": {
        "colab": {
          "base_uri": "https://localhost:8080/"
        },
        "id": "nEcK5QJVS8Lz",
        "outputId": "f137e10c-842a-44aa-a876-1b30ea614f7f"
      },
      "execution_count": null,
      "outputs": [
        {
          "output_type": "execute_result",
          "data": {
            "text/plain": [
              "(ShapiroResult(statistic=0.987645149230957, pvalue=0.8765420317649841),\n",
              " ShapiroResult(statistic=0.9792247414588928, pvalue=0.1156543642282486))"
            ]
          },
          "metadata": {},
          "execution_count": 32
        }
      ]
    },
    {
      "cell_type": "code",
      "source": [
        "# 앤더스-달링 검정\n",
        "scipy.stats.anderson(x1)"
      ],
      "metadata": {
        "id": "1_ZQr3nPS9gW",
        "outputId": "960e06bd-fcf8-46b9-c641-8cbd6c2f4237",
        "colab": {
          "base_uri": "https://localhost:8080/"
        }
      },
      "execution_count": null,
      "outputs": [
        {
          "output_type": "execute_result",
          "data": {
            "text/plain": [
              "AndersonResult(statistic=0.15006999533388665, critical_values=array([0.538, 0.613, 0.736, 0.858, 1.021]), significance_level=array([15. , 10. ,  5. ,  2.5,  1. ]))"
            ]
          },
          "metadata": {},
          "execution_count": 33
        }
      ]
    },
    {
      "cell_type": "code",
      "source": [],
      "metadata": {
        "id": "aTKYLNLCS_I4"
      },
      "execution_count": null,
      "outputs": []
    }
  ]
}