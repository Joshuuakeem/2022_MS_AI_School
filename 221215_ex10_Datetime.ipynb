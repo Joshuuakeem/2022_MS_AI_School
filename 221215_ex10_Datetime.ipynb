{
  "nbformat": 4,
  "nbformat_minor": 0,
  "metadata": {
    "colab": {
      "provenance": []
    },
    "kernelspec": {
      "name": "python3",
      "display_name": "Python 3"
    },
    "language_info": {
      "name": "python"
    }
  },
  "cells": [
    {
      "cell_type": "code",
      "execution_count": null,
      "metadata": {
        "id": "BUznEMs2pXg7"
      },
      "outputs": [],
      "source": [
        "import pandas as pd"
      ]
    },
    {
      "cell_type": "code",
      "source": [
        "dataframe = pd.DataFrame()\n",
        "# Datetime 생성\n",
        "# periods 매개변수는 date_range함수에 전달된 시작날짜와 종료날짜를 periods 매개변수에 전달된 기간만큼\n",
        "# 동일하게 나누어 출력해준다.\n",
        "dataframe['date'] = pd.date_range('1/1/2022', periods=100000, freq='H')\n",
        "\n",
        "# 두 datetime 사이의 샘플을 선택\n",
        "dataframe[(dataframe['date'] > '2022-1-1 01:00:00') &\n",
        "          (dataframe['date'] <= '2022-1-1 04:00:00')]\n",
        "dataframe = dataframe.set_index(dataframe['date'])\n",
        "\n",
        "temp = dataframe.loc['2022-1-1 01:00:00' : '2022-1-1 04:00:00']\n",
        "print(temp)"
      ],
      "metadata": {
        "colab": {
          "base_uri": "https://localhost:8080/"
        },
        "id": "O1J4AaT0rwZc",
        "outputId": "31a9c9f4-23d1-4c75-9040-ee2d3d2c50f1"
      },
      "execution_count": null,
      "outputs": [
        {
          "output_type": "stream",
          "name": "stdout",
          "text": [
            "                                   date\n",
            "date                                   \n",
            "2022-01-01 01:00:00 2022-01-01 01:00:00\n",
            "2022-01-01 02:00:00 2022-01-01 02:00:00\n",
            "2022-01-01 03:00:00 2022-01-01 03:00:00\n",
            "2022-01-01 04:00:00 2022-01-01 04:00:00\n"
          ]
        }
      ]
    },
    {
      "cell_type": "code",
      "source": [],
      "metadata": {
        "id": "rvqQ7jFmsy2N"
      },
      "execution_count": null,
      "outputs": []
    }
  ]
}