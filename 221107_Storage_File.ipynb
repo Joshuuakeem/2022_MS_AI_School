{
  "nbformat": 4,
  "nbformat_minor": 0,
  "metadata": {
    "colab": {
      "provenance": []
    },
    "kernelspec": {
      "name": "python3",
      "display_name": "Python 3"
    },
    "language_info": {
      "name": "python"
    }
  },
  "cells": [
    {
      "cell_type": "code",
      "execution_count": null,
      "metadata": {
        "colab": {
          "base_uri": "https://localhost:8080/"
        },
        "id": "RqU23wPJJNNZ",
        "outputId": "3efea3f2-0f40-40c8-8cab-94f378cef57c"
      },
      "outputs": [
        {
          "output_type": "stream",
          "name": "stdout",
          "text": [
            "Looking in indexes: https://pypi.org/simple, https://us-python.pkg.dev/colab-wheels/public/simple/\n",
            "Collecting azure_storage_file\n",
            "  Downloading azure_storage_file-2.1.0-py2.py3-none-any.whl (36 kB)\n",
            "Collecting azure-storage-common~=2.1\n",
            "  Downloading azure_storage_common-2.1.0-py2.py3-none-any.whl (47 kB)\n",
            "\u001b[K     |████████████████████████████████| 47 kB 1.8 MB/s \n",
            "\u001b[?25hCollecting azure-common>=1.1.5\n",
            "  Downloading azure_common-1.1.28-py2.py3-none-any.whl (14 kB)\n",
            "Requirement already satisfied: python-dateutil in /usr/local/lib/python3.7/dist-packages (from azure-storage-common~=2.1->azure_storage_file) (2.8.2)\n",
            "Requirement already satisfied: requests in /usr/local/lib/python3.7/dist-packages (from azure-storage-common~=2.1->azure_storage_file) (2.23.0)\n",
            "Collecting cryptography\n",
            "  Downloading cryptography-38.0.3-cp36-abi3-manylinux_2_24_x86_64.whl (4.1 MB)\n",
            "\u001b[K     |████████████████████████████████| 4.1 MB 6.3 MB/s \n",
            "\u001b[?25hRequirement already satisfied: cffi>=1.12 in /usr/local/lib/python3.7/dist-packages (from cryptography->azure-storage-common~=2.1->azure_storage_file) (1.15.1)\n",
            "Requirement already satisfied: pycparser in /usr/local/lib/python3.7/dist-packages (from cffi>=1.12->cryptography->azure-storage-common~=2.1->azure_storage_file) (2.21)\n",
            "Requirement already satisfied: six>=1.5 in /usr/local/lib/python3.7/dist-packages (from python-dateutil->azure-storage-common~=2.1->azure_storage_file) (1.15.0)\n",
            "Requirement already satisfied: certifi>=2017.4.17 in /usr/local/lib/python3.7/dist-packages (from requests->azure-storage-common~=2.1->azure_storage_file) (2022.9.24)\n",
            "Requirement already satisfied: urllib3!=1.25.0,!=1.25.1,<1.26,>=1.21.1 in /usr/local/lib/python3.7/dist-packages (from requests->azure-storage-common~=2.1->azure_storage_file) (1.24.3)\n",
            "Requirement already satisfied: idna<3,>=2.5 in /usr/local/lib/python3.7/dist-packages (from requests->azure-storage-common~=2.1->azure_storage_file) (2.10)\n",
            "Requirement already satisfied: chardet<4,>=3.0.2 in /usr/local/lib/python3.7/dist-packages (from requests->azure-storage-common~=2.1->azure_storage_file) (3.0.4)\n",
            "Installing collected packages: cryptography, azure-common, azure-storage-common, azure-storage-file\n",
            "Successfully installed azure-common-1.1.28 azure-storage-common-2.1.0 azure-storage-file-2.1.0 cryptography-38.0.3\n"
          ]
        }
      ],
      "source": [
        "!pip install azure_storage_file"
      ]
    },
    {
      "cell_type": "code",
      "source": [
        "# File Share 연결 코드\n",
        "\n",
        "from azure.storage.file import FileService\n",
        "file_service = FileService(account_name='labuser14storage22',\n",
        "                           account_key='TxToNY4ck8ctr4mzk6x8uRto05usNIieOor7leY2eZcq0BzQq0c7s+66xrRMmjjYkEeTWatflZZg+AStMW/fSA==')\n",
        "## 실제로 account key를 직접 입력하는 코드는 좋지 않으므로 주의"
      ],
      "metadata": {
        "id": "MwWBBeKoJmS5"
      },
      "execution_count": null,
      "outputs": []
    },
    {
      "cell_type": "code",
      "source": [
        "# myshare 공유 폴더 생성\n",
        "\n",
        "file_service.create_share('myshare')"
      ],
      "metadata": {
        "colab": {
          "base_uri": "https://localhost:8080/"
        },
        "id": "TBBVfzScM5Jm",
        "outputId": "4d6f558b-574f-4611-f757-8046caaf8af5"
      },
      "execution_count": null,
      "outputs": [
        {
          "output_type": "execute_result",
          "data": {
            "text/plain": [
              "True"
            ]
          },
          "metadata": {},
          "execution_count": 4
        }
      ]
    },
    {
      "cell_type": "code",
      "source": [
        "# myshare 안에 샘플 디렉토리인 sampledir을 생성\n",
        "##디렉토리 생성\n",
        "file_service.create_directory('myshare','sampledir')"
      ],
      "metadata": {
        "colab": {
          "base_uri": "https://localhost:8080/"
        },
        "id": "DU3Jy0-PNHJK",
        "outputId": "c49573c3-530e-4378-c87c-6607e4255603"
      },
      "execution_count": null,
      "outputs": [
        {
          "output_type": "execute_result",
          "data": {
            "text/plain": [
              "True"
            ]
          },
          "metadata": {},
          "execution_count": 5
        }
      ]
    },
    {
      "cell_type": "code",
      "source": [
        "#IU.jpg를 myfile로 해당 공유 폴더에 복사\n",
        "from azure.storage.file import ContentSettings\n",
        "\n",
        "file_service.create_file_from_path('myshare',\n",
        "                                   None,\n",
        "                                   'myfile',\n",
        "                                   'IU.jpg',\n",
        "                                   content_settings=ContentSettings(content_type='image/jpg'))"
      ],
      "metadata": {
        "id": "dbkt6WRCNl5W"
      },
      "execution_count": null,
      "outputs": []
    },
    {
      "cell_type": "code",
      "source": [
        "# 공유 폴더 안에 파일목록을 가져와서 보여준다.\n",
        "##파일 목록 불러오기\n",
        "generator = file_service.list_directories_and_files('myshare')\n",
        "for file_or_dir in generator:\n",
        "  print(file_or_dir.name)"
      ],
      "metadata": {
        "colab": {
          "base_uri": "https://localhost:8080/"
        },
        "id": "sA25TCyePBwa",
        "outputId": "eafc518e-27d0-4989-a431-5604e604f885"
      },
      "execution_count": null,
      "outputs": [
        {
          "output_type": "stream",
          "name": "stdout",
          "text": [
            "myfile\n",
            "sampledir\n"
          ]
        }
      ]
    },
    {
      "cell_type": "code",
      "source": [
        "# 다시 myfile로 복사된 IU.jpg를 out-IU.jpg로 가져온다. \n",
        "\n",
        "file_service.get_file_to_path('myshare',None,'myfile','out-IU.jpg')"
      ],
      "metadata": {
        "colab": {
          "base_uri": "https://localhost:8080/"
        },
        "id": "dCdFv0fRPao4",
        "outputId": "bb77d60d-988c-4ef8-ea98-7edbe2c68b9c"
      },
      "execution_count": null,
      "outputs": [
        {
          "output_type": "execute_result",
          "data": {
            "text/plain": [
              "<azure.storage.file.models.File at 0x7fe074b336d0>"
            ]
          },
          "metadata": {},
          "execution_count": 9
        }
      ]
    },
    {
      "cell_type": "code",
      "source": [
        "# 스냅샷 찍기\n",
        "metadata = {\"foo\": \"bar\"}\n",
        "snapshot = file_service.snapshot_share('myshare', metadata=metadata)"
      ],
      "metadata": {
        "id": "BVZXy7VaQEXV"
      },
      "execution_count": null,
      "outputs": []
    },
    {
      "cell_type": "code",
      "source": [
        "# 전체 스냅샷 목록 가져오기\n",
        "shares = list(file_service.list_shares(include_snapshots=True))\n",
        "\n",
        "for s in shares:\n",
        "  print(s.snapshot)\n",
        "\n",
        "print(shares)"
      ],
      "metadata": {
        "colab": {
          "base_uri": "https://localhost:8080/"
        },
        "id": "dJPyt8Dunl6L",
        "outputId": "fe5ebbbb-dc99-4e0e-d338-d6bd266e2bef"
      },
      "execution_count": null,
      "outputs": [
        {
          "output_type": "stream",
          "name": "stdout",
          "text": [
            "[<azure.storage.file.models.Share object at 0x7fe06d9567d0>, <azure.storage.file.models.Share object at 0x7fe06d9bac50>, <azure.storage.file.models.Share object at 0x7fe06d90de90>]\n"
          ]
        }
      ]
    },
    {
      "cell_type": "code",
      "source": [
        "# 스냅샷 파일과 디렉토리 목록 가져오기\n",
        "\n",
        "directories_and_files = list(\n",
        "    file_service.list_directories_and_files('myshare', snapshot='2022-11-08T00:24:09.0000000Z'))"
      ],
      "metadata": {
        "id": "TqlIZ3jooLf6"
      },
      "execution_count": null,
      "outputs": []
    },
    {
      "cell_type": "code",
      "source": [
        "# 파일과 디렉토리 목록을 출력한다. \n",
        "\n",
        "directories_and_files\n",
        "for file_or_dir in generator:\n",
        "    print(file_or_dir.name)"
      ],
      "metadata": {
        "colab": {
          "base_uri": "https://localhost:8080/"
        },
        "id": "zBfjOwtsoljU",
        "outputId": "7c2578f5-d88d-4c2b-87e9-dc6982e911cb"
      },
      "execution_count": null,
      "outputs": [
        {
          "output_type": "stream",
          "name": "stdout",
          "text": [
            "myfile\n",
            "sampledir\n"
          ]
        }
      ]
    },
    {
      "cell_type": "code",
      "source": [
        "#스냅샷 삭제\n",
        "\n",
        "file_service.delete_share('myshare', snapshot='2022-11-08T00:24:09.0000000Z')"
      ],
      "metadata": {
        "colab": {
          "base_uri": "https://localhost:8080/"
        },
        "id": "cv2Co3s2qirb",
        "outputId": "60c1cda6-8495-4a23-df7c-7ab04f6aa130"
      },
      "execution_count": null,
      "outputs": [
        {
          "output_type": "execute_result",
          "data": {
            "text/plain": [
              "True"
            ]
          },
          "metadata": {},
          "execution_count": 22
        }
      ]
    },
    {
      "cell_type": "code",
      "source": [
        "#공유 폴더 내 파일 삭제\n",
        "\n",
        "file_service.delete_file('myshare', None, 'myfile')"
      ],
      "metadata": {
        "id": "aZYwWXPmqwdS"
      },
      "execution_count": null,
      "outputs": []
    },
    {
      "cell_type": "code",
      "source": [
        "#공유 폴더 삭제\n",
        "## 공유 폴더 내 데이터가 남아있다면 삭제 안됨\n",
        "\n",
        "file_service.delete_share('myshare')"
      ],
      "metadata": {
        "colab": {
          "base_uri": "https://localhost:8080/"
        },
        "id": "k_pR8qtTq5ky",
        "outputId": "62609833-890a-409f-f062-c89bba1d0268"
      },
      "execution_count": null,
      "outputs": [
        {
          "output_type": "execute_result",
          "data": {
            "text/plain": [
              "True"
            ]
          },
          "metadata": {},
          "execution_count": 25
        }
      ]
    },
    {
      "cell_type": "code",
      "source": [],
      "metadata": {
        "id": "ckybBth8q7Ud"
      },
      "execution_count": null,
      "outputs": []
    }
  ]
}