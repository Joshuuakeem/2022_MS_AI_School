{
  "nbformat": 4,
  "nbformat_minor": 0,
  "metadata": {
    "colab": {
      "provenance": []
    },
    "kernelspec": {
      "name": "python3",
      "display_name": "Python 3"
    },
    "language_info": {
      "name": "python"
    }
  },
  "cells": [
    {
      "cell_type": "code",
      "execution_count": null,
      "metadata": {
        "id": "hq6nHjsQ4eIX"
      },
      "outputs": [],
      "source": [
        "import cv2\n",
        "import os"
      ]
    },
    {
      "cell_type": "code",
      "source": [
        "video_file_path = \"./video01.mp4\"\n",
        "\n",
        "# 동영상 캡쳐 객체 생성\n",
        "cap = cv2.VideoCapture(video_file_path)\n",
        "\n",
        "fps = cap.get(cv2.CAP_PROP_FPS)\n",
        "print(\"fps >>\", fps)\n",
        "count = 0\n",
        "if cap.isOpened():\n",
        "  while True:\n",
        "    ret, frame = cap.read()\n",
        "    if ret:\n",
        "      if(int(cap.get(1)) %fps == 0):   #fps 값을 사용하여 1초마다 추출\n",
        "        os.makedirs(\"./frame_image_save\", exist_ok=True)    #exist_ok = 중복 폴더 무시\n",
        "        cv2.imwrite(\"./frame_image_save\" + \"frame%d.jpg\" % count, frame)\n",
        "        print(\"save frame number >> \", str(int(cap.get(1))))\n",
        "        count += 1\n",
        "    else:\n",
        "      break\n",
        "else:\n",
        "  print(\"비디오 열기 실패\")\n",
        "cap.release()\n",
        "cv2.destroyAllWindows()\n",
        "k = cv2.waitKey(0)"
      ],
      "metadata": {
        "colab": {
          "base_uri": "https://localhost:8080/"
        },
        "id": "smw2ebCj785N",
        "outputId": "fd253b52-8512-41ac-f892-6ac487effc00"
      },
      "execution_count": null,
      "outputs": [
        {
          "output_type": "stream",
          "name": "stdout",
          "text": [
            "fps >> 25.0\n",
            "save frame number >>  25\n",
            "save frame number >>  50\n",
            "save frame number >>  75\n",
            "save frame number >>  100\n",
            "save frame number >>  125\n",
            "save frame number >>  150\n",
            "save frame number >>  175\n",
            "save frame number >>  200\n",
            "save frame number >>  225\n",
            "save frame number >>  250\n",
            "save frame number >>  275\n",
            "save frame number >>  300\n"
          ]
        }
      ]
    },
    {
      "cell_type": "code",
      "source": [],
      "metadata": {
        "id": "yfTP2GpT8nR3"
      },
      "execution_count": null,
      "outputs": []
    }
  ]
}