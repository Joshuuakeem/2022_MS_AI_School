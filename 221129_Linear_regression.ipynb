{
  "nbformat": 4,
  "nbformat_minor": 0,
  "metadata": {
    "colab": {
      "provenance": []
    },
    "kernelspec": {
      "name": "python3",
      "display_name": "Python 3"
    },
    "language_info": {
      "name": "python"
    }
  },
  "cells": [
    {
      "cell_type": "markdown",
      "source": [
        "# 선형회귀(Linear Regression)\n"
      ],
      "metadata": {
        "id": "uqFhmeX-s7ln"
      }
    },
    {
      "cell_type": "code",
      "execution_count": null,
      "metadata": {
        "id": "Y2WGNw8Ws1fW"
      },
      "outputs": [],
      "source": [
        "# 보스턴 집값 예측\n",
        "from sklearn.datasets import load_boston\n",
        "\n",
        "boston = load_boston()"
      ]
    },
    {
      "cell_type": "code",
      "source": [
        "boston.keys()"
      ],
      "metadata": {
        "id": "R44n4ap7s-BB"
      },
      "execution_count": null,
      "outputs": []
    },
    {
      "cell_type": "code",
      "source": [
        "boston.data"
      ],
      "metadata": {
        "id": "dU1aLhTEtEga"
      },
      "execution_count": null,
      "outputs": []
    },
    {
      "cell_type": "code",
      "source": [
        "boston.feature_names"
      ],
      "metadata": {
        "id": "YxLFLBrPtF1L"
      },
      "execution_count": null,
      "outputs": []
    },
    {
      "cell_type": "markdown",
      "source": [
        "### 독립변수\n",
        "- CRIM : 범죄율\n",
        "- INDUS : 비소매상업지역 면적비율\n",
        "- NOX : 일산화질수 농도\n",
        "- RM : 주택당 방 수\n",
        "- LSTAT : 하위 계층 비율\n",
        "- B : 흑인 비율\n",
        "- PTRATIO : 학생과 선생님 비율\n",
        "- ZN : 25,000평방 피트를 초과 거주지역 비율\n",
        "- CHAS : 찰스강의 경계에 위치하면 1 아니면 0\n",
        "- AGE : 1940년 이전에 건축된 주택의 비율\n",
        "- RAD : 방사형 고속도로까지의 거리\n",
        "- DIS : 직업센터의 거리\n",
        "- TAX : 재산세율\n",
        "### 종속변수\n",
        "- 보스턴 506개 타운의 1978년 주택 가격 중앙값(단위 1,000달러)"
      ],
      "metadata": {
        "id": "KjdX67m_tKhP"
      }
    },
    {
      "cell_type": "code",
      "source": [
        "!pip install koreanize-matplotlib\n",
        "import koreanize_matplotlib"
      ],
      "metadata": {
        "id": "-hGrldP0tI57"
      },
      "execution_count": null,
      "outputs": []
    },
    {
      "cell_type": "code",
      "source": [
        "import pandas as pd\n",
        "dfX = pd.DataFrame(boston.data, columns=boston.feature_names)\n",
        "dfy = pd.DataFrame(boston.target, columns =['MEDV'])"
      ],
      "metadata": {
        "id": "hdgF-sKqtMXj"
      },
      "execution_count": null,
      "outputs": []
    },
    {
      "cell_type": "code",
      "source": [
        "df = pd.concat([dfX,dfy], axis=1)\n",
        "df.head()"
      ],
      "metadata": {
        "id": "LrLm5sHDtOTO"
      },
      "execution_count": null,
      "outputs": []
    },
    {
      "cell_type": "code",
      "source": [
        "import seaborn as sns\n",
        "import matplotlib.pyplot as plt\n",
        "sns.pairplot(df[['MEDV','RM','AGE','CHAS']])\n",
        "plt.show()"
      ],
      "metadata": {
        "id": "roJw9ORftPhc"
      },
      "execution_count": null,
      "outputs": []
    },
    {
      "cell_type": "code",
      "source": [
        "# 당뇨병 진행도 예측\n",
        "from sklearn.datasets import load_diabetes\n",
        "\n",
        "diabetes = load_diabetes()\n",
        "df = pd.DataFrame(diabetes.data, columns=diabetes.feature_names)\n",
        "df['target'] = diabetes.target\n",
        "df.tail()"
      ],
      "metadata": {
        "id": "1tQni8C6tRtG"
      },
      "execution_count": null,
      "outputs": []
    },
    {
      "cell_type": "code",
      "source": [
        "sns.pairplot(df[['target','bmi','bp','s1']])\n",
        "plt.plot()"
      ],
      "metadata": {
        "id": "UoZ8LHGMtXKc"
      },
      "execution_count": null,
      "outputs": []
    },
    {
      "cell_type": "code",
      "source": [
        "# 가상 데이터 예측\n",
        "from sklearn.datasets import make_regression\n",
        "X, y, w = make_regression(n_samples=50, n_features=1, bias=100, noise=10, coef=True, random_state=0)\n",
        "# X"
      ],
      "metadata": {
        "id": "kgwM4IQWtYws"
      },
      "execution_count": null,
      "outputs": []
    },
    {
      "cell_type": "code",
      "source": [],
      "metadata": {
        "id": "yIQQJEMBtepd"
      },
      "execution_count": null,
      "outputs": []
    },
    {
      "cell_type": "markdown",
      "source": [
        "y = xw+b+e"
      ],
      "metadata": {
        "id": "1DJo97FetfJu"
      }
    },
    {
      "cell_type": "code",
      "source": [
        "import numpy as np\n",
        "xx = np.linspace(-3, 3, 100)\n",
        "y0 = w * xx + 100"
      ],
      "metadata": {
        "id": "nFvo3EVCtgVm"
      },
      "execution_count": null,
      "outputs": []
    },
    {
      "cell_type": "code",
      "source": [
        "plt.plot(xx, y0,'r')\n",
        "plt.scatter(X, y, s=100)\n",
        "plt.title('l-regression')\n",
        "plt.show()"
      ],
      "metadata": {
        "id": "DrqHHZL_thK7"
      },
      "execution_count": null,
      "outputs": []
    },
    {
      "cell_type": "markdown",
      "source": [
        "## 선형회귀분석 기초\n",
        "$$\\hat{y} = f(x)$$\n",
        "$$\\hat{y} = w_0 + w_1x_1 + w_2x_2 + \\cdots + w_Dx_D$$\n",
        "$$= w_0+w^Tx$$"
      ],
      "metadata": {
        "id": "5Z7HX8NmHhDm"
      }
    },
    {
      "cell_type": "markdown",
      "source": [
        "### 최소자승법(OLS)\n",
        "y와 $\\hat{y}$이 가까워 지려면 OLS(Oridnary Least Squares) 방법을 통해 RSS(Residual Sum of Squares)를 최소화시키는 것과 같다.\n",
        "\n",
        "$$\\hat{y} = Xw$$   \n",
        "$$ϵ=y-\\hat{y} =y - Xw$$   \n",
        "$$RSS = ϵ^Tϵ=(y - Xw)^T(y - Xw)$$   \n",
        "$$ = y^T-2y^TXw + w^TX^TXw$$\n",
        "\n",
        "w로 미분하여 잔차제곱합의 그레디언트 벡터를 구합니다.   \n",
        "잔차가 최소가 되기 위해서는 그레디언트 벡터가 0이어야 합니다.   \n",
        "$$\\frac{dRSS}{dw} = 0$$   \n",
        "$$\\frac{dRSS}{dw} = -2X^Ty + 2X^TXw$$   \n",
        "$$X^Ty = X^TXw$$   \n",
        "$$w=(X^TX)^{-1}X^Ty$$\n",
        "\n"
      ],
      "metadata": {
        "id": "yoynrKH3HjRF"
      }
    },
    {
      "cell_type": "markdown",
      "source": [
        "### 직교 방정식\n",
        "그레디언트 벡터가 0벡터가 되는 관계를 직교방정식\n",
        "$$X^Ty - X^TXw = 0$$\n",
        "$$X^T(y-Xw) = 0$$\n",
        "$$X^Te = 0$$\n",
        "\n",
        "- 직교 방정식의 성질\n",
        "      잔차 벡터의 원소의 합은 0\n",
        "$$\\Sigma_{i=0}^Ne_i=0$$\n",
        "\n",
        "      x 데이터의 평균값에 대한 예측값은 y 데이터의 평균값이다.\n"
      ],
      "metadata": {
        "id": "DRXVOEhCHk09"
      }
    },
    {
      "cell_type": "code",
      "source": [
        "from sklearn.datasets import make_regression\n",
        "import statsmodels.api as sm\n",
        "\n",
        "bias = 100\n",
        "X0, y, w = make_regression(\n",
        "    n_samples=200, n_features=1, bias=bias, noise=10, coef=True, random_state=1\n",
        ")\n",
        "X = sm.add_constant(X0)\n",
        "y = y.reshape(len(y),1)"
      ],
      "metadata": {
        "id": "LKVaC_W8tidE"
      },
      "execution_count": null,
      "outputs": []
    },
    {
      "cell_type": "code",
      "source": [
        "w"
      ],
      "metadata": {
        "id": "27V3GyURHmwv"
      },
      "execution_count": null,
      "outputs": []
    },
    {
      "cell_type": "code",
      "source": [
        "# OLS 해 구하기\n",
        "w = np.linalg.inv(X.T @ X) @ X.T@y\n",
        "w"
      ],
      "metadata": {
        "id": "3akZA9XOHnat"
      },
      "execution_count": null,
      "outputs": []
    },
    {
      "cell_type": "code",
      "source": [
        "x_new = np.linspace(np.min(X0), np.max(X0), 10)\n",
        "X_new = sm.add_constant(x_new)\n",
        "y_new = np.dot(X_new, w)\n",
        "\n",
        "plt.scatter(X0, y, label='기존데이터')\n",
        "plt.plot(x_new, y_new, 'rs-', label='예측값')\n",
        "plt.title('선형 회귀분석')\n",
        "plt.legend()\n",
        "plt.grid()\n",
        "plt.show()"
      ],
      "metadata": {
        "id": "qOwnNnIeHpOJ"
      },
      "execution_count": null,
      "outputs": []
    },
    {
      "cell_type": "markdown",
      "source": [
        "#### sklearn을 활용"
      ],
      "metadata": {
        "id": "qkw8q5ETHsJF"
      }
    },
    {
      "cell_type": "code",
      "source": [
        "from sklearn.linear_model import LinearRegression\n",
        "\n",
        "model = LinearRegression().fit(X0,y)\n",
        "print(model.intercept_, model.coef_)"
      ],
      "metadata": {
        "id": "Y7tEeghMHqhe"
      },
      "execution_count": null,
      "outputs": []
    },
    {
      "cell_type": "code",
      "source": [
        "model.predict([[-2],[-1],[0],[1],[2]])"
      ],
      "metadata": {
        "id": "6ozC0fELHtdy"
      },
      "execution_count": null,
      "outputs": []
    },
    {
      "cell_type": "markdown",
      "source": [
        "#### statsmodel을 활용"
      ],
      "metadata": {
        "id": "engnMhMaHxbF"
      }
    },
    {
      "cell_type": "code",
      "source": [
        "df = pd.DataFrame({'x':X0[:,0], 'y':y[:,0]})\n",
        "df"
      ],
      "metadata": {
        "id": "tFN4mUMEHv38"
      },
      "execution_count": null,
      "outputs": []
    },
    {
      "cell_type": "code",
      "source": [
        "dfy = df[['y']]\n",
        "dfX = sm.add_constant(df[['x']])\n",
        "model = sm.OLS(dfy, dfX)\n",
        "result = model.fit()"
      ],
      "metadata": {
        "id": "fqfrcypoHyrW"
      },
      "execution_count": null,
      "outputs": []
    },
    {
      "cell_type": "code",
      "source": [
        "model = sm.OLS.from_formula(\"y ~ x\",data=df)\n",
        "result = model.fit()"
      ],
      "metadata": {
        "id": "nTTeqVPKHzxt"
      },
      "execution_count": null,
      "outputs": []
    },
    {
      "cell_type": "code",
      "source": [
        "result.predict({'x':[1000,2000]})"
      ],
      "metadata": {
        "id": "_V37RLQ9H1I6"
      },
      "execution_count": null,
      "outputs": []
    },
    {
      "cell_type": "code",
      "source": [
        "result.params"
      ],
      "metadata": {
        "id": "QN6Ukzc3H2AB"
      },
      "execution_count": null,
      "outputs": []
    },
    {
      "cell_type": "code",
      "source": [
        "result.resid.plot(style='o')\n",
        "plt.grid()\n",
        "plt.title('잔차벡터')\n",
        "plt.show()"
      ],
      "metadata": {
        "id": "XkAGBtn6H5Lu"
      },
      "execution_count": null,
      "outputs": []
    },
    {
      "cell_type": "code",
      "source": [
        "result.resid.sum()"
      ],
      "metadata": {
        "id": "Km7W7bweH6tL"
      },
      "execution_count": null,
      "outputs": []
    },
    {
      "cell_type": "code",
      "source": [
        "result.predict({'x':X0.mean()})"
      ],
      "metadata": {
        "id": "ZC5tBmPkH8r9"
      },
      "execution_count": null,
      "outputs": []
    },
    {
      "cell_type": "code",
      "source": [
        "y.mean()"
      ],
      "metadata": {
        "id": "08ZrGwMPH9rK"
      },
      "execution_count": null,
      "outputs": []
    },
    {
      "cell_type": "markdown",
      "source": [
        "#### 보스턴 집값 예측\n"
      ],
      "metadata": {
        "id": "w76BEK-zIAHm"
      }
    },
    {
      "cell_type": "code",
      "source": [
        "dfX0 = pd.DataFrame(boston.data, columns=boston.feature_names)\n",
        "dfy = pd.DataFrame(boston.target, columns=['MEDV'])\n",
        "dfX = sm.add_constant(dfX0)\n",
        "\n",
        "model_boston2 = sm.OLS(dfy, dfX)\n",
        "result_boston2 = model_boston2.fit()\n",
        "print(result_boston2.summary())"
      ],
      "metadata": {
        "id": "aejVWis_H-gn"
      },
      "execution_count": null,
      "outputs": []
    },
    {
      "cell_type": "code",
      "source": [
        "A = np.eye(4)\n",
        "np.linalg.cond(A)"
      ],
      "metadata": {
        "id": "yLqUghUYIBBL"
      },
      "execution_count": null,
      "outputs": []
    },
    {
      "cell_type": "code",
      "source": [
        "b = np.ones(4)\n",
        "x = np.linalg.solve(A,b)"
      ],
      "metadata": {
        "id": "ZWKxxDaPIC6C"
      },
      "execution_count": null,
      "outputs": []
    },
    {
      "cell_type": "code",
      "source": [
        "x"
      ],
      "metadata": {
        "id": "0OMh2bk0IDxo"
      },
      "execution_count": null,
      "outputs": []
    },
    {
      "cell_type": "code",
      "source": [
        "x_error = np.linalg.solve(A + 0.0001 * np.eye(4), b)"
      ],
      "metadata": {
        "id": "qJ1_yTPtIEqv"
      },
      "execution_count": null,
      "outputs": []
    },
    {
      "cell_type": "code",
      "source": [
        "x_error"
      ],
      "metadata": {
        "id": "wj8yR73zIF5B"
      },
      "execution_count": null,
      "outputs": []
    },
    {
      "cell_type": "code",
      "source": [
        "import scipy as sp\n",
        "A = sp.linalg.hilbert(4)\n",
        "A"
      ],
      "metadata": {
        "id": "q8IiOEFiIHi5"
      },
      "execution_count": null,
      "outputs": []
    },
    {
      "cell_type": "code",
      "source": [
        "np.linalg.cond(A)"
      ],
      "metadata": {
        "id": "uQHVIldXIJLk"
      },
      "execution_count": null,
      "outputs": []
    },
    {
      "cell_type": "code",
      "source": [
        "sp.linalg.solve(A,b)"
      ],
      "metadata": {
        "id": "Nvx_exZUIKRV"
      },
      "execution_count": null,
      "outputs": []
    },
    {
      "cell_type": "code",
      "source": [
        "sp.linalg.solve(A + 0.0001*np.eye(4), b)"
      ],
      "metadata": {
        "id": "jnl3QbnrILR4"
      },
      "execution_count": null,
      "outputs": []
    },
    {
      "cell_type": "code",
      "source": [
        "dfX.describe().loc['std']"
      ],
      "metadata": {
        "id": "0xSS_UXhIMZk"
      },
      "execution_count": null,
      "outputs": []
    },
    {
      "cell_type": "code",
      "source": [
        "dfX2 = dfX.copy()\n",
        "dfX2['TAX'] *= 1e13\n",
        "df = pd.concat([dfX2, dfy], axis=1)\n",
        "model2 = sm.OLS.from_formula('MEDV ~ ' + '+'.join(boston.feature_names),data=df)\n",
        "result2 = model2.fit()\n",
        "print(result2.summary())"
      ],
      "metadata": {
        "id": "ozMHaOsaINiL"
      },
      "execution_count": null,
      "outputs": []
    },
    {
      "cell_type": "code",
      "source": [
        "feature_names = list(boston.feature_names)\n",
        "feature_names.remove('CHAS')\n",
        "feature_names = [f'scale({name})' for name in feature_names] + ['CHAS']\n",
        "model3 = sm.OLS.from_formula('MEDV ~ ' + \"+\".join(feature_names),data= df)"
      ],
      "metadata": {
        "id": "It3pwlKjIO_L"
      },
      "execution_count": null,
      "outputs": []
    },
    {
      "cell_type": "code",
      "source": [
        "feature_names"
      ],
      "metadata": {
        "id": "xvlKAAuiIQi1"
      },
      "execution_count": null,
      "outputs": []
    },
    {
      "cell_type": "code",
      "source": [
        "result3 = model3.fit()\n",
        "print(result3.summary())"
      ],
      "metadata": {
        "id": "rn88uhnyIRba"
      },
      "execution_count": null,
      "outputs": []
    },
    {
      "cell_type": "markdown",
      "source": [
        "## 범주형 독립변수\n",
        "D개의 독립변수를 가지는 선형회귀모델\n",
        "$$\\hat{Y} = w_0 + w_1x_1 + ⋯ + w_Dx_D$$\n",
        "\n",
        "$$\\hat{Y} = w_{A,0} + w_{A,1}x_2 + ⋯ + w_{A, D}x_D$$ \n",
        "$$\\hat{Y} = w_{B,0} + w_{B,1}x_2 + ⋯ + w_{B, D}x_D$$ \n",
        "\n",
        "- 더미 변수 방법   \n",
        "  - 풀랭크 방식\n",
        "$$w_1x_1 = w_{1A}d_{1A}+w_{1B}d_{1B}$$   \n",
        "$$\\hat{Y} = w_0 + w_{1A}d_{1A}+w_{1B}d_{1B} + ⋯ + w_Dx_D$$\n",
        "\n",
        "\n",
        "$x1 = A : d_{1A} = 1, d_{1B}=0$   \n",
        "$x1 = B : d_{1A} = 0, d_{1B}=1$\n",
        "\n",
        "$$x_1 = A : \\hat{Y} = w_0 + w_{1A} + w_2x_2 + ⋯ + w_Dx_D$$\n",
        "$$x_1 = B : \\hat{Y} = w_0 + w_{1B} + w_2x_2 + ⋯ + w_Dx_D$$"
      ],
      "metadata": {
        "id": "rCfdKnhuIYTl"
      }
    },
    {
      "cell_type": "code",
      "source": [
        "import datetime\n",
        "from calendar import isleap\n",
        "\n",
        "def convert_partial_year(number):\n",
        "  # 날짜 계산\n",
        "  year = int(number)\n",
        "  d = datetime.timedelta(days=(number - year) * (365 + isleap(year)))\n",
        "  day_one = datetime.datetime(year, 1, 1)\n",
        "  date = d + day_one\n",
        "  return date\n",
        "\n",
        "df_nottem = sm.datasets.get_rdataset('nottem').data"
      ],
      "metadata": {
        "id": "I9kcO72_IUn9"
      },
      "execution_count": null,
      "outputs": []
    },
    {
      "cell_type": "code",
      "source": [
        "df_nottem.info()"
      ],
      "metadata": {
        "id": "HnqgneTwQmca"
      },
      "execution_count": null,
      "outputs": []
    },
    {
      "cell_type": "code",
      "source": [
        "df_nottem['date0'] = df_nottem[['time']].applymap(convert_partial_year)\n",
        "df_nottem['date'] = pd.DatetimeIndex(df_nottem['date0']).round('60min') + datetime.timedelta(seconds=3600*24)\n",
        "df_nottem['month'] = df_nottem['date'].dt.strftime('%m').astype('category')\n",
        "del df_nottem['date0'], df_nottem['date']\n",
        "df_nottem.head()"
      ],
      "metadata": {
        "id": "ybC9TvpHQnnv"
      },
      "execution_count": null,
      "outputs": []
    },
    {
      "cell_type": "code",
      "source": [
        "df_nottem.info()"
      ],
      "metadata": {
        "id": "qLQtUMw780La"
      },
      "execution_count": null,
      "outputs": []
    },
    {
      "cell_type": "code",
      "source": [
        "# x : 월 (12개)\n",
        "# 종속변수 (y) : 월 평균기온\n",
        "model = sm.OLS.from_formula('value ~ C(month) + 0', data=df_nottem)\n",
        "result = model.fit()\n",
        "print(result.summary())"
      ],
      "metadata": {
        "id": "36rzjfs181aK"
      },
      "execution_count": null,
      "outputs": []
    },
    {
      "cell_type": "code",
      "source": [
        "from sklearn.datasets import load_boston\n",
        "boston = load_boston()\n",
        "\n",
        "dfX = pd.DataFrame(boston.data, columns = boston.feature_names)\n",
        "dfy = pd.DataFrame(boston.target, columns=['MEDV'])\n",
        "df_boston = pd.concat([dfX,dfy], axis=1)\n",
        "\n",
        "model1 = sm.OLS.from_formula('MEDV ~ '+ '+'.join(boston.feature_names), data=df_boston)\n",
        "result1 = model1.fit()\n",
        "print(result1.summary())"
      ],
      "metadata": {
        "id": "99dABv0UQpVw"
      },
      "execution_count": null,
      "outputs": []
    },
    {
      "cell_type": "code",
      "source": [
        "feature_names = list(boston.feature_names)\n",
        "feature_names.remove('CHAS')\n",
        "feature_names = [name for name in feature_names] + ['C(CHAS)']\n",
        "model2 = sm.OLS.from_formula('MEDV ~ 0 + '+'+'.join(feature_names),data=df_boston)\n",
        "result2 = model2.fit()\n",
        "print(result2.summary())"
      ],
      "metadata": {
        "id": "BOxrDgimQrYv"
      },
      "execution_count": null,
      "outputs": []
    }
  ]
}