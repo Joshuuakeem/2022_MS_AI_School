{
  "nbformat": 4,
  "nbformat_minor": 0,
  "metadata": {
    "colab": {
      "provenance": []
    },
    "kernelspec": {
      "name": "python3",
      "display_name": "Python 3"
    },
    "language_info": {
      "name": "python"
    }
  },
  "cells": [
    {
      "cell_type": "code",
      "execution_count": null,
      "metadata": {
        "id": "dD3_zMpUixFh"
      },
      "outputs": [],
      "source": [
        "import numpy as np\n",
        "import pandas as pd"
      ]
    },
    {
      "cell_type": "code",
      "source": [
        "data_strings = np.array(['12-05-2022 01:28 PM',\n",
        "                         '12-06-2022 02:28 PM',\n",
        "                         '12-07-2022 12:00 PM'])\n",
        "\n",
        "# Timestamp\n",
        "for data in data_strings:\n",
        "    data = pd.to_datetime(data, format='%d-%m-%Y %I:%M %p')\n",
        "\n",
        "for data in data_strings:\n",
        "    data = pd.to_datetime(data,format='%d-%m-%Y %I:%M %p', errors=\"ignore\")\n",
        "    print(data)"
      ],
      "metadata": {
        "colab": {
          "base_uri": "https://localhost:8080/"
        },
        "id": "rLJ1wOW0i1TU",
        "outputId": "c44d778d-08a7-4d1c-edb9-96c9fe2ec187"
      },
      "execution_count": null,
      "outputs": [
        {
          "output_type": "stream",
          "name": "stdout",
          "text": [
            "2022-05-12 13:28:00\n",
            "2022-06-12 14:28:00\n",
            "2022-07-12 12:00:00\n"
          ]
        }
      ]
    },
    {
      "cell_type": "code",
      "source": [],
      "metadata": {
        "id": "5QW04AvTjZbm"
      },
      "execution_count": null,
      "outputs": []
    }
  ]
}