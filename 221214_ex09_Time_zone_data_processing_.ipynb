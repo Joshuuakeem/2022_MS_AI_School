{
  "nbformat": 4,
  "nbformat_minor": 0,
  "metadata": {
    "colab": {
      "provenance": []
    },
    "kernelspec": {
      "name": "python3",
      "display_name": "Python 3"
    },
    "language_info": {
      "name": "python"
    }
  },
  "cells": [
    {
      "cell_type": "code",
      "execution_count": null,
      "metadata": {
        "id": "72iKbKs1lDr7"
      },
      "outputs": [],
      "source": [
        "import pandas as pd\n",
        "from pytz import all_timezones\n",
        "from pytz import timezone"
      ]
    },
    {
      "cell_type": "code",
      "source": [
        "data = pd.Timestamp('2022-12-05 01:40:00')  # dataitem 만듬\n",
        "\n",
        "data_in_london = data.tz_localize(tz='Europe/London')\n",
        "print(data_in_london)\n",
        "\n",
        "data_in_london.tz_convert('Africa/Abidjan')\n",
        "dates = pd.Series(pd.date_range('2/2/2022', periods=3, freq='M'))\n",
        "temp = dates.dt.tz_localize('Africa/Abidjan')\n",
        "\n",
        "print(temp)\n"
      ],
      "metadata": {
        "colab": {
          "base_uri": "https://localhost:8080/"
        },
        "id": "gwZjoFtalnCb",
        "outputId": "dd0f16a9-f534-456f-b1b7-4c58066000b5"
      },
      "execution_count": null,
      "outputs": [
        {
          "output_type": "stream",
          "name": "stdout",
          "text": [
            "2022-12-05 01:40:00+00:00\n",
            "0   2022-02-28 00:00:00+00:00\n",
            "1   2022-03-31 00:00:00+00:00\n",
            "2   2022-04-30 00:00:00+00:00\n",
            "dtype: datetime64[ns, Africa/Abidjan]\n"
          ]
        }
      ]
    },
    {
      "cell_type": "code",
      "source": [
        "print(all_timezones[0:2])\n",
        "temp = dates.dt.tz_localize('dateutil/Asia/Seoul')\n",
        "tz = timezone('Asia/Seoul')\n",
        "temp01 = dates.dt.tz_localize(tz)\n",
        "print(temp01)"
      ],
      "metadata": {
        "colab": {
          "base_uri": "https://localhost:8080/"
        },
        "id": "z6AuexFzl5Dg",
        "outputId": "117ea78c-29e2-43a6-cd6d-b88650a300cd"
      },
      "execution_count": null,
      "outputs": [
        {
          "output_type": "stream",
          "name": "stdout",
          "text": [
            "['Africa/Abidjan', 'Africa/Accra']\n",
            "0   2022-02-28 00:00:00+09:00\n",
            "1   2022-03-31 00:00:00+09:00\n",
            "2   2022-04-30 00:00:00+09:00\n",
            "dtype: datetime64[ns, Asia/Seoul]\n"
          ]
        }
      ]
    },
    {
      "cell_type": "code",
      "source": [],
      "metadata": {
        "id": "YagnuxBTmzS5"
      },
      "execution_count": null,
      "outputs": []
    }
  ]
}