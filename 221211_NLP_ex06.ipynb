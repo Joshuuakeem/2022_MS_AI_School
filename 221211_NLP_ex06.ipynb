{
  "nbformat": 4,
  "nbformat_minor": 0,
  "metadata": {
    "colab": {
      "provenance": []
    },
    "kernelspec": {
      "name": "python3",
      "display_name": "Python 3"
    },
    "language_info": {
      "name": "python"
    }
  },
  "cells": [
    {
      "cell_type": "code",
      "execution_count": null,
      "metadata": {
        "colab": {
          "base_uri": "https://localhost:8080/"
        },
        "id": "lKuLyzTXCIgE",
        "outputId": "125d90a0-8e24-452a-ca3a-db10b5467545"
      },
      "outputs": [
        {
          "output_type": "stream",
          "name": "stdout",
          "text": [
            "Looking in indexes: https://pypi.org/simple, https://us-python.pkg.dev/colab-wheels/public/simple/\n",
            "Collecting simplejson\n",
            "  Downloading simplejson-3.18.0-cp38-cp38-manylinux_2_5_x86_64.manylinux1_x86_64.manylinux_2_12_x86_64.manylinux2010_x86_64.whl (139 kB)\n",
            "\u001b[K     |████████████████████████████████| 139 kB 14.2 MB/s \n",
            "\u001b[?25hInstalling collected packages: simplejson\n",
            "Successfully installed simplejson-3.18.0\n",
            "Looking in indexes: https://pypi.org/simple, https://us-python.pkg.dev/colab-wheels/public/simple/\n",
            "Collecting pytagcloud\n",
            "  Downloading pytagcloud-0.3.5.tar.gz (754 kB)\n",
            "\u001b[K     |████████████████████████████████| 754 kB 15.2 MB/s \n",
            "\u001b[?25hBuilding wheels for collected packages: pytagcloud\n",
            "  Building wheel for pytagcloud (setup.py) ... \u001b[?25l\u001b[?25hdone\n",
            "  Created wheel for pytagcloud: filename=pytagcloud-0.3.5-py3-none-any.whl size=759868 sha256=8f079fb82a50dd46c1777d1bff4ec196e356bf2435e460b0baad182d0ef295e5\n",
            "  Stored in directory: /root/.cache/pip/wheels/be/9b/7d/911eafd2b3a1ab76aafb0d5929e7aede8db74f5436af7a2b9e\n",
            "Successfully built pytagcloud\n",
            "Installing collected packages: pytagcloud\n",
            "Successfully installed pytagcloud-0.3.5\n",
            "Looking in indexes: https://pypi.org/simple, https://us-python.pkg.dev/colab-wheels/public/simple/\n",
            "Collecting pygame\n",
            "  Downloading pygame-2.1.2-cp38-cp38-manylinux_2_17_x86_64.manylinux2014_x86_64.whl (21.8 MB)\n",
            "\u001b[K     |████████████████████████████████| 21.8 MB 1.5 MB/s \n",
            "\u001b[?25hInstalling collected packages: pygame\n",
            "Successfully installed pygame-2.1.2\n",
            "pygame 2.1.2 (SDL 2.0.16, Python 3.8.15)\n",
            "Hello from the pygame community. https://www.pygame.org/contribute.html\n"
          ]
        }
      ],
      "source": [
        "!pip install simplejson\n",
        "!pip install pytagcloud\n",
        "!pip install pygame\n",
        "import pytagcloud\n",
        "import webbrowser"
      ]
    },
    {
      "cell_type": "code",
      "source": [
        "tag = [('cat', 120), ('dog', 50), ('python', 110), ('java', 70), ('DB',10)]\n",
        "# 태그화\n",
        "tag_list = pytagcloud.make_tags(tag, maxsize=50)\n",
        "pytagcloud.create_tag_image(tag_list, \"word_cloud.jpg\", size=(900,600), rectangular=False)\n",
        "webbrowser.open('word_cloud.jpg')"
      ],
      "metadata": {
        "colab": {
          "base_uri": "https://localhost:8080/"
        },
        "id": "8w5OanP8Cl6W",
        "outputId": "9c792936-2177-4912-909f-2fab0053af81"
      },
      "execution_count": null,
      "outputs": [
        {
          "output_type": "execute_result",
          "data": {
            "text/plain": [
              "False"
            ]
          },
          "metadata": {},
          "execution_count": 3
        }
      ]
    },
    {
      "cell_type": "code",
      "source": [],
      "metadata": {
        "id": "rCrFnie7Fhxe"
      },
      "execution_count": null,
      "outputs": []
    }
  ]
}