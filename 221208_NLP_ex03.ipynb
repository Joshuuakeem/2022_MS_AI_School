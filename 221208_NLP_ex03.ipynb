{
  "nbformat": 4,
  "nbformat_minor": 0,
  "metadata": {
    "colab": {
      "provenance": []
    },
    "kernelspec": {
      "name": "python3",
      "display_name": "Python 3"
    },
    "language_info": {
      "name": "python"
    }
  },
  "cells": [
    {
      "cell_type": "code",
      "execution_count": null,
      "metadata": {
        "id": "qFvxbH4G3KuH"
      },
      "outputs": [],
      "source": [
        "from nltk.stem.porter import PorterStemmer"
      ]
    },
    {
      "cell_type": "code",
      "source": [
        "# 단어 토큰을 만들기\n",
        "tokenized_words = ['i', 'am', 'humbled', 'by', 'this', 'traditional', 'meeting']"
      ],
      "metadata": {
        "id": "48a7mSZ13Qus"
      },
      "execution_count": null,
      "outputs": []
    },
    {
      "cell_type": "code",
      "source": [
        "# 어간 추출기를 만들기\n",
        "porter = PorterStemmer()\n",
        "\n",
        "word_list = []\n",
        "# 어간 추출기 적용\n",
        "for word in tokenized_words:\n",
        "  word_list.append(porter.stem(word))\n",
        "\n",
        "print(word_list)"
      ],
      "metadata": {
        "colab": {
          "base_uri": "https://localhost:8080/"
        },
        "id": "a8sZ5rpu32oJ",
        "outputId": "3668a79f-c43e-4cca-a1a9-03bfdded5f11"
      },
      "execution_count": null,
      "outputs": [
        {
          "output_type": "stream",
          "name": "stdout",
          "text": [
            "['i', 'am', 'humbl', 'by', 'thi', 'tradit', 'meet']\n"
          ]
        }
      ]
    },
    {
      "cell_type": "code",
      "source": [],
      "metadata": {
        "id": "UTLdcDCX4Ilu"
      },
      "execution_count": null,
      "outputs": []
    }
  ]
}