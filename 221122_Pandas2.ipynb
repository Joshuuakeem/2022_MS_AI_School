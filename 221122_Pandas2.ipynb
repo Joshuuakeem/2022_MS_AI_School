{
  "nbformat": 4,
  "nbformat_minor": 0,
  "metadata": {
    "colab": {
      "provenance": []
    },
    "kernelspec": {
      "name": "python3",
      "display_name": "Python 3"
    },
    "language_info": {
      "name": "python"
    }
  },
  "cells": [
    {
      "cell_type": "code",
      "execution_count": null,
      "metadata": {
        "id": "xzhpZ49ttpso"
      },
      "outputs": [],
      "source": [
        "import pandas as pd"
      ]
    },
    {
      "cell_type": "code",
      "source": [
        "# !pip install pandas"
      ],
      "metadata": {
        "id": "omC42XBJuhJa"
      },
      "execution_count": null,
      "outputs": []
    },
    {
      "cell_type": "code",
      "source": [
        "s = pd.Series([1116, 12259, 65119, 16699], index=['서울','부산','인천','대구'])\n",
        "s"
      ],
      "metadata": {
        "colab": {
          "base_uri": "https://localhost:8080/"
        },
        "id": "Jo72DbcXumq1",
        "outputId": "9e7ed77b-ed22-4027-b921-715d1b332c3c"
      },
      "execution_count": null,
      "outputs": [
        {
          "output_type": "execute_result",
          "data": {
            "text/plain": [
              "서울     1116\n",
              "부산    12259\n",
              "인천    65119\n",
              "대구    16699\n",
              "dtype: int64"
            ]
          },
          "metadata": {},
          "execution_count": 4
        }
      ]
    },
    {
      "cell_type": "code",
      "source": [
        "s.index"
      ],
      "metadata": {
        "colab": {
          "base_uri": "https://localhost:8080/"
        },
        "id": "4ZNAUOzUu7td",
        "outputId": "25985393-e336-4b72-f9f1-603132007403"
      },
      "execution_count": null,
      "outputs": [
        {
          "output_type": "execute_result",
          "data": {
            "text/plain": [
              "Index(['서울', '부산', '인천', '대구'], dtype='object')"
            ]
          },
          "metadata": {},
          "execution_count": 5
        }
      ]
    },
    {
      "cell_type": "code",
      "source": [
        "s.values"
      ],
      "metadata": {
        "colab": {
          "base_uri": "https://localhost:8080/"
        },
        "id": "6g-vMw-UvIMt",
        "outputId": "5d280d0c-49d7-41ea-830d-9431f4a7dac3"
      },
      "execution_count": null,
      "outputs": [
        {
          "output_type": "execute_result",
          "data": {
            "text/plain": [
              "array([ 1116, 12259, 65119, 16699])"
            ]
          },
          "metadata": {},
          "execution_count": 7
        }
      ]
    },
    {
      "cell_type": "code",
      "source": [
        "s.name = '농작물 생산량(톤)'"
      ],
      "metadata": {
        "id": "4oNzHGMvvSml"
      },
      "execution_count": null,
      "outputs": []
    },
    {
      "cell_type": "code",
      "source": [
        "s.index.name = '지역구'"
      ],
      "metadata": {
        "id": "YtYIyMNlviuj"
      },
      "execution_count": null,
      "outputs": []
    },
    {
      "cell_type": "code",
      "source": [
        "s"
      ],
      "metadata": {
        "colab": {
          "base_uri": "https://localhost:8080/"
        },
        "id": "cJqEN2Qfvjbs",
        "outputId": "739da9b2-eed2-48fb-93a0-4737e7de3b96"
      },
      "execution_count": null,
      "outputs": [
        {
          "output_type": "execute_result",
          "data": {
            "text/plain": [
              "지역구\n",
              "서울     1116\n",
              "부산    12259\n",
              "인천    65119\n",
              "대구    16699\n",
              "Name: 농작물 생산량(톤), dtype: int64"
            ]
          },
          "metadata": {},
          "execution_count": 13
        }
      ]
    },
    {
      "cell_type": "code",
      "source": [
        "s1 = s/1000"
      ],
      "metadata": {
        "id": "jLEN2aa-v2y3"
      },
      "execution_count": null,
      "outputs": []
    },
    {
      "cell_type": "code",
      "source": [
        "s1.name = '농작물 생산량(k톤)'"
      ],
      "metadata": {
        "id": "VpxdyKjdv3zo"
      },
      "execution_count": null,
      "outputs": []
    },
    {
      "cell_type": "code",
      "source": [
        "s1"
      ],
      "metadata": {
        "colab": {
          "base_uri": "https://localhost:8080/"
        },
        "id": "eUzBK7y5wBIQ",
        "outputId": "ccfcc995-5399-4774-c537-8796d72cee2e"
      },
      "execution_count": null,
      "outputs": [
        {
          "output_type": "execute_result",
          "data": {
            "text/plain": [
              "지역구\n",
              "서울     1.116\n",
              "부산    12.259\n",
              "인천    65.119\n",
              "대구    16.699\n",
              "Name: 농작물 생산량(k톤), dtype: float64"
            ]
          },
          "metadata": {},
          "execution_count": 17
        }
      ]
    },
    {
      "cell_type": "code",
      "source": [
        "s[0], s['서울']"
      ],
      "metadata": {
        "colab": {
          "base_uri": "https://localhost:8080/"
        },
        "id": "ngSj-zlCwCI2",
        "outputId": "75e262a8-e492-43a3-ffcc-4d4e6668fa91"
      },
      "execution_count": null,
      "outputs": [
        {
          "output_type": "execute_result",
          "data": {
            "text/plain": [
              "(1116, 1116)"
            ]
          },
          "metadata": {},
          "execution_count": 18
        }
      ]
    },
    {
      "cell_type": "code",
      "source": [
        "s[[0,1]]"
      ],
      "metadata": {
        "colab": {
          "base_uri": "https://localhost:8080/"
        },
        "id": "C_kQ0I8yxRhB",
        "outputId": "35f4d0c8-b8b6-4f47-fc00-b62b00c5d568"
      },
      "execution_count": null,
      "outputs": [
        {
          "output_type": "execute_result",
          "data": {
            "text/plain": [
              "지역구\n",
              "서울     1116\n",
              "부산    12259\n",
              "Name: 농작물 생산량(톤), dtype: int64"
            ]
          },
          "metadata": {},
          "execution_count": 20
        }
      ]
    },
    {
      "cell_type": "code",
      "source": [
        "s[[1,0]]"
      ],
      "metadata": {
        "colab": {
          "base_uri": "https://localhost:8080/"
        },
        "id": "GwAZxrMqxVqS",
        "outputId": "0bb3b3b5-3b1a-4db9-baf9-79fee299fef7"
      },
      "execution_count": null,
      "outputs": [
        {
          "output_type": "execute_result",
          "data": {
            "text/plain": [
              "지역구\n",
              "부산    12259\n",
              "서울     1116\n",
              "Name: 농작물 생산량(톤), dtype: int64"
            ]
          },
          "metadata": {},
          "execution_count": 21
        }
      ]
    },
    {
      "cell_type": "code",
      "source": [
        "s[['부산','서울']]"
      ],
      "metadata": {
        "colab": {
          "base_uri": "https://localhost:8080/"
        },
        "id": "ZEuCvTYPxa23",
        "outputId": "c112e07a-1921-42ac-e3b8-68ce48468056"
      },
      "execution_count": null,
      "outputs": [
        {
          "output_type": "execute_result",
          "data": {
            "text/plain": [
              "지역구\n",
              "부산    12259\n",
              "서울     1116\n",
              "Name: 농작물 생산량(톤), dtype: int64"
            ]
          },
          "metadata": {},
          "execution_count": 22
        }
      ]
    },
    {
      "cell_type": "code",
      "source": [
        "s[(s/4456952*100) > 0.5)]"
      ],
      "metadata": {
        "colab": {
          "base_uri": "https://localhost:8080/",
          "height": 137
        },
        "id": "f3GAuCh9xeoj",
        "outputId": "02317913-e8c1-4d6b-ffcd-394a70d143a7"
      },
      "execution_count": null,
      "outputs": [
        {
          "output_type": "error",
          "ename": "SyntaxError",
          "evalue": "ignored",
          "traceback": [
            "\u001b[0;36m  File \u001b[0;32m\"<ipython-input-23-96a483ee2391>\"\u001b[0;36m, line \u001b[0;32m1\u001b[0m\n\u001b[0;31m    s[(s/4456952*100) > 0.5)]\u001b[0m\n\u001b[0m                           ^\u001b[0m\n\u001b[0;31mSyntaxError\u001b[0m\u001b[0;31m:\u001b[0m invalid syntax\n"
          ]
        }
      ]
    },
    {
      "cell_type": "code",
      "source": [
        "s[1:3]"
      ],
      "metadata": {
        "colab": {
          "base_uri": "https://localhost:8080/"
        },
        "id": "8sdsYft5ya3R",
        "outputId": "8bfeb050-b5a8-4400-d3bf-38c71d453423"
      },
      "execution_count": null,
      "outputs": [
        {
          "output_type": "execute_result",
          "data": {
            "text/plain": [
              "지역구\n",
              "부산    12259\n",
              "인천    65119\n",
              "Name: 농작물 생산량(톤), dtype: int64"
            ]
          },
          "metadata": {},
          "execution_count": 24
        }
      ]
    },
    {
      "cell_type": "code",
      "source": [
        "s['서울':'대구']"
      ],
      "metadata": {
        "colab": {
          "base_uri": "https://localhost:8080/"
        },
        "id": "TfKsSaPEydc_",
        "outputId": "904f9386-634f-40a7-8a12-6c7b4343061d"
      },
      "execution_count": null,
      "outputs": [
        {
          "output_type": "execute_result",
          "data": {
            "text/plain": [
              "지역구\n",
              "서울     1116\n",
              "부산    12259\n",
              "인천    65119\n",
              "대구    16699\n",
              "Name: 농작물 생산량(톤), dtype: int64"
            ]
          },
          "metadata": {},
          "execution_count": 25
        }
      ]
    },
    {
      "cell_type": "code",
      "source": [
        "s1"
      ],
      "metadata": {
        "colab": {
          "base_uri": "https://localhost:8080/"
        },
        "id": "GlJcApoOymgb",
        "outputId": "7300b451-ddbe-484c-9508-44f8c42bb3cd"
      },
      "execution_count": null,
      "outputs": [
        {
          "output_type": "execute_result",
          "data": {
            "text/plain": [
              "지역구\n",
              "서울     1.116\n",
              "부산    12.259\n",
              "인천    65.119\n",
              "대구    16.699\n",
              "Name: 농작물 생산량(k톤), dtype: float64"
            ]
          },
          "metadata": {},
          "execution_count": 26
        }
      ]
    },
    {
      "cell_type": "code",
      "source": [
        "s.서울"
      ],
      "metadata": {
        "colab": {
          "base_uri": "https://localhost:8080/"
        },
        "id": "gXGKgmYjytN4",
        "outputId": "e746c51b-5e1b-4d61-c07f-a5c1baba2e92"
      },
      "execution_count": null,
      "outputs": [
        {
          "output_type": "execute_result",
          "data": {
            "text/plain": [
              "1116"
            ]
          },
          "metadata": {},
          "execution_count": 28
        }
      ]
    },
    {
      "cell_type": "code",
      "source": [
        "d1 = {'서울':1, '부산':2}\n",
        "pd.Series(d1)"
      ],
      "metadata": {
        "colab": {
          "base_uri": "https://localhost:8080/"
        },
        "id": "TOBj7IRdzMmJ",
        "outputId": "e33265b1-d699-403c-da3d-e31485bc929b"
      },
      "execution_count": null,
      "outputs": [
        {
          "output_type": "execute_result",
          "data": {
            "text/plain": [
              "서울    1\n",
              "부산    2\n",
              "dtype: int64"
            ]
          },
          "metadata": {},
          "execution_count": 34
        }
      ]
    },
    {
      "cell_type": "code",
      "source": [
        "for k,v in s.items():\n",
        "  print(k,v)"
      ],
      "metadata": {
        "colab": {
          "base_uri": "https://localhost:8080/"
        },
        "id": "_NInRfYAzp-g",
        "outputId": "2480fc8c-f2ab-4c59-8a2f-d135ce069426"
      },
      "execution_count": null,
      "outputs": [
        {
          "output_type": "stream",
          "name": "stdout",
          "text": [
            "서울 1116\n",
            "부산 12259\n",
            "인천 65119\n",
            "대구 16699\n"
          ]
        }
      ]
    },
    {
      "cell_type": "code",
      "source": [
        "print('제주도' in s)\n",
        "'서울' in s.keys()"
      ],
      "metadata": {
        "colab": {
          "base_uri": "https://localhost:8080/"
        },
        "id": "6eaRPM27ztqW",
        "outputId": "0427d084-0039-4618-ac2d-bcf848cb307a"
      },
      "execution_count": null,
      "outputs": [
        {
          "output_type": "stream",
          "name": "stdout",
          "text": [
            "False\n"
          ]
        },
        {
          "output_type": "execute_result",
          "data": {
            "text/plain": [
              "True"
            ]
          },
          "metadata": {},
          "execution_count": 33
        }
      ]
    },
    {
      "cell_type": "code",
      "source": [
        "s21 = pd.Series([1116, 12259, 65119, 16699], index=['서울','부산','인천','대구'])\n",
        "s21"
      ],
      "metadata": {
        "colab": {
          "base_uri": "https://localhost:8080/"
        },
        "id": "1OcFyrqTz00b",
        "outputId": "1efe83ec-e0e8-4c7e-e512-2a52dd628e83"
      },
      "execution_count": null,
      "outputs": [
        {
          "output_type": "execute_result",
          "data": {
            "text/plain": [
              "서울     1116\n",
              "부산    12259\n",
              "인천    65119\n",
              "대구    16699\n",
              "dtype: int64"
            ]
          },
          "metadata": {},
          "execution_count": 35
        }
      ]
    },
    {
      "cell_type": "code",
      "source": [
        "s20 = pd.Series([628,11075,56013,15695], index=['서울','부산','인천','대구'])"
      ],
      "metadata": {
        "id": "WZG3L23g0XSM"
      },
      "execution_count": null,
      "outputs": []
    },
    {
      "cell_type": "code",
      "source": [
        "s21 - s20"
      ],
      "metadata": {
        "colab": {
          "base_uri": "https://localhost:8080/"
        },
        "id": "Xkjii62R0kGM",
        "outputId": "cf85cbfd-a583-4f5c-acf9-0b899a4073e4"
      },
      "execution_count": null,
      "outputs": [
        {
          "output_type": "execute_result",
          "data": {
            "text/plain": [
              "서울     488\n",
              "부산    1184\n",
              "인천    9106\n",
              "대구    1004\n",
              "dtype: int64"
            ]
          },
          "metadata": {},
          "execution_count": 37
        }
      ]
    },
    {
      "cell_type": "code",
      "source": [
        "import numpy as np\n",
        "type(np.nan)"
      ],
      "metadata": {
        "colab": {
          "base_uri": "https://localhost:8080/"
        },
        "id": "iJx3VyEd0lwX",
        "outputId": "e36c545f-28f0-4275-eadd-c680fbb10b34"
      },
      "execution_count": null,
      "outputs": [
        {
          "output_type": "execute_result",
          "data": {
            "text/plain": [
              "float"
            ]
          },
          "metadata": {},
          "execution_count": 38
        }
      ]
    },
    {
      "cell_type": "code",
      "source": [
        "!python --version"
      ],
      "metadata": {
        "colab": {
          "base_uri": "https://localhost:8080/"
        },
        "id": "V2OqtrEh02i4",
        "outputId": "ff38ec2d-ab11-400b-d089-1436ea83a200"
      },
      "execution_count": null,
      "outputs": [
        {
          "output_type": "stream",
          "name": "stdout",
          "text": [
            "Python 3.7.15\n"
          ]
        }
      ]
    },
    {
      "cell_type": "code",
      "source": [
        "import numpy as np\n",
        "type(np.nan)"
      ],
      "metadata": {
        "colab": {
          "base_uri": "https://localhost:8080/"
        },
        "id": "EPoP21C93wo5",
        "outputId": "b87186eb-f2ba-4170-ea5e-1f580af05b73"
      },
      "execution_count": null,
      "outputs": [
        {
          "output_type": "execute_result",
          "data": {
            "text/plain": [
              "float"
            ]
          },
          "metadata": {},
          "execution_count": 40
        }
      ]
    },
    {
      "cell_type": "code",
      "source": [
        "s_sub = s21.sub(s20, fill_value=0)"
      ],
      "metadata": {
        "id": "9SIJbeCD4MD8"
      },
      "execution_count": null,
      "outputs": []
    },
    {
      "cell_type": "code",
      "source": [
        "s_sub2 = s21.sub(s20)"
      ],
      "metadata": {
        "id": "1Mi6N0rc4Xtb"
      },
      "execution_count": null,
      "outputs": []
    },
    {
      "cell_type": "code",
      "source": [
        "s_sub2.fillna(0)"
      ],
      "metadata": {
        "colab": {
          "base_uri": "https://localhost:8080/"
        },
        "id": "EsypFQCt4bUV",
        "outputId": "09e9b2de-e6ec-4e1b-8de3-0a2ffc5a50fb"
      },
      "execution_count": null,
      "outputs": [
        {
          "output_type": "execute_result",
          "data": {
            "text/plain": [
              "서울     488\n",
              "부산    1184\n",
              "인천    9106\n",
              "대구    1004\n",
              "dtype: int64"
            ]
          },
          "metadata": {},
          "execution_count": 47
        }
      ]
    },
    {
      "cell_type": "code",
      "source": [
        "rs = ((s21 - s20) / s20 * 100).round(2)"
      ],
      "metadata": {
        "id": "TR00wR3-49gR"
      },
      "execution_count": null,
      "outputs": []
    },
    {
      "cell_type": "code",
      "source": [
        "rs['서울'] = 0"
      ],
      "metadata": {
        "id": "rshF3RJV50wX"
      },
      "execution_count": null,
      "outputs": []
    },
    {
      "cell_type": "code",
      "source": [
        "rs[0] = 123"
      ],
      "metadata": {
        "id": "9bC4R3Bk51X_"
      },
      "execution_count": null,
      "outputs": []
    },
    {
      "cell_type": "code",
      "source": [
        "rs"
      ],
      "metadata": {
        "colab": {
          "base_uri": "https://localhost:8080/"
        },
        "id": "Ykno_Ubf6Owf",
        "outputId": "c5868ae4-3f9e-4463-c5dc-19d4dfcacb22"
      },
      "execution_count": null,
      "outputs": [
        {
          "output_type": "execute_result",
          "data": {
            "text/plain": [
              "서울    123.00\n",
              "부산     10.69\n",
              "인천     16.26\n",
              "대구      6.40\n",
              "dtype: float64"
            ]
          },
          "metadata": {},
          "execution_count": 55
        }
      ]
    },
    {
      "cell_type": "code",
      "source": [
        "del rs['대구']"
      ],
      "metadata": {
        "id": "sDid2Prq6P2Y"
      },
      "execution_count": null,
      "outputs": []
    },
    {
      "cell_type": "code",
      "source": [
        "rs"
      ],
      "metadata": {
        "colab": {
          "base_uri": "https://localhost:8080/"
        },
        "id": "npktx0836WSF",
        "outputId": "d9eb1244-e1df-4b1a-e3a6-c62e019e42f0"
      },
      "execution_count": null,
      "outputs": [
        {
          "output_type": "execute_result",
          "data": {
            "text/plain": [
              "서울    123.00\n",
              "부산     10.69\n",
              "인천     16.26\n",
              "dtype: float64"
            ]
          },
          "metadata": {},
          "execution_count": 57
        }
      ]
    },
    {
      "cell_type": "code",
      "source": [
        "rs"
      ],
      "metadata": {
        "colab": {
          "base_uri": "https://localhost:8080/"
        },
        "id": "cop9CXvd6W5G",
        "outputId": "228aee69-6afa-4cc1-af5d-7f0f48dba641"
      },
      "execution_count": null,
      "outputs": [
        {
          "output_type": "execute_result",
          "data": {
            "text/plain": [
              "서울    123.00\n",
              "부산     10.69\n",
              "인천     16.26\n",
              "dtype: float64"
            ]
          },
          "metadata": {},
          "execution_count": 59
        }
      ]
    },
    {
      "cell_type": "code",
      "source": [
        "rs['서울'] = 77.71"
      ],
      "metadata": {
        "id": "igm8Ywtg6YdM"
      },
      "execution_count": null,
      "outputs": []
    },
    {
      "cell_type": "code",
      "source": [
        "rs['대구'] = 6.40"
      ],
      "metadata": {
        "id": "WG6Jj7Rr6r6O"
      },
      "execution_count": null,
      "outputs": []
    },
    {
      "cell_type": "code",
      "source": [
        "rs"
      ],
      "metadata": {
        "colab": {
          "base_uri": "https://localhost:8080/"
        },
        "id": "SPCoQkeV6tw2",
        "outputId": "53c62ef5-136d-42e9-9ce1-3c9743e84c3c"
      },
      "execution_count": null,
      "outputs": [
        {
          "output_type": "execute_result",
          "data": {
            "text/plain": [
              "서울    77.71\n",
              "부산    10.69\n",
              "인천    16.26\n",
              "대구     6.40\n",
              "dtype: float64"
            ]
          },
          "metadata": {},
          "execution_count": 62
        }
      ]
    },
    {
      "cell_type": "code",
      "source": [
        "import random"
      ],
      "metadata": {
        "id": "R5iO9x4w6uWH"
      },
      "execution_count": null,
      "outputs": []
    },
    {
      "cell_type": "code",
      "source": [
        "random.randint(0,100)"
      ],
      "metadata": {
        "colab": {
          "base_uri": "https://localhost:8080/"
        },
        "id": "9VtinyPu6zLU",
        "outputId": "5635a207-f745-4688-949f-5e2fbc7e914f"
      },
      "execution_count": null,
      "outputs": [
        {
          "output_type": "execute_result",
          "data": {
            "text/plain": [
              "84"
            ]
          },
          "metadata": {},
          "execution_count": 66
        }
      ]
    },
    {
      "cell_type": "code",
      "source": [
        "key100 = random.sample(list(range(100)), 100)\n",
        "# pd.Series() # 크기가 100\n",
        "# 키값 100 밸류값 100\n",
        "key80 = random.sample(list(range(100)), 80)\n",
        "value100 = random.sample(list(range(1000)), 100)\n",
        "value80 = random.sample(list(range(1000)), 80)\n",
        "s100 = pd.Series(value100, index=key100)\n",
        "s80 = pd.Series(value80, index=key80)"
      ],
      "metadata": {
        "id": "2m4uf8Tn7JZy"
      },
      "execution_count": null,
      "outputs": []
    },
    {
      "cell_type": "code",
      "source": [
        "s_100_80_sub = s100-s80"
      ],
      "metadata": {
        "id": "c2JkvGS47PVu"
      },
      "execution_count": null,
      "outputs": []
    },
    {
      "cell_type": "code",
      "source": [
        "s_100_80_sub.notnull()"
      ],
      "metadata": {
        "colab": {
          "base_uri": "https://localhost:8080/"
        },
        "id": "-oGNQsQ28IPU",
        "outputId": "c77e0dc4-8377-402b-d154-bd248ced831f"
      },
      "execution_count": null,
      "outputs": [
        {
          "output_type": "execute_result",
          "data": {
            "text/plain": [
              "0      True\n",
              "1     False\n",
              "2     False\n",
              "3     False\n",
              "4      True\n",
              "      ...  \n",
              "95     True\n",
              "96    False\n",
              "97     True\n",
              "98     True\n",
              "99     True\n",
              "Length: 100, dtype: bool"
            ]
          },
          "metadata": {},
          "execution_count": 72
        }
      ]
    },
    {
      "cell_type": "code",
      "source": [
        "len(key100)"
      ],
      "metadata": {
        "colab": {
          "base_uri": "https://localhost:8080/"
        },
        "id": "d1bVY8tY8SpN",
        "outputId": "c189ccd4-31cb-4b31-cb75-506c40c86fdb"
      },
      "execution_count": null,
      "outputs": [
        {
          "output_type": "execute_result",
          "data": {
            "text/plain": [
              "100"
            ]
          },
          "metadata": {},
          "execution_count": 73
        }
      ]
    },
    {
      "cell_type": "code",
      "source": [
        "s_100_80_sub = s100 * s80"
      ],
      "metadata": {
        "id": "69LYfQAU9PKR"
      },
      "execution_count": null,
      "outputs": []
    },
    {
      "cell_type": "code",
      "source": [
        "s_100_80_sub.head()"
      ],
      "metadata": {
        "colab": {
          "base_uri": "https://localhost:8080/"
        },
        "id": "W0jI__lx990s",
        "outputId": "acf64b03-bf47-44a8-c18e-1861f9fa146e"
      },
      "execution_count": null,
      "outputs": [
        {
          "output_type": "execute_result",
          "data": {
            "text/plain": [
              "0     76032.0\n",
              "1         NaN\n",
              "2         NaN\n",
              "3         NaN\n",
              "4    517438.0\n",
              "dtype: float64"
            ]
          },
          "metadata": {},
          "execution_count": 75
        }
      ]
    },
    {
      "cell_type": "code",
      "source": [
        "s100[0], s80[0]"
      ],
      "metadata": {
        "colab": {
          "base_uri": "https://localhost:8080/"
        },
        "id": "o4gIsKPw9_ma",
        "outputId": "b34ffe28-6d18-4747-8e72-9865564b1129"
      },
      "execution_count": null,
      "outputs": [
        {
          "output_type": "execute_result",
          "data": {
            "text/plain": [
              "(216, 352)"
            ]
          },
          "metadata": {},
          "execution_count": 76
        }
      ]
    },
    {
      "cell_type": "code",
      "source": [],
      "metadata": {
        "id": "_8yNDrm9-C4S"
      },
      "execution_count": null,
      "outputs": []
    }
  ]
}