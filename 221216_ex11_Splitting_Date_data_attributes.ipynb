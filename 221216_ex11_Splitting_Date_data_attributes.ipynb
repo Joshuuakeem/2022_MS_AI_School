{
  "nbformat": 4,
  "nbformat_minor": 0,
  "metadata": {
    "colab": {
      "provenance": []
    },
    "kernelspec": {
      "name": "python3",
      "display_name": "Python 3"
    },
    "language_info": {
      "name": "python"
    }
  },
  "cells": [
    {
      "cell_type": "code",
      "execution_count": null,
      "metadata": {
        "id": "WPvkLKtCt1RA"
      },
      "outputs": [],
      "source": [
        "import pandas as pd"
      ]
    },
    {
      "cell_type": "code",
      "source": [
        "dataframe = pd.DataFrame()\n",
        "data = dataframe['date'] = pd.date_range('1/1/2022', periods=150, freq='w')\n",
        "print(data)"
      ],
      "metadata": {
        "colab": {
          "base_uri": "https://localhost:8080/"
        },
        "id": "B3VUx_51t8GM",
        "outputId": "2d9c22cc-f292-49b7-cd0a-104144487e8f"
      },
      "execution_count": null,
      "outputs": [
        {
          "output_type": "stream",
          "name": "stdout",
          "text": [
            "DatetimeIndex(['2022-01-02', '2022-01-09', '2022-01-16', '2022-01-23',\n",
            "               '2022-01-30', '2022-02-06', '2022-02-13', '2022-02-20',\n",
            "               '2022-02-27', '2022-03-06',\n",
            "               ...\n",
            "               '2024-09-08', '2024-09-15', '2024-09-22', '2024-09-29',\n",
            "               '2024-10-06', '2024-10-13', '2024-10-20', '2024-10-27',\n",
            "               '2024-11-03', '2024-11-10'],\n",
            "              dtype='datetime64[ns]', length=150, freq='W-SUN')\n"
          ]
        }
      ]
    },
    {
      "cell_type": "code",
      "source": [
        "#년 월 일 시 분에 대한 특성 만들기\n",
        "dataframe['year'] = dataframe['date'].dt.year\n",
        "dataframe['month'] = dataframe['date'].dt.month\n",
        "data = dataframe['day'] = dataframe['date'].dt.day\n",
        "data = dataframe['hour'] = dataframe['date'].dt.hour\n",
        "data = dataframe['minute'] = dataframe['date'].dt.minute\n",
        "\n",
        "print(dataframe.head(30))"
      ],
      "metadata": {
        "colab": {
          "base_uri": "https://localhost:8080/"
        },
        "id": "mvrwlmSSuGFz",
        "outputId": "026782a4-7c4d-4e3c-8232-6d001c1c85d7"
      },
      "execution_count": null,
      "outputs": [
        {
          "output_type": "stream",
          "name": "stdout",
          "text": [
            "         date  year  month  day  hour  minute\n",
            "0  2022-01-02  2022      1    2     0       0\n",
            "1  2022-01-09  2022      1    9     0       0\n",
            "2  2022-01-16  2022      1   16     0       0\n",
            "3  2022-01-23  2022      1   23     0       0\n",
            "4  2022-01-30  2022      1   30     0       0\n",
            "5  2022-02-06  2022      2    6     0       0\n",
            "6  2022-02-13  2022      2   13     0       0\n",
            "7  2022-02-20  2022      2   20     0       0\n",
            "8  2022-02-27  2022      2   27     0       0\n",
            "9  2022-03-06  2022      3    6     0       0\n",
            "10 2022-03-13  2022      3   13     0       0\n",
            "11 2022-03-20  2022      3   20     0       0\n",
            "12 2022-03-27  2022      3   27     0       0\n",
            "13 2022-04-03  2022      4    3     0       0\n",
            "14 2022-04-10  2022      4   10     0       0\n",
            "15 2022-04-17  2022      4   17     0       0\n",
            "16 2022-04-24  2022      4   24     0       0\n",
            "17 2022-05-01  2022      5    1     0       0\n",
            "18 2022-05-08  2022      5    8     0       0\n",
            "19 2022-05-15  2022      5   15     0       0\n",
            "20 2022-05-22  2022      5   22     0       0\n",
            "21 2022-05-29  2022      5   29     0       0\n",
            "22 2022-06-05  2022      6    5     0       0\n",
            "23 2022-06-12  2022      6   12     0       0\n",
            "24 2022-06-19  2022      6   19     0       0\n",
            "25 2022-06-26  2022      6   26     0       0\n",
            "26 2022-07-03  2022      7    3     0       0\n",
            "27 2022-07-10  2022      7   10     0       0\n",
            "28 2022-07-17  2022      7   17     0       0\n",
            "29 2022-07-24  2022      7   24     0       0\n"
          ]
        }
      ]
    },
    {
      "cell_type": "code",
      "source": [],
      "metadata": {
        "id": "zac6ln_Jut3E"
      },
      "execution_count": null,
      "outputs": []
    }
  ]
}