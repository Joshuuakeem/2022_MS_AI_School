{
  "nbformat": 4,
  "nbformat_minor": 0,
  "metadata": {
    "colab": {
      "provenance": []
    },
    "kernelspec": {
      "name": "python3",
      "display_name": "Python 3"
    },
    "language_info": {
      "name": "python"
    }
  },
  "cells": [
    {
      "cell_type": "code",
      "execution_count": null,
      "metadata": {
        "id": "Kz3-9Bgpbnt8"
      },
      "outputs": [],
      "source": [
        "##Azure Notebooks으로 작성\n",
        "\n",
        "from azureml.core import Workspace\n",
        "ws = Workspace.from_config()\n",
        "print('Workspace name:'+ws.name,\n",
        "    'Azure region'+ws.location,\n",
        "    'Subscription ID'+ws.subscription_id,\n",
        "    'Resource Group:'+ws.resource_group\n",
        "    )"
      ]
    },
    {
      "cell_type": "code",
      "source": [
        "# 실험공간의 생성\n",
        "from azureml.core import Experiment\n",
        "experiment = Experiment(workspace=ws, name='diabetes-experiment')"
      ],
      "metadata": {
        "id": "GdcG6YgMbwPM"
      },
      "execution_count": null,
      "outputs": []
    },
    {
      "cell_type": "code",
      "source": [
        "from azureml.opendatasets import Diabetes\n",
        "from sklearn.model_selection import train_test_split\n",
        "\n",
        "##데이터 가져오기\n",
        "x_df = Diabetes.get_tabular_dataset().to_pandas_dataframe().dropna()\n",
        "y_df = x_df.pop('Y')\n",
        "\n",
        "X_train, X_test, y_train, y_test = train_test_split(x_df, y_df, test_size=0.2, random_state=66)\n",
        "print(X_train)"
      ],
      "metadata": {
        "id": "ILNaAronbwMC"
      },
      "execution_count": null,
      "outputs": []
    },
    {
      "cell_type": "code",
      "source": [
        "from sklearn.linear_model import Ridge\n",
        "from sklearn.metrics import mean_squared_error\n",
        "from sklearn.externals import joblib\n",
        "import math\n",
        "\n",
        "alphas = [0.1,0.2,0.3,0.4,0.5,0.6,0.7,0.8,0.9,1.0]\n",
        "\n",
        "for alpha in alphas:\n",
        "    run = experiment.start_logging()\n",
        "    run.log('alpha_value', alpha)\n",
        "\n",
        "# 실험\n",
        "    model = Ridge(alpha=alpha)\n",
        "    model.fit(X_train, y_train)\n",
        "\n",
        "#평가\n",
        "    y_pred = model.predict(X_test)\n",
        "    rmse = math.sqrt(mean_squared_error(y_test,y_pred))\n",
        "    run.log('rmse',rmse)\n",
        "\n",
        "    model_name = 'model_alpha_' + str(alpha) + '.pkl'\n",
        "    filename = 'outputs/' + model_name\n",
        "\n",
        "    joblib.dump(value=model,filename=filename)\n",
        " # 저장 후 클라우드에도 업로드\n",
        "    run.upload_file(name=model_name, path_or_stream=filename)\n",
        "    run.complete()\n",
        "\n",
        "    print{f'{alpha} experiment completed'}"
      ],
      "metadata": {
        "id": "lsGWrttrh_fv"
      },
      "execution_count": null,
      "outputs": []
    },
    {
      "cell_type": "code",
      "source": [
        "# Best model 탐색 후 다운로드\n",
        "\n",
        "minium_rmse_runid = None\n",
        "minium_rmse = None\n",
        "\n",
        "for run in experiment.get_runs():\n",
        "    run_metrics = run.get_metrics()\n",
        "    run_details = run.get_details()\n",
        "    run_rmse = run_metrics['rmse']\n",
        "    run_id = run_details['runId']\n",
        "\n",
        "    if minium_rmse is None:\n",
        "        minium_rmse = run_rmse\n",
        "        minium_rmse_runid = run_id\n",
        "    else:\n",
        "        if run_rmse < minium_rmse:\n",
        "            minium_rmse = run_rmse\n",
        "            minium_rmse_runid = run_id\n",
        "\n",
        "print('Best run_id:' + minium_rmse_runid)\n",
        "print('Best rmse:' + str(minium_rmse))"
      ],
      "metadata": {
        "id": "_BB1TRIUiAkY"
      },
      "execution_count": null,
      "outputs": []
    },
    {
      "cell_type": "code",
      "source": [
        "## Best_run 파일 다운로드\n",
        "from azureml.core import Run\n",
        "best_run = Run(experiment=experiment, run_id = minium_rmse_runid)\n",
        "\n",
        "best_run.download_file(name=str(best_run.get_file_names()[0]))"
      ],
      "metadata": {
        "id": "JCrZKiVt756P"
      },
      "execution_count": null,
      "outputs": []
    },
    {
      "cell_type": "code",
      "source": [
        "#데이터 업로드\n",
        "import numpy as np\n",
        "from azureml.core import Dataset\n",
        "\n",
        "np.savetxt('features.csv', X_train, delimiter=',')\n",
        "np.savetxt('labels.csv', y_train, delimiter=',')\n",
        "\n",
        "datastore = ws.get_default_datastore()\n",
        "datastore.upload_files(files=['./features.csv', './labels.csv'],\n",
        "                       target_path='diabetes-experiment/',\n",
        "                       overwrite=True)\n",
        "\n",
        "input_dataset = Dataset.Tabular.from_delimited_files(path=[(datastore, 'diabetes-experiment/features.csv')])\n",
        "output_dataset = Dataset.Tabular.from_delimited_files(path=[(datastore, 'diabetes-experiment/labels.csv')])"
      ],
      "metadata": {
        "id": "JN1VHyB9754B"
      },
      "execution_count": null,
      "outputs": []
    },
    {
      "cell_type": "code",
      "source": [
        "#azure model 등록\n",
        "import sklearn\n",
        "\n",
        "from azureml.core import Model\n",
        "from azureml.core.resource_configuration import ResourceConfiguration\n",
        "\n",
        "model = Model.register(workspace=ws,\n",
        "                       model_name='diabetes-experiment-model',\n",
        "                       model_path=f\"./{str(best_run.get_file_names()[0])}\",\n",
        "                       model_framework=Model.Framework.SCIKITLEARN,  \n",
        "                       model_framework_version=sklearn.__version__,  \n",
        "                       sample_input_dataset=input_dataset,\n",
        "                       sample_output_dataset=output_dataset,\n",
        "                       resource_configuration=ResourceConfiguration(cpu=1, memory_in_gb=0.5),\n",
        "                       description='Ridge regression model to predict diabetes progression.',\n",
        "                       tags={'area': 'diabetes', 'type': 'regression'})\n",
        "\n",
        "print('Name:', model.name)\n",
        "print('Version:', model.version)"
      ],
      "metadata": {
        "id": "zbAf5bWJ-lMm"
      },
      "execution_count": null,
      "outputs": []
    },
    {
      "cell_type": "code",
      "source": [
        "# 서비스 배포 준비\n",
        "service_name = 'diabetes-service'\n",
        "\n",
        "service = Model.deploy(ws, service_name, [model], overwrite=True)\n",
        "service.wait_for_deployment(show_output=True)"
      ],
      "metadata": {
        "id": "VctiRPICEQdA"
      },
      "execution_count": null,
      "outputs": []
    },
    {
      "cell_type": "code",
      "source": [],
      "metadata": {
        "id": "oDxJVFA8EQTo"
      },
      "execution_count": null,
      "outputs": []
    }
  ]
}