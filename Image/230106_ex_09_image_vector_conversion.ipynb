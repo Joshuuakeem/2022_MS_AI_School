{
  "nbformat": 4,
  "nbformat_minor": 0,
  "metadata": {
    "colab": {
      "provenance": []
    },
    "kernelspec": {
      "name": "python3",
      "display_name": "Python 3"
    },
    "language_info": {
      "name": "python"
    }
  },
  "cells": [
    {
      "cell_type": "code",
      "execution_count": null,
      "metadata": {
        "id": "i4H9TUQ8vIL6"
      },
      "outputs": [],
      "source": [
        "import cv2\n",
        "from google.colab.patches import cv2_imshow\n",
        "import numpy as np"
      ]
    },
    {
      "cell_type": "code",
      "source": [
        "image_path = \"./IU.jpg\"\n",
        "image_gray = cv2.imread(image_path, cv2.IMREAD_GRAYSCALE)\n",
        "\n",
        "image_10x10 = cv2.resize(image_gray, (10, 10))\n",
        "image_10x10.flatten() # 이미지 데이터를 1차원 벡터로 변환\n",
        "cv2_imshow(image_10x10)"
      ],
      "metadata": {
        "colab": {
          "base_uri": "https://localhost:8080/",
          "height": 34
        },
        "id": "EyB_OJA8vcDw",
        "outputId": "2ed4b86a-e432-410e-af81-80eb0ff12e4e"
      },
      "execution_count": null,
      "outputs": [
        {
          "output_type": "display_data",
          "data": {
            "text/plain": [
              "<PIL.Image.Image image mode=L size=10x10 at 0x7F11F229A7F0>"
            ],
            "image/png": "[encoded data removed]"
          },
          "metadata": {}
        }
      ]
    },
    {
      "cell_type": "code",
      "source": [],
      "metadata": {
        "id": "TUlW_B4ZwH6Z"
      },
      "execution_count": null,
      "outputs": []
    }
  ]
}