{
  "nbformat": 4,
  "nbformat_minor": 0,
  "metadata": {
    "colab": {
      "provenance": []
    },
    "kernelspec": {
      "name": "python3",
      "display_name": "Python 3"
    },
    "language_info": {
      "name": "python"
    }
  },
  "cells": [
    {
      "cell_type": "code",
      "source": [
        "import cv2\n",
        "from google.colab.patches import cv2_imshow\n",
        "import numpy as np"
      ],
      "metadata": {
        "id": "JbDv16Ryt_rp"
      },
      "execution_count": null,
      "outputs": []
    },
    {
      "cell_type": "code",
      "execution_count": null,
      "metadata": {
        "colab": {
          "base_uri": "https://localhost:8080/",
          "height": 669
        },
        "id": "yXWkzLBetpc5",
        "outputId": "1f51f60a-f439-49d5-a688-27fc7e717ed3"
      },
      "outputs": [
        {
          "output_type": "stream",
          "name": "stdout",
          "text": [
            "[[-20249998. -20249998. -20249998. ... -20249998. -20249998. -20249998.]\n",
            " [-20249998. -20249998. -20249998. ... -20249998. -20249998. -20249998.]\n",
            " [-20249998. -20249998. -20249998. ... -20249998. -20249998. -20249998.]\n",
            " ...\n",
            " [-20249998. -20249998. -20249998. ... -20249998. -20249998. -20249998.]\n",
            " [-20249998. -20249998. -20249998. ... -20249998. -20249998. -20249998.]\n",
            " [-20249998. -20249998. -20249998. ... -20249998. -20250000. -20250000.]]\n"
          ]
        },
        {
          "output_type": "display_data",
          "data": {
            "text/plain": [
              "<PIL.Image.Image image mode=L size=862x523 at 0x7FCE45CC2F40>"
            ],
            "image/png": "[encoded data removed]"
          },
          "metadata": {}
        }
      ],
      "source": [
        "# 모서리 감지\n",
        "image_path = \"./test01.png\"\n",
        "\n",
        "image_read = cv2.imread(image_path)\n",
        "\n",
        "image_gray = cv2.cvtColor(image_read, cv2.COLOR_BGR2GRAY)\n",
        "image_gray = np.float32(image_gray)\n",
        "\n",
        "block_size = 2  # 모서리 감지 매개 변수 설정\n",
        "aperture = 29\n",
        "free_parameter = 0.04\n",
        "\n",
        "detector_response = cv2.cornerHarris(\n",
        "    image_gray, block_size, aperture, free_parameter)\n",
        "\n",
        "print(detector_response)\n",
        "\n",
        "threshold = 0.02\n",
        "image_read[detector_response > threshold *\n",
        "           detector_response.max()] = [255, 255, 255]\n",
        "\n",
        "image_gray = cv2.cvtColor(image_read, cv2.COLOR_BGR2GRAY)\n",
        "cv2_imshow(image_gray)\n"
      ]
    },
    {
      "cell_type": "code",
      "source": [],
      "metadata": {
        "id": "RxguxlbOuNXI"
      },
      "execution_count": null,
      "outputs": []
    }
  ]
}