{
  "nbformat": 4,
  "nbformat_minor": 0,
  "metadata": {
    "colab": {
      "provenance": []
    },
    "kernelspec": {
      "name": "python3",
      "display_name": "Python 3"
    },
    "language_info": {
      "name": "python"
    }
  },
  "cells": [
    {
      "cell_type": "code",
      "source": [
        "import cv2\n",
        "from google.colab.patches import cv2_imshow"
      ],
      "metadata": {
        "id": "MWAgOEvX6aax"
      },
      "execution_count": null,
      "outputs": []
    },
    {
      "cell_type": "code",
      "execution_count": null,
      "metadata": {
        "colab": {
          "base_uri": "https://localhost:8080/"
        },
        "id": "0uXFv19n3bzg",
        "outputId": "34b0d03c-1b6a-4a37-86de-cae703a93b36"
      },
      "outputs": [
        {
          "output_type": "stream",
          "name": "stdout",
          "text": [
            "Channels >>  (205.8482456140351, 205.4207560568087, 207.63455722639935, 0.0)\n",
            "[[207.63455723 205.42075606 205.84824561]]\n"
          ]
        }
      ],
      "source": [
        "# 평균색 특성 인코딩\n",
        "\n",
        "\n",
        "image_path = \"./cat.png\"\n",
        "image = cv2.imread(image_path)\n",
        "channels = cv2.mean(image)\n",
        "print(\"Channels >> \", channels)\n",
        "observation = np.array([(channels[2], channels[1], channels[0])])\n",
        "print(observation)\n"
      ]
    },
    {
      "cell_type": "code",
      "source": [],
      "metadata": {
        "id": "ZVA6URFy9Szf"
      },
      "execution_count": null,
      "outputs": []
    }
  ]
}