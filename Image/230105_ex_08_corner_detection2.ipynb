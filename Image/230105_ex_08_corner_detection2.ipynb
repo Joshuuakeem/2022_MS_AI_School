{
  "nbformat": 4,
  "nbformat_minor": 0,
  "metadata": {
    "colab": {
      "provenance": []
    },
    "kernelspec": {
      "name": "python3",
      "display_name": "Python 3"
    },
    "language_info": {
      "name": "python"
    }
  },
  "cells": [
    {
      "cell_type": "code",
      "source": [
        "import cv2\n",
        "from google.colab.patches import cv2_imshow\n",
        "import numpy as np"
      ],
      "metadata": {
        "id": "2qztSy3Zu1hI"
      },
      "execution_count": null,
      "outputs": []
    },
    {
      "cell_type": "code",
      "execution_count": null,
      "metadata": {
        "colab": {
          "base_uri": "https://localhost:8080/",
          "height": 560
        },
        "id": "UApgO8aIuhfx",
        "outputId": "91229aba-1a46-4343-9b3e-e21e97f7b561"
      },
      "outputs": [
        {
          "output_type": "display_data",
          "data": {
            "text/plain": [
              "<PIL.Image.Image image mode=L size=862x523 at 0x7F8EA3E05F10>"
            ],
            "image/png": "[encoded data removed]"
          },
          "metadata": {}
        }
      ],
      "source": [
        "image_path = \"./test01.png\"\n",
        "image_read = cv2.imread(image_path)\n",
        "image_gray = cv2.cvtColor(image_read, cv2.COLOR_BGR2GRAY)\n",
        "\n",
        "# 감지할 모서리 개수\n",
        "corners_to_detect = 4\n",
        "minimum_quality_score = 0.05\n",
        "mininum_distance = 25\n",
        "\n",
        "# 모서리 감지\n",
        "corners = cv2.goodFeaturesToTrack(\n",
        "    image_gray, corners_to_detect, minimum_quality_score, mininum_distance)\n",
        "\n",
        "for corner in corners:\n",
        "    x, y = corner[0]\n",
        "    cv2.circle(image_read, (int(x), int(y)), 10, (0, 255, 0), -1)\n",
        "\n",
        "image_gray_temp = cv2.cvtColor(image_read, cv2.COLOR_BGR2GRAY)\n",
        "cv2_imshow(image_gray_temp)\n"
      ]
    },
    {
      "cell_type": "code",
      "source": [],
      "metadata": {
        "id": "3ZXZ7DlRu9et"
      },
      "execution_count": null,
      "outputs": []
    }
  ]
}