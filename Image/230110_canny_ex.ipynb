{
  "nbformat": 4,
  "nbformat_minor": 0,
  "metadata": {
    "colab": {
      "provenance": []
    },
    "kernelspec": {
      "name": "python3",
      "display_name": "Python 3"
    },
    "language_info": {
      "name": "python"
    }
  },
  "cells": [
    {
      "cell_type": "code",
      "execution_count": null,
      "metadata": {
        "id": "DQGc7RoHWGfX"
      },
      "outputs": [],
      "source": [
        "import cv2\n",
        "import numpy as np\n",
        "from google.colab.patches import cv2_imshow"
      ]
    },
    {
      "cell_type": "code",
      "source": [
        "# 이미지 읽기\n",
        "image = cv2.imread('./test.png')"
      ],
      "metadata": {
        "id": "Qw_zddNtWRC8"
      },
      "execution_count": null,
      "outputs": []
    },
    {
      "cell_type": "code",
      "source": [
        "# 이미지 읽기\n",
        "image = cv2.imread('./test.png')\n",
        "\n",
        "# 경계선 찾기\n",
        "image_gray = cv2.imread('./test.png', cv2.IMREAD_GRAYSCALE)\n",
        "\n",
        "# 픽셀 강도의 중간값을 계산\n",
        "mdeian_intensity = np.median(image_gray)\n",
        "\n",
        "# 중간 픽셀 강도에서 위아래 1표준편차 떨어진 값을 임계값으로 설정\n",
        "lower_threshold = int(max(0, (1.0 - 0.33) * mdeian_intensity))\n",
        "upper_threshold = int(min(255,  (1.0 + 0.33) * mdeian_intensity))\n",
        "\n",
        "# Canny edge Detection 적용\n",
        "image_canny = cv2.Canny(image_gray, lower_threshold, upper_threshold)\n",
        "cv2_imshow(image_canny)"
      ],
      "metadata": {
        "colab": {
          "base_uri": "https://localhost:8080/",
          "height": 517
        },
        "id": "Eb2SopWpWXgn",
        "outputId": "12160101-6958-4120-d875-747f01ebc707"
      },
      "execution_count": null,
      "outputs": [
        {
          "output_type": "display_data",
          "data": {
            "text/plain": [
              "<PIL.Image.Image image mode=L size=500x500 at 0x7F0A95A26F70>"
            ],
            "image/png": "[encoded data removed]"
          },
          "metadata": {}
        }
      ]
    },
    {
      "cell_type": "code",
      "source": [],
      "metadata": {
        "id": "t51dXcTKWjpq"
      },
      "execution_count": null,
      "outputs": []
    }
  ]
}