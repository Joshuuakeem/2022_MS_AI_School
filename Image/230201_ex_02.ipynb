{
  "nbformat": 4,
  "nbformat_minor": 0,
  "metadata": {
    "colab": {
      "provenance": []
    },
    "kernelspec": {
      "name": "python3",
      "display_name": "Python 3"
    },
    "language_info": {
      "name": "python"
    }
  },
  "cells": [
    {
      "cell_type": "code",
      "execution_count": null,
      "metadata": {
        "id": "YFk5aKLdWnAn"
      },
      "outputs": [],
      "source": [
        "import cv2\n",
        "import numpy as np\n",
        "from google.colab.patches import cv2_imshow"
      ]
    },
    {
      "cell_type": "code",
      "source": [
        "# ex-01\n",
        "img_rectangle = np.ones((400, 400), dtype='uint8')\n",
        "cv2.rectangle(img_rectangle, (50, 50), (300, 300), (255, 255, 255), -1)\n",
        "#cv2_imshow(img_rectangle)\n",
        "#cv2.waitKey(0)"
      ],
      "metadata": {
        "colab": {
          "base_uri": "https://localhost:8080/",
          "height": 435
        },
        "id": "34y7G-nkYTBK",
        "outputId": "1cc3b148-6fa4-46da-804f-e0a7fca0fd73"
      },
      "execution_count": null,
      "outputs": [
        {
          "output_type": "display_data",
          "data": {
            "text/plain": [
              "<PIL.Image.Image image mode=L size=400x400 at 0x7F63327CDEB0>"
            ],
            "image/png": "[encoded data removed]"
          },
          "metadata": {}
        },
        {
          "output_type": "execute_result",
          "data": {
            "text/plain": [
              "-1"
            ]
          },
          "metadata": {},
          "execution_count": 32
        }
      ]
    },
    {
      "cell_type": "code",
      "source": [
        "# ex-02\n",
        "img_circle = np.ones((400, 400), dtype='uint8')\n",
        "cv2.circle(img_circle, (300, 300), 70, (255, 255, 255), -1)\n",
        "#cv2_imshow(img_circle)\n",
        "#cv2.waitKey(0)"
      ],
      "metadata": {
        "colab": {
          "base_uri": "https://localhost:8080/",
          "height": 435
        },
        "id": "rrQT5GawWrtV",
        "outputId": "927b1ec3-7426-4e51-8d27-52bb5b546f2b"
      },
      "execution_count": null,
      "outputs": [
        {
          "output_type": "display_data",
          "data": {
            "text/plain": [
              "<PIL.Image.Image image mode=L size=400x400 at 0x7F6331B189D0>"
            ],
            "image/png": "[encoded data removed]"
          },
          "metadata": {}
        },
        {
          "output_type": "execute_result",
          "data": {
            "text/plain": [
              "-1"
            ]
          },
          "metadata": {},
          "execution_count": 33
        }
      ]
    },
    {
      "cell_type": "code",
      "source": [
        "# ex-03\n",
        "#bitwiseAnd = cv2.bitwise_and(img_rectangle, img_circle)\n",
        "#cv2_imshow(bitwiseAnd)\n",
        "#cv2.waitKey(0)\n",
        "\n",
        "#bitwiseOr = cv2.bitwise_or(img_rectangle, img_circle)\n",
        "#cv2_imshow(bitwiseOr)\n",
        "#cv2.waitKey(0)\n",
        "\n",
        "#bitwiseXor = cv2.bitwise_xor(img_rectangle, img_circle)\n",
        "#cv2_imshow(bitwiseXor)\n",
        "#cv2.waitKey(0)\n",
        "\n",
        "#rec_not = cv2.bitwise_not(img_rectangle)\n",
        "#cv2_imshow(rec_not)\n",
        "#cv2.waitKey(0)\n",
        "\n",
        "circle_not = cv2.bitwise_not(img_circle)\n",
        "cv2_imshow(circle_not)\n",
        "cv2.waitKey(0)"
      ],
      "metadata": {
        "colab": {
          "base_uri": "https://localhost:8080/",
          "height": 435
        },
        "id": "cPHtzS_wW83c",
        "outputId": "f2e67a10-85ec-45d3-ddd3-a7ee8587167e"
      },
      "execution_count": null,
      "outputs": [
        {
          "output_type": "display_data",
          "data": {
            "text/plain": [
              "<PIL.Image.Image image mode=L size=400x400 at 0x7F6331B18310>"
            ],
            "image/png": "[encoded data removed]"
          },
          "metadata": {}
        },
        {
          "output_type": "execute_result",
          "data": {
            "text/plain": [
              "-1"
            ]
          },
          "metadata": {},
          "execution_count": 38
        }
      ]
    },
    {
      "cell_type": "code",
      "source": [],
      "metadata": {
        "id": "wCReDewwc-OR"
      },
      "execution_count": null,
      "outputs": []
    }
  ]
}