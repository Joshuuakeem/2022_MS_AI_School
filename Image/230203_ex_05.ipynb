{
  "nbformat": 4,
  "nbformat_minor": 0,
  "metadata": {
    "colab": {
      "provenance": []
    },
    "kernelspec": {
      "name": "python3",
      "display_name": "Python 3"
    },
    "language_info": {
      "name": "python"
    }
  },
  "cells": [
    {
      "cell_type": "code",
      "execution_count": null,
      "metadata": {
        "id": "58j7EmoWzPzY"
      },
      "outputs": [],
      "source": [
        "import numpy as np\n",
        "import matplotlib.pyplot as plt\n",
        "import cv2\n",
        "from google.colab.patches import cv2_imshow"
      ]
    },
    {
      "cell_type": "code",
      "source": [
        "##### 그리기 위한 함수\n",
        "def drawhoughLinesOnImage(image, houghLine):\n",
        "  for line in houghLine:\n",
        "    for rho, theta in line:\n",
        "      a = np.cos(theta)\n",
        "      b = np.sin(theta)\n",
        "      x0 = a*rho\n",
        "      y0 = b*rho\n",
        "      x1 = int(x0 + 1000 * (-b))\n",
        "      y1 = int(y0 + 1000 * (a))\n",
        "      x2 = int(x0 - 1000 * (-b))\n",
        "      y2 = int(x0 - 1000 * (a))\n",
        "\n",
        "    cv2.line(image, (x1, y1), (x2, y2), (0, 255, 0), 2)\n",
        "\n",
        "def draw_circle(houghImage, circle):\n",
        "  for co, i, in enumerate(circle[0, :], start=1):\n",
        "    cv2.circle(img, (i[0], i[1], i[2], (255, 0, 255), 3))\n",
        "\n",
        "# Different weights are added to the image to give a feeling of blending\n",
        "# 1.0 == 1.\n",
        "def blend_images(image, final_image, alpha=0.7, beta-1., gamma=0.):\n",
        "  return\n",
        "\n",
        "# 1. 이미지 불러오기\n",
        "image = cv2.imread('test02.png')\n",
        "\n",
        "# 2. grayscale\n",
        "gray_image = cv2.cvtColor(image, cv2.COLOR_RGB2GRAY)\n",
        "\n",
        "# 3. 가우시안 블러 적용\n",
        "blurredImage = cv2.GaussianBlur(gray_image, (5,5), 0)\n",
        "edgeImage = cv2.Canny(blurredImage, 50, 120)\n",
        "\n",
        "# 4. Detect points that form a line\n",
        "dis_reso = 1 # Distance resolution in pixels of the Hough grid\n",
        "theta = np.pi / 180\n",
        "threshold = 170\n",
        "\n",
        "houghLine = cv2.HoughLines(edgeImage, dis_reso, theta, threshold)\n",
        "circles = cv2.HoughCircles(\n",
        "    blurredImage, method=cv2.HOUGH_GRADIENT, dp=0.7, minDist=12,\n",
        "    param1=70, param2=80)\n",
        "\n",
        "# 5. Create and empty image\n",
        "houghImage = np.zeros_like(image)\n",
        "\n",
        "drawhoughLinesOnImage(houghImage, houghLine)\n",
        "draw_circle(houghImage, circles)\n",
        "\n",
        "originalImageWithHough = blend_images(houghImage, image)\n",
        "cv2_imshow(originalImageWithHough)\n",
        "\n",
        "\n",
        "\n",
        "\n",
        "\n",
        "cv2_imshow(houghImage)\n",
        "cv2.waitKey(0)"
      ],
      "metadata": {
        "colab": {
          "base_uri": "https://localhost:8080/",
          "height": 320
        },
        "id": "1qI8YLuWzpUV",
        "outputId": "cb4e9a4e-ee0b-46f8-d3d5-3bae47591685"
      },
      "execution_count": null,
      "outputs": [
        {
          "output_type": "display_data",
          "data": {
            "text/plain": [
              "<PIL.Image.Image image mode=RGB size=420x285 at 0x7F52E24865E0>"
            ],
            "image/png": "[encoded data removed]"
          },
          "metadata": {}
        },
        {
          "output_type": "execute_result",
          "data": {
            "text/plain": [
              "-1"
            ]
          },
          "metadata": {},
          "execution_count": 9
        }
      ]
    },
    {
      "cell_type": "code",
      "source": [],
      "metadata": {
        "id": "NplPkZDwz4qI"
      },
      "execution_count": null,
      "outputs": []
    }
  ]
}